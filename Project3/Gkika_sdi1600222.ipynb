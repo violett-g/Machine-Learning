{
  "cells": [
    {
      "cell_type": "markdown",
      "metadata": {
        "id": "xacuLw3c5CmF"
      },
      "source": [
        "# General assumptions \n",
        "\n",
        "The notebook is built in a way that one can run each question ( 1 and 2) independently. Since there is a code overlap between question 1 and 2 if you want to run question 2 after runing question 1 you can either ignore the cells marked with #* or you can reinitialize runtime and run the notebook from the section \"Ερώτημα 2: Convolutional Neural Network\" and after.\n",
        "\n",
        "To load the data fro Exercise 1-3 I have mount my google drive.\n",
        "\n",
        "To run question 3 you have to run question 2 prior since question 3 is a imporved version of what we did on question 2. Question 3 includes only the needed changes on the code developed on question 2 and of course all the required explanations/comments of the testing proccess.\n",
        "\n",
        "Also tu run question 4 you have to run question 3 prior in order to save the model. \n",
        "\n",
        "In order to keep track of the different changes required in every question I have kept different versions of the network class and training procces (not in all cases) so as one can run seperatly if want to test a specific part of the project. So, the last version in the end of the notebook is the complente network class and the training procces."
      ]
    },
    {
      "cell_type": "markdown",
      "metadata": {
        "id": "KhRui3Oo4y42"
      },
      "source": [
        "#Ερώτημα 1: Feedforward Neural Network"
      ]
    },
    {
      "cell_type": "markdown",
      "metadata": {
        "id": "DmhOLV8hyKlT"
      },
      "source": [
        "Mount drive to get data"
      ]
    },
    {
      "cell_type": "code",
      "execution_count": 3,
      "metadata": {
        "colab": {
          "base_uri": "https://localhost:8080/"
        },
        "id": "ihgcjr7-S5iP",
        "outputId": "2af3063d-82ed-4e6e-ea05-dfef9bdc35d1"
      },
      "outputs": [
        {
          "name": "stdout",
          "output_type": "stream",
          "text": [
            "Mounted at /content/gdrive\n"
          ]
        }
      ],
      "source": [
        "from google.colab import drive\n",
        "drive.mount('/content/gdrive')"
      ]
    },
    {
      "cell_type": "code",
      "execution_count": 4,
      "metadata": {
        "colab": {
          "base_uri": "https://localhost:8080/"
        },
        "id": "Now8B_oZTs2n",
        "outputId": "2c933662-404d-4c0a-c6ba-6b66e7d0b936"
      },
      "outputs": [
        {
          "name": "stdout",
          "output_type": "stream",
          "text": [
            "/content/gdrive/MyDrive\n",
            "Archive:  Copy of data.zip\n",
            "   creating: music_genre_data_di/\n",
            "   creating: music_genre_data_di/test/\n",
            "   creating: music_genre_data_di/test/melgrams/\n",
            "  inflating: music_genre_data_di/test/melgrams/X.npy  \n",
            "  inflating: music_genre_data_di/test/melgrams/labels.npy  \n",
            "   creating: music_genre_data_di/test/mfccs/\n",
            "  inflating: music_genre_data_di/test/mfccs/X.npy  \n",
            "  inflating: music_genre_data_di/test/mfccs/labels.npy  \n",
            "   creating: music_genre_data_di/train/\n",
            "   creating: music_genre_data_di/train/melgrams/\n",
            "  inflating: music_genre_data_di/train/melgrams/X.npy  \n",
            "  inflating: music_genre_data_di/train/melgrams/labels.npy  \n",
            "   creating: music_genre_data_di/train/mfccs/\n",
            "  inflating: music_genre_data_di/train/mfccs/X.npy  \n",
            "  inflating: music_genre_data_di/train/mfccs/labels.npy  \n",
            "   creating: music_genre_data_di/val/\n",
            "   creating: music_genre_data_di/val/melgrams/\n",
            "  inflating: music_genre_data_di/val/melgrams/X.npy  \n",
            "  inflating: music_genre_data_di/val/melgrams/labels.npy  \n",
            "   creating: music_genre_data_di/val/mfccs/\n",
            "  inflating: music_genre_data_di/val/mfccs/X.npy  \n",
            "  inflating: music_genre_data_di/val/mfccs/labels.npy  \n",
            "/content\n"
          ]
        }
      ],
      "source": [
        "from os import chdir as cd\n",
        "%cd gdrive/MyDrive\n",
        "#unzip files\n",
        "!unzip 'Copy of data.zip'\n",
        "#move file \n",
        "!mv music_genre_data_di ../..\n",
        "%cd ../.."
      ]
    },
    {
      "cell_type": "markdown",
      "metadata": {
        "id": "qExPR9d3S66y"
      },
      "source": [
        "**Βήμα 1: Φόρτωση δεδομένων (mfccs)**"
      ]
    },
    {
      "cell_type": "markdown",
      "metadata": {
        "id": "gndJ0kowyWqk"
      },
      "source": [
        "Load data"
      ]
    },
    {
      "cell_type": "code",
      "execution_count": 5,
      "metadata": {
        "colab": {
          "base_uri": "https://localhost:8080/"
        },
        "id": "6g6wdC45kKd5",
        "outputId": "f14a51b4-08fe-419f-dcd2-7cf5d2b368f6"
      },
      "outputs": [
        {
          "name": "stdout",
          "output_type": "stream",
          "text": [
            "/content/music_genre_data_di\n"
          ]
        }
      ],
      "source": [
        "import pandas as pd\n",
        "import numpy as np\n",
        "%cd music_genre_data_di/\n",
        "#load mfccs\n",
        "train_X = np.load('train/mfccs/X.npy')\n",
        "test_X = np.load('test/mfccs/X.npy')\n",
        "val_X = np.load('val/mfccs/X.npy')\n",
        "#load labels\n",
        "train_lbl = np.load('train/mfccs/labels.npy')\n",
        "test_lbl = np.load('test/mfccs/labels.npy')\n",
        "val_lbl = np.load('val/mfccs/labels.npy')"
      ]
    },
    {
      "cell_type": "code",
      "execution_count": 6,
      "metadata": {
        "colab": {
          "base_uri": "https://localhost:8080/"
        },
        "id": "BcSwI_42H8yt",
        "outputId": "74d9e2fd-9bb8-475a-d504-1950ff985f2c"
      },
      "outputs": [
        {
          "data": {
            "text/plain": [
              "(3200, 26)"
            ]
          },
          "execution_count": 6,
          "metadata": {},
          "output_type": "execute_result"
        }
      ],
      "source": [
        "train_X.shape\n"
      ]
    },
    {
      "cell_type": "markdown",
      "metadata": {
        "id": "QQYxpSVayYy8"
      },
      "source": [
        "Map labels to indexes "
      ]
    },
    {
      "cell_type": "code",
      "execution_count": 7,
      "metadata": {
        "id": "DEUduSABxMXx"
      },
      "outputs": [],
      "source": [
        "#convert labels to indexes (0-3)\n",
        "train_lbl_lookup, train_lbl_idx = np.unique(train_lbl, return_inverse=True)\n",
        "test_lbl_lookup, test_lbl_idx = np.unique(test_lbl, return_inverse=True)\n",
        "val_lbl_lookup, val_lbl_idx = np.unique(val_lbl, return_inverse=True)"
      ]
    },
    {
      "cell_type": "code",
      "execution_count": 8,
      "metadata": {
        "colab": {
          "base_uri": "https://localhost:8080/"
        },
        "id": "KYCopGipB6fa",
        "outputId": "eca198ff-44a9-4f81-fab1-2a57bb8fd28d"
      },
      "outputs": [
        {
          "data": {
            "text/plain": [
              "array(['blues', 'classical', 'hiphop', 'rock_metal_hardrock'],\n",
              "      dtype='<U19')"
            ]
          },
          "execution_count": 8,
          "metadata": {},
          "output_type": "execute_result"
        }
      ],
      "source": [
        "train_lbl_lookup"
      ]
    },
    {
      "cell_type": "markdown",
      "metadata": {
        "id": "aB3K5tXiybnS"
      },
      "source": [
        "Dataloader"
      ]
    },
    {
      "cell_type": "code",
      "execution_count": 9,
      "metadata": {
        "id": "1c1B3tdIyeyi"
      },
      "outputs": [],
      "source": [
        "import torch\n",
        "from torch.utils.data import Dataset, DataLoader\n",
        "import torch.nn as nn\n",
        "class Custom_Dataset(Dataset):\n",
        "  def __init__(self,data,targets, transform= None):\n",
        "    self.data = data\n",
        "    # self.targets = torch.LongTensor(targets)\n",
        "    self.targets = targets\n",
        "    self.transform = transform\n",
        "\n",
        "  def __len__(self):\n",
        "    return len(self.data)\n",
        "\n",
        "  def __getitem__(self, index):\n",
        "    x = self.data[index]\n",
        "    y = self.targets[index]\n",
        "      \n",
        "    if self.transform:\n",
        "      # x = Image.fromarray(self.data[index].astype(np.uint8).transpose(1,2,0))\n",
        "      x = self.transform(x)\n",
        "      y = self.transform(y)      \n",
        "    return x, y"
      ]
    },
    {
      "cell_type": "code",
      "execution_count": 10,
      "metadata": {
        "id": "CUOn1ikc-l5z"
      },
      "outputs": [],
      "source": [
        "train_dataset = Custom_Dataset(train_X,train_lbl_idx, transform=None)\n",
        "train_dataloader = DataLoader(train_dataset, batch_size=16, shuffle = True)\n",
        "\n",
        "validation_dataset = Custom_Dataset(val_X,val_lbl_idx, transform=None)\n",
        "validation_dataloader = DataLoader(validation_dataset, batch_size=16, shuffle = True)\n",
        "\n",
        "test_dataset = Custom_Dataset(test_X,test_lbl_idx, transform=None)\n",
        "test_dataloader = DataLoader(test_dataset, batch_size=16, shuffle = True)"
      ]
    },
    {
      "cell_type": "markdown",
      "metadata": {
        "id": "YMej4KitS-gq"
      },
      "source": [
        "**Βήμα 2: Ορισμός Νευρωνικού Δικτύου**"
      ]
    },
    {
      "cell_type": "markdown",
      "metadata": {
        "id": "frNWiI4YAo4a"
      },
      "source": [
        "Feed Fowrawrd Neural Network"
      ]
    },
    {
      "cell_type": "code",
      "execution_count": 11,
      "metadata": {
        "id": "sBpCqTqzAtFx"
      },
      "outputs": [],
      "source": [
        "#define netwrok class\n",
        "class my_Network(nn.Module):\n",
        "    def __init__(self, D_in, H1, H2, H3, D_out):\n",
        "        super(my_Network, self).__init__()\n",
        "        \n",
        "        self.linear1 = nn.Linear(D_in, H1)\n",
        "        self.linear2 = nn.Linear(H1, H2)\n",
        "        self.linear3 = nn.Linear(H2, H3)\n",
        "        self.linear4 = nn.Linear(H3, D_out)\n",
        "        \n",
        "    def forward(self, x):\n",
        "        out = self.linear1(x)\n",
        "        out = self.linear2(out)\n",
        "        out = self.linear3(out)\n",
        "        out = self.linear4(out)\n",
        "        return out"
      ]
    },
    {
      "cell_type": "markdown",
      "metadata": {
        "id": "APcyWE7KTLiA"
      },
      "source": [
        "Helper functions and imports fror training and validation"
      ]
    },
    {
      "cell_type": "code",
      "execution_count": 12,
      "metadata": {
        "id": "YAckgLC-Fafq"
      },
      "outputs": [],
      "source": [
        "from sklearn.preprocessing import label_binarize\n",
        "from sklearn.metrics import precision_score\n",
        "from sklearn.metrics import recall_score\n",
        "from sklearn.metrics import f1_score\n",
        "from sklearn.metrics import accuracy_score\n",
        "from sklearn.metrics import confusion_matrix\n",
        "import seaborn as sns; sns.set_theme()\n",
        "import itertools\n",
        "from sklearn.preprocessing import MinMaxScaler\n",
        "from sklearn.preprocessing import StandardScaler\n",
        "import numpy\n",
        "import time\n",
        "\n",
        "#utility function to flaten a list and convert to a numpy array\n",
        "def convert(array):\n",
        "  pred_list=[]\n",
        "  for i in array:\n",
        "    pred_list.append(i.tolist())\n",
        "  merged_pred = list(itertools.chain(*pred_list))\n",
        "  predicted_labels = numpy.array(merged_pred)\n",
        "  return predicted_labels"
      ]
    },
    {
      "cell_type": "markdown",
      "metadata": {
        "id": "C0NKtXZ0TAJu"
      },
      "source": [
        "**Βήμα 3: Ορισμός διαδικασίας εκπαίδευσης**"
      ]
    },
    {
      "cell_type": "code",
      "execution_count": 13,
      "metadata": {
        "id": "5Ph9QKgkP3pH"
      },
      "outputs": [],
      "source": [
        "def train_(train_dataloader):\n",
        "  train_batch_losses = []\n",
        "  pred_arr=[]\n",
        "  true_arr=[]\n",
        "  correct = 0\n",
        "\n",
        "  for x_batch, y_batch in train_dataloader:\n",
        "    x_batch = x_batch.to(device)\n",
        "    y_batch = y_batch.to(device)\n",
        "\n",
        "    y_pred = model(x_batch.float())\n",
        "\n",
        "    #store label baches and their prediction to use for f1 calculation\n",
        "    _, predicted = torch.max(y_pred, 1) #keep the label with the gratest propability\n",
        "    true_arr.append(y_batch)\n",
        "    pred_arr.append(predicted)\n",
        "\n",
        "    loss = loss_func(y_pred, y_batch)#calculate loss\n",
        "    train_batch_losses.append(loss.item())\n",
        "\n",
        "    \n",
        "    optimizer.zero_grad()#Delete previously stored gradients\n",
        "    loss.backward()#Perform backpropagation starting from the loss calculated in this epoch\n",
        "    optimizer.step()#Update model's weights based on the gradients calculated during backprop\n",
        "  \n",
        "  #modify baches and prediction shape to calculate f1 score\n",
        "  train_true = convert(true_arr)\n",
        "  train_pred = convert(pred_arr)\n",
        "  return train_true, train_pred, train_batch_losses\n"
      ]
    },
    {
      "cell_type": "markdown",
      "metadata": {
        "id": "D66aH-IlRJ8J"
      },
      "source": [
        "**Βήμα 4: Ορισμός διαδικασίας αξιολόγησης**"
      ]
    },
    {
      "cell_type": "code",
      "execution_count": 14,
      "metadata": {
        "id": "RbvJ1EshRNXj"
      },
      "outputs": [],
      "source": [
        "def validate_(validation_dataloader):\n",
        "    val_batch_losses = []\n",
        "    pred_arr=[]\n",
        "    batch_arr=[]\n",
        "    correct = 0\n",
        "    for x_batch, y_batch in validation_dataloader:\n",
        "      x_batch = x_batch.to(device)\n",
        "      y_batch = y_batch.to(device)\n",
        "      y_pred = model(x_batch.float())\n",
        "      _, predicted = torch.max(y_pred, 1)#keep the label with the greatest propability\n",
        "\n",
        "      #loss calculation per batch\n",
        "      val_loss = loss_func(y_pred, y_batch)\n",
        "      val_batch_losses.append(val_loss.item())\n",
        "\n",
        "      #store baches and their prediction to use for f1 calculation\n",
        "      batch_arr.append(y_batch)\n",
        "      pred_arr.append(predicted)\n",
        "\n",
        "    #modify baches and prediction shape to calculate f1 score\n",
        "    val_true = convert(batch_arr)\n",
        "    val_pred = convert(pred_arr)\n",
        "    return val_true, val_pred, val_batch_losses"
      ]
    },
    {
      "cell_type": "markdown",
      "metadata": {
        "id": "vc23pIBhTTgV"
      },
      "source": [
        "**Βήμα 5: Εκπαίδευση δικτύου**"
      ]
    },
    {
      "cell_type": "code",
      "execution_count": 15,
      "metadata": {
        "id": "VESoktmwE00B"
      },
      "outputs": [],
      "source": [
        "device = torch.device('cpu')\n",
        "#Define layer sizes\n",
        "D_in = train_dataset[0][0].shape[0]\n",
        "H1 = 26\n",
        "H2 = 128\n",
        "H3 = 32\n",
        "D_out = 4 \n",
        "\n",
        "#Initialize model, loss, optimizer\n",
        "model = my_Network(D_in, H1, H2, H3, D_out).to(device)\n",
        "\n",
        "#Define Hyperparameters\n",
        "learning_rate = 0.002\n",
        "loss_func = nn.CrossEntropyLoss()\n",
        "optimizer = torch.optim.SGD(model.parameters(), lr=learning_rate)"
      ]
    },
    {
      "cell_type": "code",
      "execution_count": 16,
      "metadata": {
        "colab": {
          "base_uri": "https://localhost:8080/",
          "height": 35
        },
        "id": "ETvRdj5bIfie",
        "outputId": "59dcc112-194b-4fa8-a105-fc5f3f96f328"
      },
      "outputs": [
        {
          "data": {
            "application/vnd.google.colaboratory.intrinsic+json": {
              "type": "string"
            },
            "text/plain": [
              "'/device:GPU:0'"
            ]
          },
          "execution_count": 16,
          "metadata": {},
          "output_type": "execute_result"
        }
      ],
      "source": [
        "import tensorflow as tf\n",
        "tf.test.gpu_device_name()"
      ]
    },
    {
      "cell_type": "markdown",
      "metadata": {
        "id": "NBOav2UnR46e"
      },
      "source": [
        "Train and validate"
      ]
    },
    {
      "cell_type": "code",
      "execution_count": 17,
      "metadata": {
        "colab": {
          "base_uri": "https://localhost:8080/",
          "height": 1000
        },
        "id": "hQ4kf_vhR4o3",
        "outputId": "0fca5cd1-7e1f-48e5-cc42-8d91c4377dc2"
      },
      "outputs": [
        {
          "name": "stdout",
          "output_type": "stream",
          "text": [
            "Epoch:  1 \n",
            " --------------------------\n",
            "Loss: \n",
            " train:  0.08781271185725928 \n",
            " validation:  0.08727064505219459\n",
            "Accuracy: \n",
            " train:  23.00% \n",
            " validation : 25.00 % \n",
            "F1 SCORE: \n",
            " train:  0.20458577360324356  \n",
            " validation:  0.1\n",
            "\n",
            "\n",
            "Epoch:  2 \n",
            " --------------------------\n",
            "Loss: \n",
            " train:  0.08662045311182737 \n",
            " validation:  0.08668351620435714\n",
            "Accuracy: \n",
            " train:  26.00% \n",
            " validation : 25.25 % \n",
            "F1 SCORE: \n",
            " train:  0.24505653492602142  \n",
            " validation:  0.10538056134330188\n",
            "\n",
            "\n",
            "Epoch:  3 \n",
            " --------------------------\n",
            "Loss: \n",
            " train:  0.08633407302200795 \n",
            " validation:  0.08568364888429642\n",
            "Accuracy: \n",
            " train:  27.06% \n",
            " validation : 31.50 % \n",
            "F1 SCORE: \n",
            " train:  0.25264348607097564  \n",
            " validation:  0.21158256171738643\n",
            "\n",
            "\n",
            "Epoch:  4 \n",
            " --------------------------\n",
            "Loss: \n",
            " train:  0.08574308898299933 \n",
            " validation:  0.0854034562408924\n",
            "Accuracy: \n",
            " train:  30.44% \n",
            " validation : 34.12 % \n",
            "F1 SCORE: \n",
            " train:  0.3027390469987543  \n",
            " validation:  0.2387609649122807\n",
            "\n",
            "\n",
            "Epoch:  5 \n",
            " --------------------------\n",
            "Loss: \n",
            " train:  0.08530744671821594 \n",
            " validation:  0.08472273841500283\n",
            "Accuracy: \n",
            " train:  32.41% \n",
            " validation : 45.12 % \n",
            "F1 SCORE: \n",
            " train:  0.3022484790395532  \n",
            " validation:  0.4022259010944175\n",
            "\n",
            "\n",
            "Epoch:  6 \n",
            " --------------------------\n",
            "Loss: \n",
            " train:  0.08467936210334301 \n",
            " validation:  0.08416335105895996\n",
            "Accuracy: \n",
            " train:  35.34% \n",
            " validation : 49.88 % \n",
            "F1 SCORE: \n",
            " train:  0.34644736700157586  \n",
            " validation:  0.4516519285635473\n",
            "\n",
            "\n",
            "Epoch:  7 \n",
            " --------------------------\n",
            "Loss: \n",
            " train:  0.08406757351011038 \n",
            " validation:  0.08380982115864753\n",
            "Accuracy: \n",
            " train:  38.00% \n",
            " validation : 40.75 % \n",
            "F1 SCORE: \n",
            " train:  0.3772461470194336  \n",
            " validation:  0.273879706519039\n",
            "\n",
            "\n",
            "Epoch:  8 \n",
            " --------------------------\n",
            "Loss: \n",
            " train:  0.08345468755811453 \n",
            " validation:  0.08278544381260872\n",
            "Accuracy: \n",
            " train:  40.38% \n",
            " validation : 54.87 % \n",
            "F1 SCORE: \n",
            " train:  0.3792513401990877  \n",
            " validation:  0.47401846474332937\n",
            "\n",
            "\n",
            "Epoch:  9 \n",
            " --------------------------\n",
            "Loss: \n",
            " train:  0.08251883536577224 \n",
            " validation:  0.08233914569020272\n",
            "Accuracy: \n",
            " train:  43.12% \n",
            " validation : 25.87 % \n",
            "F1 SCORE: \n",
            " train:  0.4111113612477733  \n",
            " validation:  0.11785055154251703\n",
            "\n",
            "\n",
            "Epoch:  10 \n",
            " --------------------------\n",
            "Loss: \n",
            " train:  0.08168992005288601 \n",
            " validation:  0.08111120387911797\n",
            "Accuracy: \n",
            " train:  44.69% \n",
            " validation : 37.00 % \n",
            "F1 SCORE: \n",
            " train:  0.4280454668547803  \n",
            " validation:  0.2704595667336755\n",
            "\n",
            "\n",
            "Epoch:  11 \n",
            " --------------------------\n",
            "Loss: \n",
            " train:  0.08069625809788704 \n",
            " validation:  0.08001718625426292\n",
            "Accuracy: \n",
            " train:  48.16% \n",
            " validation : 44.62 % \n",
            "F1 SCORE: \n",
            " train:  0.4542185623681601  \n",
            " validation:  0.3960940544920556\n",
            "\n",
            "\n",
            "Epoch:  12 \n",
            " --------------------------\n",
            "Loss: \n",
            " train:  0.07952468384057283 \n",
            " validation:  0.08018715098500252\n",
            "Accuracy: \n",
            " train:  49.94% \n",
            " validation : 38.38 % \n",
            "F1 SCORE: \n",
            " train:  0.45067682628494055  \n",
            " validation:  0.3119663662780339\n",
            "\n",
            "\n",
            "Epoch:  13 \n",
            " --------------------------\n",
            "Loss: \n",
            " train:  0.07796239960938692 \n",
            " validation:  0.07683496922254562\n",
            "Accuracy: \n",
            " train:  50.94% \n",
            " validation : 54.25 % \n",
            "F1 SCORE: \n",
            " train:  0.46997307712954906  \n",
            " validation:  0.49537450887453427\n",
            "\n",
            "\n",
            "Epoch:  14 \n",
            " --------------------------\n",
            "Loss: \n",
            " train:  0.07637233082205057 \n",
            " validation:  0.07518796488642693\n",
            "Accuracy: \n",
            " train:  52.12% \n",
            " validation : 50.75 % \n",
            "F1 SCORE: \n",
            " train:  0.4801926552488952  \n",
            " validation:  0.41279191963793876\n",
            "\n",
            "\n",
            "Epoch:  15 \n",
            " --------------------------\n",
            "Loss: \n",
            " train:  0.07474993478506803 \n",
            " validation:  0.07311957366764546\n",
            "Accuracy: \n",
            " train:  52.34% \n",
            " validation : 58.00 % \n",
            "F1 SCORE: \n",
            " train:  0.4908157029230156  \n",
            " validation:  0.5022979402258796\n",
            "\n",
            "\n",
            "Epoch:  16 \n",
            " --------------------------\n",
            "Loss: \n",
            " train:  0.07281593691557646 \n",
            " validation:  0.07120786517858506\n",
            "Accuracy: \n",
            " train:  52.75% \n",
            " validation : 60.75 % \n",
            "F1 SCORE: \n",
            " train:  0.4841083133747827  \n",
            " validation:  0.5881587190771833\n",
            "\n",
            "\n",
            "Epoch:  17 \n",
            " --------------------------\n",
            "Loss: \n",
            " train:  0.07100049080327153 \n",
            " validation:  0.06937282875180245\n",
            "Accuracy: \n",
            " train:  53.87% \n",
            " validation : 55.12 % \n",
            "F1 SCORE: \n",
            " train:  0.5056510026867252  \n",
            " validation:  0.46600596500328\n",
            "\n",
            "\n",
            "Epoch:  18 \n",
            " --------------------------\n",
            "Loss: \n",
            " train:  0.06957628283649683 \n",
            " validation:  0.06766093157231808\n",
            "Accuracy: \n",
            " train:  55.12% \n",
            " validation : 60.12 % \n",
            "F1 SCORE: \n",
            " train:  0.5138520261916746  \n",
            " validation:  0.5642224877288574\n",
            "\n",
            "\n",
            "Epoch:  19 \n",
            " --------------------------\n",
            "Loss: \n",
            " train:  0.06812328293919563 \n",
            " validation:  0.06669557444751263\n",
            "Accuracy: \n",
            " train:  55.62% \n",
            " validation : 59.00 % \n",
            "F1 SCORE: \n",
            " train:  0.5262681156894117  \n",
            " validation:  0.5520506422498399\n",
            "\n",
            "\n",
            "Epoch:  20 \n",
            " --------------------------\n",
            "Loss: \n",
            " train:  0.06714052436873316 \n",
            " validation:  0.06430497072637081\n",
            "Accuracy: \n",
            " train:  55.44% \n",
            " validation : 64.00 % \n",
            "F1 SCORE: \n",
            " train:  0.5231641663564678  \n",
            " validation:  0.6235300779819622\n",
            "\n",
            "\n",
            "Epoch:  21 \n",
            " --------------------------\n",
            "Loss: \n",
            " train:  0.06585570268332958 \n",
            " validation:  0.0635104462504387\n",
            "Accuracy: \n",
            " train:  56.28% \n",
            " validation : 61.88 % \n",
            "F1 SCORE: \n",
            " train:  0.5352923171720873  \n",
            " validation:  0.5728375233417042\n",
            "\n",
            "\n",
            "Epoch:  22 \n",
            " --------------------------\n",
            "Loss: \n",
            " train:  0.064918231703341 \n",
            " validation:  0.06172777101397514\n",
            "Accuracy: \n",
            " train:  58.03% \n",
            " validation : 64.38 % \n",
            "F1 SCORE: \n",
            " train:  0.5539661536087525  \n",
            " validation:  0.6391573255733783\n",
            "\n",
            "\n",
            "Epoch:  23 \n",
            " --------------------------\n",
            "Loss: \n",
            " train:  0.06406145289540291 \n",
            " validation:  0.06558098718523979\n",
            "Accuracy: \n",
            " train:  57.88% \n",
            " validation : 54.25 % \n",
            "F1 SCORE: \n",
            " train:  0.5583443411662504  \n",
            " validation:  0.4911459589663923\n",
            "\n",
            "\n",
            "Epoch:  24 \n",
            " --------------------------\n",
            "Loss: \n",
            " train:  0.06352148780599237 \n",
            " validation:  0.06221519827842712\n",
            "Accuracy: \n",
            " train:  58.09% \n",
            " validation : 57.38 % \n",
            "F1 SCORE: \n",
            " train:  0.555671287625268  \n",
            " validation:  0.5541646920662635\n",
            "\n",
            "\n",
            "Epoch:  25 \n",
            " --------------------------\n",
            "Loss: \n",
            " train:  0.06270110312849284 \n",
            " validation:  0.0663855054229498\n",
            "Accuracy: \n",
            " train:  58.94% \n",
            " validation : 50.12 % \n",
            "F1 SCORE: \n",
            " train:  0.5657074183392082  \n",
            " validation:  0.47945463496556173\n",
            "\n",
            "\n",
            "Epoch:  26 \n",
            " --------------------------\n",
            "Loss: \n",
            " train:  0.06185786819085479 \n",
            " validation:  0.061037797778844834\n",
            "Accuracy: \n",
            " train:  58.97% \n",
            " validation : 59.50 % \n",
            "F1 SCORE: \n",
            " train:  0.5683734431921287  \n",
            " validation:  0.5723243337903995\n",
            "\n",
            "\n",
            "Epoch:  27 \n",
            " --------------------------\n",
            "Loss: \n",
            " train:  0.06105198245495558 \n",
            " validation:  0.06105035535991192\n",
            "Accuracy: \n",
            " train:  59.75% \n",
            " validation : 59.00 % \n",
            "F1 SCORE: \n",
            " train:  0.575811831499491  \n",
            " validation:  0.5784055805998254\n",
            "\n",
            "\n",
            "Epoch:  28 \n",
            " --------------------------\n",
            "Loss: \n",
            " train:  0.06114656234160066 \n",
            " validation:  0.05727436423301697\n",
            "Accuracy: \n",
            " train:  58.00% \n",
            " validation : 63.00 % \n",
            "F1 SCORE: \n",
            " train:  0.5628175002659782  \n",
            " validation:  0.6109507334712284\n",
            "\n",
            "\n",
            "Epoch:  29 \n",
            " --------------------------\n",
            "Loss: \n",
            " train:  0.06145233238115907 \n",
            " validation:  0.058046022057533266\n",
            "Accuracy: \n",
            " train:  58.81% \n",
            " validation : 61.12 % \n",
            "F1 SCORE: \n",
            " train:  0.5712982892040788  \n",
            " validation:  0.5644632718567307\n",
            "\n",
            "\n",
            "Epoch:  30 \n",
            " --------------------------\n",
            "Loss: \n",
            " train:  0.05991008318960667 \n",
            " validation:  0.05532882668077946\n",
            "Accuracy: \n",
            " train:  59.56% \n",
            " validation : 65.75 % \n",
            "F1 SCORE: \n",
            " train:  0.5773920097829378  \n",
            " validation:  0.6293774005775945\n",
            "\n",
            "\n",
            "Confusion Matrix\n",
            "Training time: 5.433298110961914s\n"
          ]
        },
        {
          "data": {
            "image/png": "[encoded data removed]",
            "text/plain": [
              "<Figure size 432x288 with 2 Axes>"
            ]
          },
          "metadata": {},
          "output_type": "display_data"
        }
      ],
      "source": [
        "start = time.time()\n",
        "\n",
        "train_loss_history = []\n",
        "val_loss_history = []\n",
        "# device = torch.device('cuda' if torch.cuda.is_available() else 'cpu')\n",
        "for epoch in range(30):\n",
        "  train_batch_losses = []\n",
        "  val_batch_losses = []\n",
        "  \n",
        "  #train\n",
        "  model.train()\n",
        "  train_true, train_pred, train_batch_losses = train_(train_dataloader)\n",
        "\n",
        "  #validate\n",
        "  with torch.no_grad():  \n",
        "    val_true, val_pred, val_batch_losses = validate_(validation_dataloader)\n",
        "    \n",
        "  #calculate f1_score\n",
        "  f1_train = f1_score(train_true, train_pred, average='weighted')\n",
        "  f1_val = f1_score(val_true, val_pred, average='weighted')\n",
        "\n",
        "  #calculate accuracy\n",
        "  train_acc = accuracy_score(train_true, train_pred, )\n",
        "  val_acc = accuracy_score(val_true, val_pred, )\n",
        "\n",
        "  #calculate loss\n",
        "  train_loss = sum(train_batch_losses)/len(train_dataloader.dataset)\n",
        "  val_loss = sum(val_batch_losses)/len(validation_dataloader.dataset)\n",
        "\n",
        "  print(\"Epoch: \" , epoch+1 , \"\\n --------------------------\")\n",
        "  print(\"Loss: \\n train: \", train_loss, \"\\n validation: \", val_loss)\n",
        "  # print(\"LOSS(train): \", train_loss, \" LOSS(validation): \", val_loss )\n",
        "  print(f\"Accuracy: \\n train:  {100*train_acc:.2f}% \\n validation : {100*val_acc:.2f} % \"  )\n",
        "  print(\"F1 SCORE: \\n train: \", f1_train ,\" \\n validation: \", f1_val)\n",
        "\n",
        "  print(\"\\n\")\n",
        "\n",
        "  #calclulate confusion matrix\n",
        "  if epoch == 29:\n",
        "    print(\"Confusion Matrix\")\n",
        "    results = confusion_matrix(val_true, val_pred)\n",
        "    ax = sns.heatmap(results)\n",
        "\n",
        "  #store loss or each epoch\n",
        "  train_loss_history.append(sum(train_batch_losses)/len(train_dataloader.dataset))\n",
        "  val_loss_history.append(sum(val_batch_losses)/len(validation_dataloader.dataset))\n",
        "\n",
        "#calculate time\n",
        "stop = time.time()\n",
        "print(f\"Training time: {stop - start}s\")"
      ]
    },
    {
      "cell_type": "code",
      "execution_count": 18,
      "metadata": {
        "colab": {
          "base_uri": "https://localhost:8080/",
          "height": 301
        },
        "id": "f-D3V34SVjHN",
        "outputId": "c9e05cc2-5e15-4fd4-b92d-4a2219e6dd12"
      },
      "outputs": [
        {
          "data": {
            "image/png": "[encoded data removed]",
            "text/plain": [
              "<Figure size 432x288 with 1 Axes>"
            ]
          },
          "metadata": {},
          "output_type": "display_data"
        }
      ],
      "source": [
        "import matplotlib.pyplot as plt\n",
        "epochs = range(1,31)\n",
        "# loss in train_loss_history\n",
        "plt.plot(epochs, train_loss_history, 'g', label='Training loss')\n",
        "plt.plot(epochs, val_loss_history, 'b', label='validation loss')\n",
        "plt.title('Training and Validation loss')\n",
        "plt.xlabel('Epochs')\n",
        "plt.ylabel('Loss')\n",
        "plt.legend()\n",
        "plt.show()"
      ]
    },
    {
      "cell_type": "markdown",
      "metadata": {
        "id": "-2cc3aDMYAG7"
      },
      "source": [
        "**Βήμα 6: Εκπαίδευση δικτύου με GPU**"
      ]
    },
    {
      "cell_type": "markdown",
      "metadata": {
        "id": "i81aGKgx3a2v"
      },
      "source": [
        "Using CPU training time equals to 15.065938711166382 sec \\\\\n",
        "Using GPU training time equals to 5.245940446853638 sec \\\\\n",
        "The gap in this case is not so big since we do not use a large amount of data but using GPU is clearly faster. (The printed results above are from the last run using GPU)"
      ]
    },
    {
      "cell_type": "markdown",
      "metadata": {
        "id": "PTxiVWVrKcXM"
      },
      "source": [
        "**Βήμα 7: Επιλογή μοντέλου**"
      ]
    },
    {
      "cell_type": "markdown",
      "metadata": {
        "id": "vD7mjVyX1odr"
      },
      "source": [
        "Lets train and validate again the model. This time some new lines of code are added in order to save the version of the model which reach the best accuracy.\n",
        "\n",
        "This method of training/validation procces will be used in the other exercises too."
      ]
    },
    {
      "cell_type": "code",
      "execution_count": 19,
      "metadata": {
        "colab": {
          "base_uri": "https://localhost:8080/",
          "height": 1000
        },
        "id": "3gz4EF2C4dKR",
        "outputId": "207befec-47bc-4477-99e1-4fd5d4804f5e"
      },
      "outputs": [
        {
          "name": "stdout",
          "output_type": "stream",
          "text": [
            "Epoch:  1 \n",
            " --------------------------\n",
            "Loss: \n",
            " train:  0.05967942243441939 \n",
            " validation:  0.056573930010199544\n",
            "Accuracy: \n",
            " train:  59.72% \n",
            " validation : 64.38 % \n",
            "F1 SCORE: \n",
            " train:  0.5743366649054255  \n",
            " validation:  0.6415695515117754\n",
            "\n",
            "\n",
            "Epoch:  2 \n",
            " --------------------------\n",
            "Loss: \n",
            " train:  0.05942501483485103 \n",
            " validation:  0.06179957650601864\n",
            "Accuracy: \n",
            " train:  58.97% \n",
            " validation : 55.25 % \n",
            "F1 SCORE: \n",
            " train:  0.574095762941633  \n",
            " validation:  0.5373690705792467\n",
            "\n",
            "\n",
            "Epoch:  3 \n",
            " --------------------------\n",
            "Loss: \n",
            " train:  0.060086280535906554 \n",
            " validation:  0.05478656090795994\n",
            "Accuracy: \n",
            " train:  59.16% \n",
            " validation : 64.50 % \n",
            "F1 SCORE: \n",
            " train:  0.5752910296027628  \n",
            " validation:  0.6352767796782802\n",
            "\n",
            "\n",
            "Epoch:  4 \n",
            " --------------------------\n",
            "Loss: \n",
            " train:  0.05916217666119337 \n",
            " validation:  0.055951225608587264\n",
            "Accuracy: \n",
            " train:  60.97% \n",
            " validation : 62.75 % \n",
            "F1 SCORE: \n",
            " train:  0.5943170463246633  \n",
            " validation:  0.610932171663354\n",
            "\n",
            "\n",
            "Epoch:  5 \n",
            " --------------------------\n",
            "Loss: \n",
            " train:  0.05926423342898488 \n",
            " validation:  0.05787437103688717\n",
            "Accuracy: \n",
            " train:  59.94% \n",
            " validation : 61.12 % \n",
            "F1 SCORE: \n",
            " train:  0.5822302217653934  \n",
            " validation:  0.581020785801434\n",
            "\n",
            "\n",
            "Epoch:  6 \n",
            " --------------------------\n",
            "Loss: \n",
            " train:  0.05928478096611798 \n",
            " validation:  0.057009069398045537\n",
            "Accuracy: \n",
            " train:  59.81% \n",
            " validation : 59.88 % \n",
            "F1 SCORE: \n",
            " train:  0.5868654126289234  \n",
            " validation:  0.5767059513020255\n",
            "\n",
            "\n",
            "Epoch:  7 \n",
            " --------------------------\n",
            "Loss: \n",
            " train:  0.05905822231434286 \n",
            " validation:  0.05326350644230843\n",
            "Accuracy: \n",
            " train:  60.62% \n",
            " validation : 66.88 % \n",
            "F1 SCORE: \n",
            " train:  0.59376798792483  \n",
            " validation:  0.6506914361921345\n",
            "\n",
            "\n",
            "Epoch:  8 \n",
            " --------------------------\n",
            "Loss: \n",
            " train:  0.058358926959335804 \n",
            " validation:  0.060014108791947365\n",
            "Accuracy: \n",
            " train:  60.75% \n",
            " validation : 57.50 % \n",
            "F1 SCORE: \n",
            " train:  0.5907694377242021  \n",
            " validation:  0.5579017197509212\n",
            "\n",
            "\n",
            "Epoch:  9 \n",
            " --------------------------\n",
            "Loss: \n",
            " train:  0.05806407591328025 \n",
            " validation:  0.06704307816922665\n",
            "Accuracy: \n",
            " train:  60.47% \n",
            " validation : 51.75 % \n",
            "F1 SCORE: \n",
            " train:  0.5893418501896304  \n",
            " validation:  0.47797495565611386\n",
            "\n",
            "\n",
            "Epoch:  10 \n",
            " --------------------------\n",
            "Loss: \n",
            " train:  0.05832913825288415 \n",
            " validation:  0.05478662498295307\n",
            "Accuracy: \n",
            " train:  60.44% \n",
            " validation : 62.00 % \n",
            "F1 SCORE: \n",
            " train:  0.5905351654846445  \n",
            " validation:  0.5956990616895783\n",
            "\n",
            "\n",
            "Epoch:  11 \n",
            " --------------------------\n",
            "Loss: \n",
            " train:  0.058113644057884814 \n",
            " validation:  0.051937232464551925\n",
            "Accuracy: \n",
            " train:  60.50% \n",
            " validation : 67.25 % \n",
            "F1 SCORE: \n",
            " train:  0.591001153011275  \n",
            " validation:  0.662901394582429\n",
            "\n",
            "\n",
            "Epoch:  12 \n",
            " --------------------------\n",
            "Loss: \n",
            " train:  0.05825452168472111 \n",
            " validation:  0.06493335805833339\n",
            "Accuracy: \n",
            " train:  60.56% \n",
            " validation : 53.75 % \n",
            "F1 SCORE: \n",
            " train:  0.5915138661898884  \n",
            " validation:  0.49052825833683156\n",
            "\n",
            "\n",
            "Epoch:  13 \n",
            " --------------------------\n",
            "Loss: \n",
            " train:  0.05821689415723085 \n",
            " validation:  0.05177147798240185\n",
            "Accuracy: \n",
            " train:  60.62% \n",
            " validation : 66.62 % \n",
            "F1 SCORE: \n",
            " train:  0.5909433862008229  \n",
            " validation:  0.6599878314955737\n",
            "\n",
            "\n",
            "Epoch:  14 \n",
            " --------------------------\n",
            "Loss: \n",
            " train:  0.05807499375194311 \n",
            " validation:  0.05923962861299515\n",
            "Accuracy: \n",
            " train:  61.59% \n",
            " validation : 60.25 % \n",
            "F1 SCORE: \n",
            " train:  0.6041007912037419  \n",
            " validation:  0.5934688079185575\n",
            "\n",
            "\n",
            "Epoch:  15 \n",
            " --------------------------\n",
            "Loss: \n",
            " train:  0.05743381817825138 \n",
            " validation:  0.051945267245173454\n",
            "Accuracy: \n",
            " train:  62.22% \n",
            " validation : 65.00 % \n",
            "F1 SCORE: \n",
            " train:  0.6076436205016782  \n",
            " validation:  0.6358864977591243\n",
            "\n",
            "\n",
            "Epoch:  16 \n",
            " --------------------------\n",
            "Loss: \n",
            " train:  0.05702729666605592 \n",
            " validation:  0.051575213335454465\n",
            "Accuracy: \n",
            " train:  61.66% \n",
            " validation : 67.00 % \n",
            "F1 SCORE: \n",
            " train:  0.6021440624909696  \n",
            " validation:  0.661914496596237\n",
            "\n",
            "\n",
            "Epoch:  17 \n",
            " --------------------------\n",
            "Loss: \n",
            " train:  0.05678892163559794 \n",
            " validation:  0.05118321605026722\n",
            "Accuracy: \n",
            " train:  62.50% \n",
            " validation : 69.25 % \n",
            "F1 SCORE: \n",
            " train:  0.6117435902673182  \n",
            " validation:  0.6853378968029397\n",
            "\n",
            "\n",
            "Epoch:  18 \n",
            " --------------------------\n",
            "Loss: \n",
            " train:  0.05656566179357469 \n",
            " validation:  0.05304622143507004\n",
            "Accuracy: \n",
            " train:  62.38% \n",
            " validation : 64.25 % \n",
            "F1 SCORE: \n",
            " train:  0.6107039582552966  \n",
            " validation:  0.6281770333461707\n",
            "\n",
            "\n",
            "Epoch:  19 \n",
            " --------------------------\n",
            "Loss: \n",
            " train:  0.057399523137137295 \n",
            " validation:  0.05132483050227165\n",
            "Accuracy: \n",
            " train:  63.00% \n",
            " validation : 65.88 % \n",
            "F1 SCORE: \n",
            " train:  0.6172887739846916  \n",
            " validation:  0.6505239560698871\n",
            "\n",
            "\n",
            "Epoch:  20 \n",
            " --------------------------\n",
            "Loss: \n",
            " train:  0.05711064427159727 \n",
            " validation:  0.05069444179534912\n",
            "Accuracy: \n",
            " train:  62.28% \n",
            " validation : 68.50 % \n",
            "F1 SCORE: \n",
            " train:  0.6096318266331631  \n",
            " validation:  0.6781845338770293\n",
            "\n",
            "\n",
            "Epoch:  21 \n",
            " --------------------------\n",
            "Loss: \n",
            " train:  0.05692900329828263 \n",
            " validation:  0.051411733999848365\n",
            "Accuracy: \n",
            " train:  61.97% \n",
            " validation : 65.25 % \n",
            "F1 SCORE: \n",
            " train:  0.6071402439564624  \n",
            " validation:  0.6427281655542525\n",
            "\n",
            "\n",
            "Epoch:  22 \n",
            " --------------------------\n",
            "Loss: \n",
            " train:  0.056398019986227156 \n",
            " validation:  0.05877348430454731\n",
            "Accuracy: \n",
            " train:  62.75% \n",
            " validation : 58.88 % \n",
            "F1 SCORE: \n",
            " train:  0.618250205315888  \n",
            " validation:  0.5542200576762307\n",
            "\n",
            "\n",
            "Epoch:  23 \n",
            " --------------------------\n",
            "Loss: \n",
            " train:  0.05651208363473415 \n",
            " validation:  0.05248180836439133\n",
            "Accuracy: \n",
            " train:  62.56% \n",
            " validation : 67.12 % \n",
            "F1 SCORE: \n",
            " train:  0.6132412726804115  \n",
            " validation:  0.6650844833574774\n",
            "\n",
            "\n",
            "Epoch:  24 \n",
            " --------------------------\n",
            "Loss: \n",
            " train:  0.056557998061180115 \n",
            " validation:  0.05497163813561201\n",
            "Accuracy: \n",
            " train:  62.88% \n",
            " validation : 63.12 % \n",
            "F1 SCORE: \n",
            " train:  0.618519279307332  \n",
            " validation:  0.612394653161727\n",
            "\n",
            "\n",
            "Epoch:  25 \n",
            " --------------------------\n",
            "Loss: \n",
            " train:  0.056202408988028765 \n",
            " validation:  0.05041859868913889\n",
            "Accuracy: \n",
            " train:  62.72% \n",
            " validation : 68.12 % \n",
            "F1 SCORE: \n",
            " train:  0.6148638922642553  \n",
            " validation:  0.6668292451610605\n",
            "\n",
            "\n",
            "Epoch:  26 \n",
            " --------------------------\n",
            "Loss: \n",
            " train:  0.05632102726958692 \n",
            " validation:  0.05505959313362837\n",
            "Accuracy: \n",
            " train:  62.25% \n",
            " validation : 62.25 % \n",
            "F1 SCORE: \n",
            " train:  0.6097723249718703  \n",
            " validation:  0.5976150279632867\n",
            "\n",
            "\n",
            "Epoch:  27 \n",
            " --------------------------\n",
            "Loss: \n",
            " train:  0.05606470958329737 \n",
            " validation:  0.051802810579538346\n",
            "Accuracy: \n",
            " train:  63.12% \n",
            " validation : 66.38 % \n",
            "F1 SCORE: \n",
            " train:  0.6174877947812017  \n",
            " validation:  0.6558412186347437\n",
            "\n",
            "\n",
            "Epoch:  28 \n",
            " --------------------------\n",
            "Loss: \n",
            " train:  0.05604324848391116 \n",
            " validation:  0.04987728603184223\n",
            "Accuracy: \n",
            " train:  62.69% \n",
            " validation : 68.12 % \n",
            "F1 SCORE: \n",
            " train:  0.6161797960496456  \n",
            " validation:  0.6688427577194145\n",
            "\n",
            "\n",
            "Epoch:  29 \n",
            " --------------------------\n",
            "Loss: \n",
            " train:  0.05632468596100807 \n",
            " validation:  0.049794975146651266\n",
            "Accuracy: \n",
            " train:  63.06% \n",
            " validation : 68.12 % \n",
            "F1 SCORE: \n",
            " train:  0.6199721807126717  \n",
            " validation:  0.6682781704779529\n",
            "\n",
            "\n",
            "Epoch:  30 \n",
            " --------------------------\n",
            "Loss: \n",
            " train:  0.056790653131902215 \n",
            " validation:  0.05069615229964256\n",
            "Accuracy: \n",
            " train:  62.53% \n",
            " validation : 68.25 % \n",
            "F1 SCORE: \n",
            " train:  0.6133393989778315  \n",
            " validation:  0.6699717535054523\n",
            "\n",
            "\n",
            "Confusion Matrix after 30 epochs:\n",
            "Training time: 5.454479932785034s\n"
          ]
        },
        {
          "data": {
            "image/png": "[encoded data removed]",
            "text/plain": [
              "<Figure size 432x288 with 2 Axes>"
            ]
          },
          "metadata": {},
          "output_type": "display_data"
        }
      ],
      "source": [
        "train_loss_history = []\n",
        "val_loss_history = []\n",
        "start = time.time()\n",
        "\n",
        "prev_loss = 100\n",
        "\n",
        "for epoch in range(30):\n",
        "  train_batch_losses = []\n",
        "  val_batch_losses = []\n",
        "  \n",
        "  #train\n",
        "  model.train()\n",
        "  train_true, train_pred, train_batch_losses = train_(train_dataloader)\n",
        "\n",
        "  #validate\n",
        "  with torch.no_grad():  \n",
        "    val_true, val_pred, val_batch_losses = validate_(validation_dataloader)\n",
        "    \n",
        "  #calculate f1_score\n",
        "  f1_train = f1_score(train_true, train_pred, average='weighted')\n",
        "  f1_val = f1_score(val_true, val_pred, average='weighted')\n",
        "\n",
        "  #calculate accuracy\n",
        "  train_acc = accuracy_score(train_true, train_pred, )\n",
        "  val_acc = accuracy_score(val_true, val_pred, )\n",
        "\n",
        "  #calculate loss\n",
        "  train_loss = sum(train_batch_losses)/len(train_dataloader.dataset)\n",
        "  val_loss = sum(val_batch_losses)/len(validation_dataloader.dataset)\n",
        "\n",
        "  if val_loss < prev_loss:\n",
        "    torch.save(model, \"model_path.pth\")#save model\n",
        "    prev_loss = val_loss#save loss\n",
        "\n",
        "  print(\"Epoch: \" , epoch+1 , \"\\n --------------------------\")\n",
        "  print(\"Loss: \\n train: \", train_loss, \"\\n validation: \", val_loss)\n",
        "  # print(\"LOSS(train): \", train_loss, \" LOSS(validation): \", val_loss )\n",
        "  print(f\"Accuracy: \\n train:  {100*train_acc:.2f}% \\n validation : {100*val_acc:.2f} % \"  )\n",
        "  print(\"F1 SCORE: \\n train: \", f1_train ,\" \\n validation: \", f1_val)\n",
        "\n",
        "  print(\"\\n\")\n",
        "\n",
        "  #calclulate confusion matrix\n",
        "  if epoch == 29:\n",
        "    results = confusion_matrix(val_true, val_pred)\n",
        "    print(\"Confusion Matrix after 30 epochs:\")\n",
        "    ax = sns.heatmap(results)\n",
        "\n",
        "  #store loss or each epoch\n",
        "  train_loss_history.append(sum(train_batch_losses)/len(train_dataloader.dataset))\n",
        "  val_loss_history.append(sum(val_batch_losses)/len(validation_dataloader.dataset))\n",
        "\n",
        "#calculate time\n",
        "stop = time.time()\n",
        "print(f\"Training time: {stop - start}s\")"
      ]
    },
    {
      "cell_type": "markdown",
      "metadata": {
        "id": "gLE3SQ6m4mmB"
      },
      "source": [
        "Validate mode using test set"
      ]
    },
    {
      "cell_type": "code",
      "execution_count": 20,
      "metadata": {
        "colab": {
          "base_uri": "https://localhost:8080/"
        },
        "id": "BxH6qY30KsAx",
        "outputId": "bf1a564d-ae96-451c-8022-50e551277f00"
      },
      "outputs": [
        {
          "name": "stdout",
          "output_type": "stream",
          "text": [
            "Loss: \n",
            " test:  0.05751518996129202\n",
            "Accuracy: \n",
            "test : 63.81 % \n",
            "F1 SCORE: \n",
            "  test:  0.6214513064849154\n"
          ]
        }
      ],
      "source": [
        "#test\n",
        "model = torch.load(\"model_path.pth\").to(device)\n",
        "\n",
        "with torch.no_grad():  \n",
        "  test_true, test_pred, test_batch_losses = validate_(test_dataloader)\n",
        "  \n",
        "#calculate f1_score\n",
        "f1_test = f1_score(test_true, test_pred, average='weighted')\n",
        "\n",
        "#calculate accuracy\n",
        "test_acc = accuracy_score(test_true, test_pred, )\n",
        "\n",
        "#calculate loss\n",
        "test_loss = sum(test_batch_losses)/len(test_dataloader.dataset)\n",
        "\n",
        "print(\"Loss: \\n test: \", test_loss)\n",
        "# print(\"LOSS(train): \", train_loss, \" LOSS(validation): \", val_loss )\n",
        "print(f\"Accuracy: \\ntest : {100*test_acc:.2f} % \"  )\n",
        "print(\"F1 SCORE: \\n  test: \", f1_test)"
      ]
    },
    {
      "cell_type": "markdown",
      "metadata": {
        "id": "MDHNPBCO44ZZ"
      },
      "source": [
        "#Ερώτημα 2: Convolutional Neural Network"
      ]
    },
    {
      "cell_type": "markdown",
      "metadata": {
        "id": "cb_Ws7Jv6Mk8"
      },
      "source": [
        "**Βήμα 1: Φόρτωση δεδομένων**"
      ]
    },
    {
      "cell_type": "code",
      "execution_count": 1,
      "metadata": {
        "colab": {
          "base_uri": "https://localhost:8080/"
        },
        "id": "AOyBrEcH56Pd",
        "outputId": "4f5a4ff9-b0a0-4b86-a043-dc9a3669c3ee"
      },
      "outputs": [
        {
          "name": "stdout",
          "output_type": "stream",
          "text": [
            "Drive already mounted at /content/gdrive; to attempt to forcibly remount, call drive.mount(\"/content/gdrive\", force_remount=True).\n",
            "/content/gdrive/MyDrive\n",
            "Archive:  Copy of data.zip\n",
            "replace music_genre_data_di/test/melgrams/X.npy? [y]es, [n]o, [A]ll, [N]one, [r]ename: n\n",
            "replace music_genre_data_di/test/melgrams/labels.npy? [y]es, [n]o, [A]ll, [N]one, [r]ename: n\n",
            "replace music_genre_data_di/test/mfccs/X.npy? [y]es, [n]o, [A]ll, [N]one, [r]ename: n\n",
            "replace music_genre_data_di/test/mfccs/labels.npy? [y]es, [n]o, [A]ll, [N]one, [r]ename: n\n",
            "replace music_genre_data_di/train/melgrams/X.npy? [y]es, [n]o, [A]ll, [N]one, [r]ename: n\n",
            "replace music_genre_data_di/train/melgrams/labels.npy? [y]es, [n]o, [A]ll, [N]one, [r]ename: n\n",
            "replace music_genre_data_di/train/mfccs/X.npy? [y]es, [n]o, [A]ll, [N]one, [r]ename: n\n",
            "replace music_genre_data_di/train/mfccs/labels.npy? [y]es, [n]o, [A]ll, [N]one, [r]ename: n\n",
            "replace music_genre_data_di/val/melgrams/X.npy? [y]es, [n]o, [A]ll, [N]one, [r]ename: n\n",
            "replace music_genre_data_di/val/melgrams/labels.npy? [y]es, [n]o, [A]ll, [N]one, [r]ename: n\n",
            "replace music_genre_data_di/val/mfccs/X.npy? [y]es, [n]o, [A]ll, [N]one, [r]ename: n\n",
            "replace music_genre_data_di/val/mfccs/labels.npy? [y]es, [n]o, [A]ll, [N]one, [r]ename: n\n",
            "mv: inter-device move failed: 'music_genre_data_di' to '../../music_genre_data_di'; unable to remove target: Directory not empty\n",
            "/content\n"
          ]
        }
      ],
      "source": [
        "#*\n",
        "from google.colab import drive\n",
        "drive.mount('/content/gdrive')\n",
        "\n",
        "from os import chdir as cd\n",
        "%cd gdrive/MyDrive\n",
        "#unzip files\n",
        "!unzip 'Copy of data.zip'\n",
        "#move file \n",
        "!mv music_genre_data_di ../..\n",
        "%cd ../.."
      ]
    },
    {
      "cell_type": "code",
      "execution_count": 2,
      "metadata": {
        "id": "2r_1X1S36EDx"
      },
      "outputs": [],
      "source": [
        "import torch \n",
        "import torch.nn as nn\n",
        "import torch.nn.functional as F \n",
        "import torch.optim as optim\n",
        "import torchvision \n",
        "import torchvision.transforms as transforms\n",
        "import matplotlib.pyplot as plt \n",
        "import numpy as np \n",
        "import pandas as pd"
      ]
    },
    {
      "cell_type": "code",
      "execution_count": 3,
      "metadata": {
        "colab": {
          "base_uri": "https://localhost:8080/"
        },
        "id": "Q7Q1Bbnw5_lR",
        "outputId": "51adc6cb-7a6c-4719-dc8c-48e98a431c61"
      },
      "outputs": [
        {
          "name": "stdout",
          "output_type": "stream",
          "text": [
            "/content/music_genre_data_di\n"
          ]
        }
      ],
      "source": [
        "%cd music_genre_data_di/\n",
        "#load melgrams\n",
        "train_X = np.load('train/melgrams/X.npy')\n",
        "test_X = np.load('test/melgrams/X.npy')\n",
        "val_X = np.load('val/melgrams/X.npy')\n",
        "#load labels\n",
        "train_lbl = np.load('train/melgrams/labels.npy')\n",
        "test_lbl = np.load('test/melgrams/labels.npy')\n",
        "val_lbl = np.load('val/melgrams/labels.npy')"
      ]
    },
    {
      "cell_type": "markdown",
      "metadata": {
        "id": "I18D5t0A6NcC"
      },
      "source": [
        "Map labels to indicies"
      ]
    },
    {
      "cell_type": "code",
      "execution_count": 4,
      "metadata": {
        "id": "MzVZxXtG6Jt9"
      },
      "outputs": [],
      "source": [
        "#convert labels to indexes (0-3)\n",
        "train_lbl_lookup, train_lbl_idx = np.unique(train_lbl, return_inverse=True)\n",
        "test_lbl_lookup, test_lbl_idx = np.unique(test_lbl, return_inverse=True)\n",
        "val_lbl_lookup, val_lbl_idx = np.unique(val_lbl, return_inverse=True)"
      ]
    },
    {
      "cell_type": "markdown",
      "metadata": {
        "id": "jRSU-U1kwQc8"
      },
      "source": [
        "Visualization"
      ]
    },
    {
      "cell_type": "code",
      "execution_count": 5,
      "metadata": {
        "id": "0Ry-gVoJwRy7"
      },
      "outputs": [],
      "source": [
        "blues = np.where(train_lbl == 'blues')\n",
        "blues = blues[0][10]\n",
        "classical =np.where(train_lbl == 'classical')\n",
        "classical = classical[0][0]\n",
        "hiphop = np.where(train_lbl == 'hiphop')\n",
        "hiphop = hiphop[0][50]\n",
        "rock = np.where(train_lbl == 'rock_metal_hardrock')\n",
        "rock = rock[0][7]"
      ]
    },
    {
      "cell_type": "code",
      "execution_count": 6,
      "metadata": {
        "colab": {
          "base_uri": "https://localhost:8080/",
          "height": 1000
        },
        "id": "IHgXCcRLwSjs",
        "outputId": "106d0723-e8e6-4803-bd18-5b76120f618e"
      },
      "outputs": [
        {
          "data": {
            "image/png": "[encoded data removed]",
            "text/plain": [
              "<Figure size 432x288 with 2 Axes>"
            ]
          },
          "metadata": {
            "needs_background": "light"
          },
          "output_type": "display_data"
        },
        {
          "data": {
            "image/png": "[encoded data removed]",
            "text/plain": [
              "<Figure size 432x288 with 2 Axes>"
            ]
          },
          "metadata": {
            "needs_background": "light"
          },
          "output_type": "display_data"
        },
        {
          "data": {
            "image/png": "[encoded data removed]",
            "text/plain": [
              "<Figure size 432x288 with 2 Axes>"
            ]
          },
          "metadata": {
            "needs_background": "light"
          },
          "output_type": "display_data"
        },
        {
          "data": {
            "image/png": "[encoded data removed]",
            "text/plain": [
              "<Figure size 432x288 with 2 Axes>"
            ]
          },
          "metadata": {
            "needs_background": "light"
          },
          "output_type": "display_data"
        }
      ],
      "source": [
        "import librosa, librosa.display\n",
        "import numpy as np\n",
        "import matplotlib.pyplot as plt\n",
        "import torchaudio\n",
        "\n",
        "array = [blues, classical, hiphop, rock]\n",
        "names = ['blues', 'classical', 'hiphop', 'rock_metal_hardrock']\n",
        "for i in range(4):\n",
        "  spectrogram = np.abs(train_X[array[i]])\n",
        "  power_to_db = librosa.power_to_db(spectrogram, ref=np.max)\n",
        "  # plt.figure(figsize=(8, 7))\n",
        "  # librosa.display.specshow(power_to_db, sr=22050, x_axis='time', y_axis='mel', cmap='magma', hop_length=hop_length)\n",
        "  img = librosa.display.specshow(power_to_db, x_axis='time', y_axis='linear')\n",
        "  plt.colorbar(label='dB')\n",
        "  plt.title(names[i], fontdict=dict(size=18))\n",
        "  plt.xlabel('Time', fontdict=dict(size=15))\n",
        "  plt.ylabel('Frequency', fontdict=dict(size=15))\n",
        "  plt.show()"
      ]
    },
    {
      "cell_type": "markdown",
      "metadata": {
        "id": "NVlEEYIm6SwQ"
      },
      "source": [
        "Data loaders"
      ]
    },
    {
      "cell_type": "code",
      "execution_count": 7,
      "metadata": {
        "id": "aqEGDvny6TAD"
      },
      "outputs": [],
      "source": [
        "#*\n",
        "import torch\n",
        "from torch.utils.data import Dataset, DataLoader\n",
        "import torch.nn as nn\n",
        "class Custom_Dataset(Dataset):\n",
        "  def __init__(self,data,targets, transform= None):\n",
        "    self.data = data\n",
        "    self.targets = targets\n",
        "    self.transform = transform\n",
        "\n",
        "  def __len__(self):\n",
        "    return len(self.data)\n",
        "\n",
        "  def __getitem__(self, index):\n",
        "    x = self.data[index]\n",
        "    y = self.targets[index]\n",
        "      \n",
        "    if self.transform:\n",
        "      x = self.transform(x)\n",
        "      y = self.transform(y)      \n",
        "    return x, y"
      ]
    },
    {
      "cell_type": "markdown",
      "metadata": {
        "id": "IPhCPBYV6Zpz"
      },
      "source": [
        "**Βήμα 2:Δημιουργία του Δικτύου και Βήμα 4: Pooling and padding**"
      ]
    },
    {
      "cell_type": "code",
      "execution_count": 8,
      "metadata": {
        "id": "UnfVRJf96Z51"
      },
      "outputs": [],
      "source": [
        "class convNet(nn.Module):\n",
        "  def __init__(self):\n",
        "    super().__init__()\n",
        "    # in channels, out_channels, kernel_size\n",
        "    self.conv1 = nn.Conv2d(1, 16, 5, padding = 2)  ##in out kernel\n",
        "    self.conv2 = nn.Conv2d(16, 32, 5, padding = 2)\n",
        "    self.conv3 = nn.Conv2d(32, 64, 5, padding = 2)\n",
        "    self.conv4 = nn.Conv2d(64, 128, 5, padding = 2)\n",
        "\n",
        "    self.max_pool = nn.MaxPool2d(2,2)\n",
        "    self.dropout = nn.Dropout(0.2)\n",
        "    \n",
        "    self.linear1 = nn.Linear(1024, 1024)\n",
        "    self.linear2 = nn.Linear(1024, 256)\n",
        "    self.linear3 = nn.Linear(256, 32)\n",
        "    self.linear4 = nn.Linear(32, 4)\n",
        "    # self.linear5 = nn.Linear(4, 4)\n",
        "    \n",
        "\n",
        "  def forward(self, x):\n",
        "      x = self.max_pool(self.conv1(x))\n",
        "      x = self.max_pool(self.conv2(x))\n",
        "      x = self.max_pool(self.conv3(x))\n",
        "      x = self.max_pool(self.conv4(x))\n",
        "      x = x.view(x.size(0), -1)\n",
        "     \n",
        "      out = self.linear1(x)\n",
        "      out = self.linear2(out)\n",
        "      out = self.linear3(out)\n",
        "      out = self.linear4(out)\n",
        "      return out\n",
        "\n",
        "device = 'cuda' if torch.cuda.is_available() else 'cpu'\n",
        "model = convNet().to(device)"
      ]
    },
    {
      "cell_type": "markdown",
      "metadata": {
        "id": "H0mEK6Ki6qS8"
      },
      "source": [
        "Train and validation loop definition"
      ]
    },
    {
      "cell_type": "code",
      "execution_count": 9,
      "metadata": {
        "id": "MnOAR-NJ6qCj"
      },
      "outputs": [],
      "source": [
        "from sklearn.preprocessing import label_binarize\n",
        "from sklearn.metrics import precision_score\n",
        "from sklearn.metrics import recall_score\n",
        "from sklearn.metrics import f1_score\n",
        "from sklearn.metrics import accuracy_score\n",
        "from sklearn.metrics import confusion_matrix\n",
        "import seaborn as sns; sns.set_theme()\n",
        "import itertools\n",
        "from sklearn.preprocessing import MinMaxScaler\n",
        "from sklearn.preprocessing import StandardScaler\n",
        "import numpy\n",
        "\n",
        "#utility function to flaten a list and convert to a numpy array\n",
        "def convert(array):\n",
        "  pred_list=[]\n",
        "  for i in array:\n",
        "    pred_list.append(i.tolist())\n",
        "  merged_pred = list(itertools.chain(*pred_list))\n",
        "  predicted_labels = numpy.array(merged_pred)\n",
        "  return predicted_labels"
      ]
    },
    {
      "cell_type": "code",
      "execution_count": 10,
      "metadata": {
        "id": "NYzmvSeL6cH1"
      },
      "outputs": [],
      "source": [
        "def train_(train_dataloader):\n",
        "  train_batch_losses = []\n",
        "  pred_arr=[]\n",
        "  true_arr=[]\n",
        "  correct = 0\n",
        "\n",
        "  for x_batch, y_batch in train_dataloader:\n",
        "    x_batch = x_batch.to(device)\n",
        "    y_batch = y_batch.to(device)\n",
        "    x_batch = torch.unsqueeze(x_batch,1)\n",
        "    y_pred = model(x_batch.float())\n",
        "\n",
        "    #store label baches and their prediction to use for f1 calculation\n",
        "    _, predicted = torch.max(y_pred, 1) #keep the label with the gratest propability\n",
        "    true_arr.append(y_batch)\n",
        "    pred_arr.append(predicted)\n",
        "\n",
        "    loss = loss_func(y_pred, y_batch)#calculate loss\n",
        "    train_batch_losses.append(loss.item())\n",
        "\n",
        "    \n",
        "    optimizer.zero_grad()#Delete previously stored gradients\n",
        "    loss.backward()#Perform backpropagation starting from the loss calculated in this epoch\n",
        "    optimizer.step()#Update model's weights based on the gradients calculated during backprop\n",
        "  \n",
        "  #modify baches and prediction shape to calculate f1 score\n",
        "  train_true = convert(true_arr)\n",
        "  train_pred = convert(pred_arr)\n",
        "  return train_true, train_pred, train_batch_losses\n",
        "\n",
        "\n",
        "def validate_(validation_dataloader):\n",
        "    val_batch_losses = []\n",
        "    pred_arr=[]\n",
        "    batch_arr=[]\n",
        "    correct = 0\n",
        "    for x_batch, y_batch in validation_dataloader:\n",
        "      x_batch = x_batch.to(device)\n",
        "      y_batch = y_batch.to(device)\n",
        "      x_batch = torch.unsqueeze(x_batch,1)\n",
        "      y_pred = model(x_batch.float())\n",
        "      _, predicted = torch.max(y_pred, 1)#keep the label with the greatest propability\n",
        "\n",
        "      #loss calculation per batch\n",
        "      val_loss = loss_func(y_pred, y_batch)\n",
        "      val_batch_losses.append(val_loss.item())\n",
        "\n",
        "      #store baches and their prediction to use for f1 calculation\n",
        "      batch_arr.append(y_batch)\n",
        "      pred_arr.append(predicted)\n",
        "\n",
        "  \n",
        "    #modify baches and prediction shape to calculate f1 score\n",
        "    val_true = convert(batch_arr)\n",
        "    val_pred = convert(pred_arr)\n",
        "    return val_true, val_pred, val_batch_losses"
      ]
    },
    {
      "cell_type": "markdown",
      "metadata": {
        "id": "ETnGm4iF6v9K"
      },
      "source": [
        "**Βήμα 3: Εκπαίδευση δικτύου**"
      ]
    },
    {
      "cell_type": "markdown",
      "metadata": {
        "id": "v26t_BuH6yoY"
      },
      "source": [
        "Train procces"
      ]
    },
    {
      "cell_type": "code",
      "execution_count": 11,
      "metadata": {
        "colab": {
          "base_uri": "https://localhost:8080/",
          "height": 1000
        },
        "id": "WpGS5DER6wOg",
        "outputId": "62582562-79c6-4c7c-9e2a-dde2a0a3c1c8"
      },
      "outputs": [
        {
          "name": "stdout",
          "output_type": "stream",
          "text": [
            "Epoch:  1 \n",
            " --------------------------\n",
            "Loss: \n",
            " train:  0.08379860490560531 \n",
            " validation:  0.07840479716658592\n",
            "Accuracy: \n",
            " train:  33.19% \n",
            " validation : 42.50 % \n",
            "F1 SCORE: \n",
            " train:  0.30350946286208935  \n",
            " validation:  0.3677378187658237\n",
            "\n",
            "\n",
            "Epoch:  2 \n",
            " --------------------------\n",
            "Loss: \n",
            " train:  0.07486870048567652 \n",
            " validation:  0.06941369265317916\n",
            "Accuracy: \n",
            " train:  42.34% \n",
            " validation : 48.12 % \n",
            "F1 SCORE: \n",
            " train:  0.40417707025007  \n",
            " validation:  0.4298073097694616\n",
            "\n",
            "\n",
            "Epoch:  3 \n",
            " --------------------------\n",
            "Loss: \n",
            " train:  0.06677978456020356 \n",
            " validation:  0.06413722954690457\n",
            "Accuracy: \n",
            " train:  51.16% \n",
            " validation : 49.25 % \n",
            "F1 SCORE: \n",
            " train:  0.4966376305727866  \n",
            " validation:  0.4224021241399621\n",
            "\n",
            "\n",
            "Epoch:  4 \n",
            " --------------------------\n",
            "Loss: \n",
            " train:  0.062276796456426385 \n",
            " validation:  0.06369049370288848\n",
            "Accuracy: \n",
            " train:  54.53% \n",
            " validation : 53.87 % \n",
            "F1 SCORE: \n",
            " train:  0.5343246781273043  \n",
            " validation:  0.5350180802381432\n",
            "\n",
            "\n",
            "Epoch:  5 \n",
            " --------------------------\n",
            "Loss: \n",
            " train:  0.05845145303755998 \n",
            " validation:  0.06317034140229225\n",
            "Accuracy: \n",
            " train:  58.25% \n",
            " validation : 54.75 % \n",
            "F1 SCORE: \n",
            " train:  0.5751644763291391  \n",
            " validation:  0.5260877838548886\n",
            "\n",
            "\n",
            "Epoch:  6 \n",
            " --------------------------\n",
            "Loss: \n",
            " train:  0.05548840256407857 \n",
            " validation:  0.05708495788276195\n",
            "Accuracy: \n",
            " train:  61.59% \n",
            " validation : 60.00 % \n",
            "F1 SCORE: \n",
            " train:  0.6103723100822421  \n",
            " validation:  0.5838051989161189\n",
            "\n",
            "\n",
            "Epoch:  7 \n",
            " --------------------------\n",
            "Loss: \n",
            " train:  0.05188017783686519 \n",
            " validation:  0.05899099282920361\n",
            "Accuracy: \n",
            " train:  64.72% \n",
            " validation : 58.63 % \n",
            "F1 SCORE: \n",
            " train:  0.641040627245037  \n",
            " validation:  0.5907139310540502\n",
            "\n",
            "\n",
            "Epoch:  8 \n",
            " --------------------------\n",
            "Loss: \n",
            " train:  0.04885501686483622 \n",
            " validation:  0.054315516576170925\n",
            "Accuracy: \n",
            " train:  67.97% \n",
            " validation : 61.38 % \n",
            "F1 SCORE: \n",
            " train:  0.6756418922039567  \n",
            " validation:  0.6207612948782493\n",
            "\n",
            "\n",
            "Epoch:  9 \n",
            " --------------------------\n",
            "Loss: \n",
            " train:  0.046985212517902254 \n",
            " validation:  0.050159935131669046\n",
            "Accuracy: \n",
            " train:  70.06% \n",
            " validation : 65.62 % \n",
            "F1 SCORE: \n",
            " train:  0.6965571563196303  \n",
            " validation:  0.6585443624512328\n",
            "\n",
            "\n",
            "Epoch:  10 \n",
            " --------------------------\n",
            "Loss: \n",
            " train:  0.04525043530389666 \n",
            " validation:  0.04859315928071737\n",
            "Accuracy: \n",
            " train:  70.03% \n",
            " validation : 68.00 % \n",
            "F1 SCORE: \n",
            " train:  0.6974880819441804  \n",
            " validation:  0.6841911330851086\n",
            "\n",
            "\n",
            "Epoch:  11 \n",
            " --------------------------\n",
            "Loss: \n",
            " train:  0.04208587349858135 \n",
            " validation:  0.049736299999058244\n",
            "Accuracy: \n",
            " train:  72.91% \n",
            " validation : 67.88 % \n",
            "F1 SCORE: \n",
            " train:  0.7266886554619876  \n",
            " validation:  0.6671200347304895\n",
            "\n",
            "\n",
            "Epoch:  12 \n",
            " --------------------------\n",
            "Loss: \n",
            " train:  0.04162041326053441 \n",
            " validation:  0.05039841290563345\n",
            "Accuracy: \n",
            " train:  73.47% \n",
            " validation : 66.50 % \n",
            "F1 SCORE: \n",
            " train:  0.7324836824225345  \n",
            " validation:  0.6719708694180355\n",
            "\n",
            "\n",
            "Epoch:  13 \n",
            " --------------------------\n",
            "Loss: \n",
            " train:  0.03978881996590644 \n",
            " validation:  0.049684429988265034\n",
            "Accuracy: \n",
            " train:  73.66% \n",
            " validation : 66.88 % \n",
            "F1 SCORE: \n",
            " train:  0.7353478776009261  \n",
            " validation:  0.6731246893780846\n",
            "\n",
            "\n",
            "Epoch:  14 \n",
            " --------------------------\n",
            "Loss: \n",
            " train:  0.03689221986103803 \n",
            " validation:  0.04730608269572258\n",
            "Accuracy: \n",
            " train:  76.16% \n",
            " validation : 70.12 % \n",
            "F1 SCORE: \n",
            " train:  0.7609667851713797  \n",
            " validation:  0.68574536230807\n",
            "\n",
            "\n",
            "Epoch:  15 \n",
            " --------------------------\n",
            "Loss: \n",
            " train:  0.03624390563927591 \n",
            " validation:  0.04651079021394253\n",
            "Accuracy: \n",
            " train:  76.91% \n",
            " validation : 69.38 % \n",
            "F1 SCORE: \n",
            " train:  0.7684996194384384  \n",
            " validation:  0.6782656002897761\n",
            "\n",
            "\n",
            "Epoch:  16 \n",
            " --------------------------\n",
            "Loss: \n",
            " train:  0.03481309197843075 \n",
            " validation:  0.04791743759065867\n",
            "Accuracy: \n",
            " train:  77.84% \n",
            " validation : 69.88 % \n",
            "F1 SCORE: \n",
            " train:  0.7771852524785197  \n",
            " validation:  0.6999392611048582\n",
            "\n",
            "\n",
            "Epoch:  17 \n",
            " --------------------------\n",
            "Loss: \n",
            " train:  0.032498914268799126 \n",
            " validation:  0.04645457502454519\n",
            "Accuracy: \n",
            " train:  79.94% \n",
            " validation : 71.12 % \n",
            "F1 SCORE: \n",
            " train:  0.7991528341731196  \n",
            " validation:  0.717217487599498\n",
            "\n",
            "\n",
            "Epoch:  18 \n",
            " --------------------------\n",
            "Loss: \n",
            " train:  0.030446504773572088 \n",
            " validation:  0.05284161204472184\n",
            "Accuracy: \n",
            " train:  81.84% \n",
            " validation : 68.12 % \n",
            "F1 SCORE: \n",
            " train:  0.8181398701338135  \n",
            " validation:  0.6650346006971768\n",
            "\n",
            "\n",
            "Epoch:  19 \n",
            " --------------------------\n",
            "Loss: \n",
            " train:  0.029060892732813953 \n",
            " validation:  0.04501203205436468\n",
            "Accuracy: \n",
            " train:  82.53% \n",
            " validation : 73.50 % \n",
            "F1 SCORE: \n",
            " train:  0.8245348635130735  \n",
            " validation:  0.7344911258827405\n",
            "\n",
            "\n",
            "Epoch:  20 \n",
            " --------------------------\n",
            "Loss: \n",
            " train:  0.02794052021112293 \n",
            " validation:  0.044753798078745605\n",
            "Accuracy: \n",
            " train:  82.97% \n",
            " validation : 71.88 % \n",
            "F1 SCORE: \n",
            " train:  0.8296006098098055  \n",
            " validation:  0.7230249483403978\n",
            "\n",
            "\n",
            "Epoch:  21 \n",
            " --------------------------\n",
            "Loss: \n",
            " train:  0.024240786763839423 \n",
            " validation:  0.04472098033875227\n",
            "Accuracy: \n",
            " train:  85.97% \n",
            " validation : 72.50 % \n",
            "F1 SCORE: \n",
            " train:  0.8597466137945697  \n",
            " validation:  0.7300562819237425\n",
            "\n",
            "\n",
            "Epoch:  22 \n",
            " --------------------------\n",
            "Loss: \n",
            " train:  0.022102778740227223 \n",
            " validation:  0.04398906009271741\n",
            "Accuracy: \n",
            " train:  87.44% \n",
            " validation : 74.62 % \n",
            "F1 SCORE: \n",
            " train:  0.8742810576641553  \n",
            " validation:  0.7442752272302812\n",
            "\n",
            "\n",
            "Epoch:  23 \n",
            " --------------------------\n",
            "Loss: \n",
            " train:  0.02007753258687444 \n",
            " validation:  0.04657477915287018\n",
            "Accuracy: \n",
            " train:  88.09% \n",
            " validation : 73.50 % \n",
            "F1 SCORE: \n",
            " train:  0.8808514749141527  \n",
            " validation:  0.7390893980769202\n",
            "\n",
            "\n",
            "Epoch:  24 \n",
            " --------------------------\n",
            "Loss: \n",
            " train:  0.018396348509704695 \n",
            " validation:  0.047509366497397426\n",
            "Accuracy: \n",
            " train:  89.25% \n",
            " validation : 73.38 % \n",
            "F1 SCORE: \n",
            " train:  0.8924558142568736  \n",
            " validation:  0.7325645597640105\n",
            "\n",
            "\n",
            "Epoch:  25 \n",
            " --------------------------\n",
            "Loss: \n",
            " train:  0.015262345733353867 \n",
            " validation:  0.05216560920700431\n",
            "Accuracy: \n",
            " train:  91.91% \n",
            " validation : 70.62 % \n",
            "F1 SCORE: \n",
            " train:  0.9189970180628808  \n",
            " validation:  0.7114459571733818\n",
            "\n",
            "\n",
            "Epoch:  26 \n",
            " --------------------------\n",
            "Loss: \n",
            " train:  0.014237097061704845 \n",
            " validation:  0.05725205134600401\n",
            "Accuracy: \n",
            " train:  91.94% \n",
            " validation : 70.50 % \n",
            "F1 SCORE: \n",
            " train:  0.9194025492886041  \n",
            " validation:  0.7087003641398979\n",
            "\n",
            "\n",
            "Epoch:  27 \n",
            " --------------------------\n",
            "Loss: \n",
            " train:  0.010656778499251231 \n",
            " validation:  0.05549311991780996\n",
            "Accuracy: \n",
            " train:  94.88% \n",
            " validation : 72.25 % \n",
            "F1 SCORE: \n",
            " train:  0.9487751786883194  \n",
            " validation:  0.7216585879666724\n",
            "\n",
            "\n",
            "Epoch:  28 \n",
            " --------------------------\n",
            "Loss: \n",
            " train:  0.008662801777245478 \n",
            " validation:  0.054884372372180225\n",
            "Accuracy: \n",
            " train:  96.28% \n",
            " validation : 71.12 % \n",
            "F1 SCORE: \n",
            " train:  0.9628024587896695  \n",
            " validation:  0.7164524322698554\n",
            "\n",
            "\n",
            "Epoch:  29 \n",
            " --------------------------\n",
            "Loss: \n",
            " train:  0.006773689377005212 \n",
            " validation:  0.05554995091632008\n",
            "Accuracy: \n",
            " train:  97.31% \n",
            " validation : 74.12 % \n",
            "F1 SCORE: \n",
            " train:  0.9731090373750823  \n",
            " validation:  0.7380099933826636\n",
            "\n",
            "\n",
            "Epoch:  30 \n",
            " --------------------------\n",
            "Loss: \n",
            " train:  0.006310199333383935 \n",
            " validation:  0.14997516304254532\n",
            "Accuracy: \n",
            " train:  97.44% \n",
            " validation : 53.37 % \n",
            "F1 SCORE: \n",
            " train:  0.9743775274659692  \n",
            " validation:  0.5048652336158611\n",
            "\n",
            "\n",
            "confusion matrix\n"
          ]
        },
        {
          "data": {
            "image/png": "[encoded data removed]",
            "text/plain": [
              "<Figure size 432x288 with 2 Axes>"
            ]
          },
          "metadata": {},
          "output_type": "display_data"
        }
      ],
      "source": [
        "# define the corresponding loss function and the optimizer\n",
        "loss_func = nn.CrossEntropyLoss()\n",
        "lr_ = 0.002\n",
        "epochs = 30\n",
        "# 1e-3\n",
        "# optimizer = optim.Adam(model.parameters(), lr = lr_)\n",
        "# optimizer = optim.AdamW(model.parameters(), lr = lr_)\n",
        "# optimizer = optim.SparseAdam(model.parameters(), lr = lr_)\n",
        "# optimizer = optim.Adamax(model.parameters(), lr = lr_)\n",
        "# optimizer = optim.Adadelta(model.parameters(), lr = lr_)\n",
        "# optimizer = optim.Adagrad(model.parameters(), lr = lr_)\n",
        "# optimizer = optim.ASGD(model.parameters(), lr = lr_)\n",
        "# optimizer = optim.LBFGS(model.parameters(), lr = lr_)\n",
        "# optimizer = optim.NAdam(model.parameters(), lr = lr_)\n",
        "# optimizer = optim.RAdam(model.parameters(), lr = lr_)\n",
        "# optimizer = optim.RMSprop(model.parameters(), lr = lr_)\n",
        "# optimizer = optim.Rprop(model.parameters(), lr = lr_)\n",
        "optimizer = optim.SGD(model.parameters(), lr = lr_)\n",
        "\n",
        "b_sz = 16\n",
        "train_dataset = Custom_Dataset(train_X,train_lbl_idx, transform=None)\n",
        "train_dataloader = DataLoader(train_dataset, batch_size=b_sz, shuffle = True)\n",
        "\n",
        "validation_dataset = Custom_Dataset(val_X,val_lbl_idx, transform=None)\n",
        "validation_dataloader = DataLoader(validation_dataset, batch_size=b_sz, shuffle = True)\n",
        "\n",
        "\n",
        "train_loss_history = []\n",
        "val_loss_history = []\n",
        "prev_loss = 1000\n",
        "\n",
        "for epoch in range(epochs):\n",
        "  train_batch_losses = []\n",
        "  val_batch_losses = []\n",
        "  \n",
        "  #train\n",
        "  model.train()\n",
        "  train_true, train_pred, train_batch_losses = train_(train_dataloader)\n",
        "\n",
        "  #validate\n",
        "  with torch.no_grad():  \n",
        "    val_true, val_pred, val_batch_losses = validate_(validation_dataloader)\n",
        "    \n",
        "  #calculate f1_score\n",
        "  f1_train = f1_score(train_true, train_pred, average='weighted')\n",
        "  f1_val = f1_score(val_true, val_pred, average='weighted')\n",
        "\n",
        "  #calculate accuracy\n",
        "  train_acc = accuracy_score(train_true, train_pred, )\n",
        "  val_acc = accuracy_score(val_true, val_pred, )\n",
        "\n",
        "  #calculate loss\n",
        "  train_loss = sum(train_batch_losses)/len(train_dataloader.dataset)\n",
        "  val_loss = sum(val_batch_losses)/len(validation_dataloader.dataset)\n",
        "\n",
        "  if val_loss < prev_loss:\n",
        "    torch.save(model, \"model_path.pth\")#save model\n",
        "    prev_loss = val_loss#save loss\n",
        "\n",
        "  print(\"Epoch: \" , epoch+1 , \"\\n --------------------------\")\n",
        "  print(\"Loss: \\n train: \", train_loss, \"\\n validation: \", val_loss)\n",
        "  # print(\"LOSS(train): \", train_loss, \" LOSS(validation): \", val_loss )\n",
        "  print(f\"Accuracy: \\n train:  {100*train_acc:.2f}% \\n validation : {100*val_acc:.2f} % \"  )\n",
        "  print(\"F1 SCORE: \\n train: \", f1_train ,\" \\n validation: \", f1_val)\n",
        "\n",
        "  print(\"\\n\")\n",
        "\n",
        "  #calclulate confusion matrix\n",
        "  if epoch == 29:\n",
        "    print('confusion matrix')\n",
        "    results = confusion_matrix(val_true, val_pred)\n",
        "    ax = sns.heatmap(results)\n",
        "\n",
        "  #store loss or each epoch\n",
        "  train_loss_history.append(sum(train_batch_losses)/len(train_dataloader.dataset))\n",
        "  val_loss_history.append(sum(val_batch_losses)/len(validation_dataloader.dataset))"
      ]
    },
    {
      "cell_type": "markdown",
      "metadata": {
        "id": "OQBIvysY66qq"
      },
      "source": [
        "EVALUATION (test set)"
      ]
    },
    {
      "cell_type": "code",
      "execution_count": 12,
      "metadata": {
        "colab": {
          "base_uri": "https://localhost:8080/",
          "height": 404
        },
        "id": "3N8JkTlR668h",
        "outputId": "d89fc475-24ba-48ee-9df3-de1259000107"
      },
      "outputs": [
        {
          "name": "stdout",
          "output_type": "stream",
          "text": [
            "Loss: \n",
            " test:  0.04615830865060521\n",
            "Accuracy: \n",
            "test : 72.38 % \n",
            "F1 SCORE: \n",
            "  test:  0.7231476953248166\n",
            "\n",
            " confusion matrix\n"
          ]
        },
        {
          "data": {
            "image/png": "[encoded data removed]",
            "text/plain": [
              "<Figure size 432x288 with 2 Axes>"
            ]
          },
          "metadata": {},
          "output_type": "display_data"
        }
      ],
      "source": [
        "test_dataset = Custom_Dataset(test_X,test_lbl_idx, transform=None)\n",
        "test_dataloader = DataLoader(test_dataset, batch_size=b_sz, shuffle = True)\n",
        "model = torch.load(\"model_path.pth\").to(device)\n",
        "\n",
        "with torch.no_grad():  \n",
        "  test_true, test_pred, test_batch_losses = validate_(test_dataloader)\n",
        "    \n",
        "  #calculate f1_score\n",
        "  f1_test = f1_score(test_true, test_pred, average='weighted')\n",
        "\n",
        "  #calculate accuracy\n",
        "  test_acc = accuracy_score(test_true, test_pred, )\n",
        "\n",
        "  #calculate loss\n",
        "  test_loss = sum(test_batch_losses)/len(test_dataloader.dataset)\n",
        "\n",
        "  print(\"Loss: \\n test: \", test_loss)\n",
        "  print(f\"Accuracy: \\ntest : {100*test_acc:.2f} % \"  )\n",
        "  print(\"F1 SCORE: \\n  test: \", f1_test)\n",
        "  print('\\n confusion matrix')\n",
        "  results = confusion_matrix(test_true, test_pred)\n",
        "  ax = sns.heatmap(results)"
      ]
    },
    {
      "cell_type": "markdown",
      "metadata": {
        "id": "3y31eK4f7LLP"
      },
      "source": [
        "**Βήμα 5: Αλγόριθμοι βελτιστοποίησης**"
      ]
    },
    {
      "cell_type": "markdown",
      "metadata": {
        "id": "jMGu-kiC7M_M"
      },
      "source": [
        "Using learning rate = 0.002 and 30 epochs with batch size 16 we get the following results for different optimizers.\n",
        "Below is shown tha Accuracy and F1 score for the test set.\n",
        "\n",
        "I have not perform any seed operation until now on the code so if we run again the code trying to reproduce the results shown below the values of the table may differ."
      ]
    },
    {
      "cell_type": "markdown",
      "metadata": {
        "id": "YNQ758-57QT3"
      },
      "source": [
        "\\begin{array}{ccccccccc}\n",
        "\\text{metric}&\\text{Adam}&\\text{AdamW}&\\text{NAdam}&\\text{RAdam}&\\text{Adagrad}&\\text{RMSprop}&\\text{Rprop}&\\text{ASGD}&\\text{SGD}\\\\\n",
        "F1\\_score & 60.54\\% & 56.98\\% & 71.37\\% & 50.36\\% & 66.06\\% & 49.93\\% &  64.10\\% & 69.40\\% & 71.73\\% \\\\\n",
        "Accuracy & 61\\% & 55\\% & 70\\% & 51\\% & 64\\% &49\\% & 64\\% & 68\\% & 71\\% \n",
        "\\end{array}\n"
      ]
    },
    {
      "cell_type": "markdown",
      "metadata": {
        "id": "0KAjNCtf70xX"
      },
      "source": [
        "#Ερώτημα 3: Improving Performance"
      ]
    },
    {
      "cell_type": "markdown",
      "metadata": {
        "id": "UJSb6Wy_OsI0"
      },
      "source": [
        "To run this question ine has first run question 2. Here, i have included only the cells that need changes and rerun question two."
      ]
    },
    {
      "cell_type": "markdown",
      "metadata": {
        "id": "6hgeb4JzOvAX"
      },
      "source": [
        "Βήμα 1: Reproducibility\n",
        "\n",
        "Rruning the code below we are able to seed our parameters"
      ]
    },
    {
      "cell_type": "code",
      "execution_count": 13,
      "metadata": {
        "id": "20FKSn0J7-Ka"
      },
      "outputs": [],
      "source": [
        "import random, os\n",
        "import time\n",
        "def torch_seed(seed=0):\n",
        "    random.seed(seed)\n",
        "    np.random.seed(seed)\n",
        "    torch.manual_seed(seed)\n",
        "    torch.backends.cudnn.deterministic = True\n",
        "    torch.backends.cudnn.benchmark = False\n",
        "    torch.cuda.manual_seed_all(seed)\n",
        "    os.environ['PYTHONHASHSEED'] = str(seed)\n",
        "torch_seed(100)"
      ]
    },
    {
      "cell_type": "markdown",
      "metadata": {
        "id": "Vx_3yRdjPCjK"
      },
      "source": [
        "**Βήμα 2: Activation functions**\n",
        "\n",
        "Redefining the network defined previously on question two. "
      ]
    },
    {
      "cell_type": "code",
      "execution_count": 14,
      "metadata": {
        "id": "7xZ40FjbPHeH"
      },
      "outputs": [],
      "source": [
        "class convNet(nn.Module):\n",
        "  def __init__(self):\n",
        "    super().__init__()\n",
        "    \n",
        "    #convolutional layers\n",
        "    self.conv1 = nn.Conv2d(1, 16, 5, padding = 2)  # in channels, out_channels, kernel_size\n",
        "    self.conv2 = nn.Conv2d(16, 32, 5, padding = 2)\n",
        "    self.conv3 = nn.Conv2d(32, 64, 5, padding = 2)\n",
        "    self.conv4 = nn.Conv2d(64, 128, 5, padding = 2)\n",
        "\n",
        "    #max pool and non linear layer\n",
        "    self.max_pool = nn.MaxPool2d(2,2)\n",
        "    self.non_linear = nn.SELU()\n",
        "\n",
        "    #batch normalization layers\n",
        "    self.batch_norm1 = nn.BatchNorm2d(16)\n",
        "    self.batch_norm2 = nn.BatchNorm2d(32)\n",
        "    self.batch_norm3 = nn.BatchNorm2d(64)\n",
        "    self.batch_norm4 = nn.BatchNorm2d(128)\n",
        "    \n",
        "    #linear layers\n",
        "    self.linear1 = nn.Linear(1024, 1024)\n",
        "    self.linear2 = nn.Linear(1024, 256)\n",
        "    self.linear3 = nn.Linear(256, 32)\n",
        "    self.linear4 = nn.Linear(32, 4)\n",
        "\n",
        "    self.dropout = nn.Dropout(0.25)\n",
        "\n",
        "  def forward(self, x):\n",
        "      # x = self.max_pool(self.non_linear(self.conv1(x)))\n",
        "      # x = self.max_pool(self.non_linear(self.conv2(x)))\n",
        "      # x = self.max_pool(self.non_linear(self.conv3(x)))\n",
        "      # x = self.max_pool(self.non_linear(self.conv4(x)))\n",
        "      x = self.max_pool(self.batch_norm1(self.non_linear(self.conv1(x))))\n",
        "      x = self.max_pool(self.batch_norm2(self.non_linear(self.conv2(x))))\n",
        "      x = self.max_pool(self.batch_norm3(self.non_linear(self.conv3(x))))\n",
        "      x = self.max_pool(self.batch_norm4(self.non_linear(self.conv4(x))))\n",
        "\n",
        "      x = x.view(x.size(0), -1)\n",
        "  \n",
        "      # x = self.dropout(x)\n",
        "      out = self.linear1(x)\n",
        "      out = self.linear2(out)\n",
        "      out = self.linear3(out)\n",
        "      out = self.linear4(out)\n",
        "      return out\n",
        "\n",
        "device = 'cuda' if torch.cuda.is_available() else 'cpu'\n",
        "model = convNet().to(device)"
      ]
    },
    {
      "cell_type": "code",
      "execution_count": 15,
      "metadata": {
        "id": "4gMRmGVkPLAD"
      },
      "outputs": [],
      "source": [
        "def train_(train_dataloader):\n",
        "  train_batch_losses = []\n",
        "  pred_arr=[]\n",
        "  true_arr=[]\n",
        "  correct = 0\n",
        "\n",
        "  for x_batch, y_batch in train_dataloader:\n",
        "    x_batch = x_batch.to(device)\n",
        "    y_batch = y_batch.to(device)\n",
        "    x_batch = torch.unsqueeze(x_batch,1)\n",
        "    y_pred = model(x_batch.float())\n",
        "\n",
        "    #store label baches and their prediction to use for f1 calculation\n",
        "    _, predicted = torch.max(y_pred, 1) #keep the label with the gratest propability\n",
        "    true_arr.append(y_batch)\n",
        "    pred_arr.append(predicted)\n",
        "\n",
        "    loss = loss_func(y_pred, y_batch)#calculate loss\n",
        "    train_batch_losses.append(loss.item())\n",
        "\n",
        "    \n",
        "    optimizer.zero_grad()#Delete previously stored gradients\n",
        "    loss.backward()#Perform backpropagation starting from the loss calculated in this epoch\n",
        "    optimizer.step()#Update model's weights based on the gradients calculated during backprop\n",
        "  scheduler1.step()\n",
        "\n",
        "  #modify baches and prediction shape to calculate f1 score\n",
        "  train_true = convert(true_arr)\n",
        "  train_pred = convert(pred_arr)\n",
        "  return train_true, train_pred, train_batch_losses\n",
        "\n",
        "\n",
        "def validate_(validation_dataloader):\n",
        "    val_batch_losses = []\n",
        "    pred_arr=[]\n",
        "    batch_arr=[]\n",
        "    correct = 0\n",
        "    for x_batch, y_batch in validation_dataloader:\n",
        "      x_batch = x_batch.to(device)\n",
        "      y_batch = y_batch.to(device)\n",
        "      x_batch = torch.unsqueeze(x_batch,1)\n",
        "      y_pred = model(x_batch.float())\n",
        "      _, predicted = torch.max(y_pred, 1)#keep the label with the greatest propability\n",
        "\n",
        "      #loss calculation per batch\n",
        "      val_loss = loss_func(y_pred, y_batch)\n",
        "      val_batch_losses.append(val_loss.item())\n",
        "\n",
        "      #store baches and their prediction to use for f1 calculation\n",
        "      batch_arr.append(y_batch)\n",
        "      pred_arr.append(predicted)\n",
        "\n",
        "    scheduler1.step()\n",
        "\n",
        "    #modify baches and prediction shape to calculate f1 score\n",
        "    val_true = convert(batch_arr)\n",
        "    val_pred = convert(pred_arr)\n",
        "    return val_true, val_pred, val_batch_losses"
      ]
    },
    {
      "cell_type": "code",
      "execution_count": 16,
      "metadata": {
        "id": "5bNGURK93bTA"
      },
      "outputs": [],
      "source": [
        "#define method to implement early stopping\n",
        "class EarlyStopping():\n",
        "    def __init__(self, patience=5, min_delta=0):\n",
        "\n",
        "        self.tolerance = patience\n",
        "        self.min_delta = min_delta\n",
        "        self.counter = 0\n",
        "        self.early_stop = False\n",
        "\n",
        "    def __call__(self, train_loss, validation_loss):\n",
        "        if (validation_loss - train_loss) > self.min_delta:\n",
        "            self.counter +=1\n",
        "            if self.counter >= self.tolerance:  \n",
        "                self.early_stop = True"
      ]
    },
    {
      "cell_type": "code",
      "execution_count": 17,
      "metadata": {
        "colab": {
          "base_uri": "https://localhost:8080/"
        },
        "id": "am5kGNbHPNj5",
        "outputId": "1e703a4e-d1a9-4a15-b0ef-5f676bbd6e2e"
      },
      "outputs": [
        {
          "name": "stdout",
          "output_type": "stream",
          "text": [
            "Adjusting learning rate of group 0 to 6.6667e-04.\n",
            "Adjusting learning rate of group 0 to 9.3333e-04.\n",
            "Adjusting learning rate of group 0 to 1.2000e-03.\n",
            "Epoch:  1 \n",
            " --------------------------\n",
            "Loss: \n",
            " train:  0.07656491346657276 \n",
            " validation:  0.06791647166013717\n",
            "Accuracy: \n",
            " train:  54.37% \n",
            " validation : 64.25 % \n",
            "F1 SCORE: \n",
            " train:  0.5275230815666694  \n",
            " validation:  0.6131013594398057\n",
            "\n",
            "\n",
            "Adjusting learning rate of group 0 to 1.4667e-03.\n",
            "Adjusting learning rate of group 0 to 1.7333e-03.\n",
            "Epoch:  2 \n",
            " --------------------------\n",
            "Loss: \n",
            " train:  0.059392318706959484 \n",
            " validation:  0.051682109609246255\n",
            "Accuracy: \n",
            " train:  65.41% \n",
            " validation : 70.00 % \n",
            "F1 SCORE: \n",
            " train:  0.6153730970984596  \n",
            " validation:  0.6744958650081989\n",
            "\n",
            "\n",
            "Adjusting learning rate of group 0 to 2.0000e-03.\n",
            "Adjusting learning rate of group 0 to 2.0000e-03.\n",
            "Epoch:  3 \n",
            " --------------------------\n",
            "Loss: \n",
            " train:  0.046182844219729305 \n",
            " validation:  0.042676469050347804\n",
            "Accuracy: \n",
            " train:  72.19% \n",
            " validation : 76.50 % \n",
            "F1 SCORE: \n",
            " train:  0.7078702464909723  \n",
            " validation:  0.7601480420167203\n",
            "\n",
            "\n",
            "Adjusting learning rate of group 0 to 2.0000e-03.\n",
            "Adjusting learning rate of group 0 to 2.0000e-03.\n",
            "Epoch:  4 \n",
            " --------------------------\n",
            "Loss: \n",
            " train:  0.039986799033358694 \n",
            " validation:  0.03690175380557775\n",
            "Accuracy: \n",
            " train:  75.19% \n",
            " validation : 77.38 % \n",
            "F1 SCORE: \n",
            " train:  0.7468087626424381  \n",
            " validation:  0.7672886806746736\n",
            "\n",
            "\n",
            "Adjusting learning rate of group 0 to 2.0000e-03.\n",
            "Adjusting learning rate of group 0 to 2.0000e-03.\n",
            "Epoch:  5 \n",
            " --------------------------\n",
            "Loss: \n",
            " train:  0.03710786916315555 \n",
            " validation:  0.03676062973216176\n",
            "Accuracy: \n",
            " train:  76.94% \n",
            " validation : 77.25 % \n",
            "F1 SCORE: \n",
            " train:  0.7667109979106665  \n",
            " validation:  0.7682725632757554\n",
            "\n",
            "\n",
            "Adjusting learning rate of group 0 to 2.0000e-03.\n",
            "Adjusting learning rate of group 0 to 2.0000e-03.\n",
            "Epoch:  6 \n",
            " --------------------------\n",
            "Loss: \n",
            " train:  0.03387963462155312 \n",
            " validation:  0.036701602339744566\n",
            "Accuracy: \n",
            " train:  79.09% \n",
            " validation : 76.00 % \n",
            "F1 SCORE: \n",
            " train:  0.7892546662824729  \n",
            " validation:  0.757316690113784\n",
            "\n",
            "\n",
            "Adjusting learning rate of group 0 to 2.0000e-03.\n",
            "Adjusting learning rate of group 0 to 2.0000e-03.\n",
            "Epoch:  7 \n",
            " --------------------------\n",
            "Loss: \n",
            " train:  0.032321830196306106 \n",
            " validation:  0.03924265993759036\n",
            "Accuracy: \n",
            " train:  80.16% \n",
            " validation : 74.75 % \n",
            "F1 SCORE: \n",
            " train:  0.8003867449035711  \n",
            " validation:  0.7315034582017458\n",
            "\n",
            "\n",
            "Adjusting learning rate of group 0 to 2.0000e-03.\n",
            "Adjusting learning rate of group 0 to 2.0000e-03.\n",
            "Epoch:  8 \n",
            " --------------------------\n",
            "Loss: \n",
            " train:  0.031129799066111446 \n",
            " validation:  0.03661490090191364\n",
            "Accuracy: \n",
            " train:  80.59% \n",
            " validation : 77.38 % \n",
            "F1 SCORE: \n",
            " train:  0.8047675393103952  \n",
            " validation:  0.7678039737850514\n",
            "\n",
            "\n",
            "Adjusting learning rate of group 0 to 2.0000e-03.\n",
            "Adjusting learning rate of group 0 to 2.0000e-03.\n",
            "Epoch:  9 \n",
            " --------------------------\n",
            "Loss: \n",
            " train:  0.02862376472912729 \n",
            " validation:  0.03713003292679787\n",
            "Accuracy: \n",
            " train:  82.75% \n",
            " validation : 77.38 % \n",
            "F1 SCORE: \n",
            " train:  0.8264096757040786  \n",
            " validation:  0.7683415249677776\n",
            "\n",
            "\n",
            "Adjusting learning rate of group 0 to 2.0000e-03.\n",
            "Adjusting learning rate of group 0 to 2.0000e-03.\n",
            "Epoch:  10 \n",
            " --------------------------\n",
            "Loss: \n",
            " train:  0.02616042469628155 \n",
            " validation:  0.03869442405179143\n",
            "Accuracy: \n",
            " train:  84.41% \n",
            " validation : 74.88 % \n",
            "F1 SCORE: \n",
            " train:  0.8431712574255531  \n",
            " validation:  0.7487622339034822\n",
            "\n",
            "\n",
            "Adjusting learning rate of group 0 to 2.0000e-03.\n",
            "Adjusting learning rate of group 0 to 2.0000e-03.\n",
            "Epoch:  11 \n",
            " --------------------------\n",
            "Loss: \n",
            " train:  0.024872158335056155 \n",
            " validation:  0.03684114968404174\n",
            "Accuracy: \n",
            " train:  85.12% \n",
            " validation : 78.00 % \n",
            "F1 SCORE: \n",
            " train:  0.850989088302264  \n",
            " validation:  0.7758615655861925\n",
            "\n",
            "\n",
            "Adjusting learning rate of group 0 to 2.0000e-03.\n",
            "Adjusting learning rate of group 0 to 2.0000e-03.\n",
            "We are at epoch: 11\n",
            "Training time: 12.83924126625061s\n"
          ]
        }
      ],
      "source": [
        "# define hyperparameters\n",
        "loss_func = nn.CrossEntropyLoss()\n",
        "lr_ = 0.002\n",
        "epochs = 60\n",
        "b_sz = 16\n",
        "prev_loss = 1000\n",
        "optimizer = optim.SGD(model.parameters(), lr = lr_, weight_decay = 0.0002)\n",
        "early_stopping = EarlyStopping(patience=7, min_delta=0)\n",
        "\n",
        "\n",
        "###  schedulers ###\n",
        "scheduler1 = torch.optim.lr_scheduler.LinearLR(optimizer, verbose = True)\n",
        "# scheduler2 = torch.optim.lr_scheduler.ConstantLR(optimizer, verbose = True)\n",
        "# scheduler2 = torch.optim.lr_scheduler.ExponentialLR(optimizer, gamma=1.0, verbose=True)\n",
        "# scheduler1 = torch.optim.lr_scheduler.SequentialLR(optimizer, schedulers=[scheduler, scheduler2], milestones=[2])\n",
        "# scheduler1 = torch.optim.lr_scheduler.CyclicLR(optimizer, base_lr=0.001, max_lr=0.1, verbose = True)\n",
        "# scheduler1 = torch.optim.lr_scheduler.OneCycleLR(optimizer, max_lr=0.01)\n",
        "# scheduler1 = torch.optim.lr_scheduler.StepLR(optimizer, step_size=30, gamma=0.1)\n",
        "# scheduler1 = torch.optim.lr_scheduler.MultiStepLR(optimizer, milestones=[30,80], verbose = True)\n",
        "# lambda1 = lambda epoch: 0.65 ** epoch\n",
        "# scheduler1 = torch.optim.lr_scheduler.LambdaLR(optimizer,lr_lambda = lambda1, verbose=True)\n",
        "# lmbda = lambda epoch: 0.95\n",
        "# scheduler1 = torch.optim.lr_scheduler.MultiplicativeLR(optimizer, lr_lambda=lmbda)\n",
        "###    ----    ###\n",
        "\n",
        "#dataloaders\n",
        "train_dataset = Custom_Dataset(train_X,train_lbl_idx, transform=None)\n",
        "train_dataloader = DataLoader(train_dataset, batch_size=b_sz, shuffle = True)\n",
        "validation_dataset = Custom_Dataset(val_X,val_lbl_idx, transform=None)\n",
        "validation_dataloader = DataLoader(validation_dataset, batch_size=b_sz, shuffle = True)\n",
        "\n",
        "#train and validation procces\n",
        "\n",
        "start = time.time()\n",
        "\n",
        "train_loss_history = []\n",
        "val_loss_history = []\n",
        "# device = torch.device('cuda' if torch.cuda.is_available() else 'cpu')\n",
        "for epoch in range(epochs):\n",
        "  train_batch_losses = []\n",
        "  val_batch_losses = []\n",
        "  \n",
        "  #train\n",
        "  model.train()\n",
        "  train_true, train_pred, train_batch_losses = train_(train_dataloader)\n",
        "\n",
        "  #validate\n",
        "  with torch.no_grad():  \n",
        "    val_true, val_pred, val_batch_losses = validate_(validation_dataloader)\n",
        "    \n",
        "  #calculate f1_score\n",
        "  f1_train = f1_score(train_true, train_pred, average='weighted')\n",
        "  f1_val = f1_score(val_true, val_pred, average='weighted')\n",
        "\n",
        "  #calculate accuracy\n",
        "  train_acc = accuracy_score(train_true, train_pred, )\n",
        "  val_acc = accuracy_score(val_true, val_pred, )\n",
        "\n",
        "  #calculate loss\n",
        "  train_loss = sum(train_batch_losses)/len(train_dataloader.dataset)\n",
        "  val_loss = sum(val_batch_losses)/len(validation_dataloader.dataset)\n",
        "\n",
        "  # if val_loss < prev_loss:\n",
        "  #   torch.save(model, \"model_path.pth\")#save model\n",
        "  #   prev_loss = val_loss#save loss\n",
        "  early_stopping(train_loss, val_loss)\n",
        "  if early_stopping.early_stop:\n",
        "    print(\"We are at epoch:\", epoch)\n",
        "    torch.save(model, \"model_path.pth\")#save model\n",
        "    break\n",
        "\n",
        "  print(\"Epoch: \" , epoch+1 , \"\\n --------------------------\")\n",
        "  print(\"Loss: \\n train: \", train_loss, \"\\n validation: \", val_loss)\n",
        "  # print(\"LOSS(train): \", train_loss, \" LOSS(validation): \", val_loss )\n",
        "  print(f\"Accuracy: \\n train:  {100*train_acc:.2f}% \\n validation : {100*val_acc:.2f} % \"  )\n",
        "  print(\"F1 SCORE: \\n train: \", f1_train ,\" \\n validation: \", f1_val)\n",
        "\n",
        "  print(\"\\n\")\n",
        "\n",
        "  #calclulate confusion matrix\n",
        "  if epoch == 59:\n",
        "    print('confusion matrix')\n",
        "    results = confusion_matrix(val_true, val_pred)\n",
        "    ax = sns.heatmap(results)\n",
        "\n",
        "  #store loss or each epoch\n",
        "  train_loss_history.append(sum(train_batch_losses)/len(train_dataloader.dataset))\n",
        "  val_loss_history.append(sum(val_batch_losses)/len(validation_dataloader.dataset))\n",
        "  \n",
        "#calculate time\n",
        "stop = time.time()\n",
        "print(f\"Training time: {stop - start}s\")"
      ]
    },
    {
      "cell_type": "markdown",
      "metadata": {
        "id": "_osPHTbdPFvE"
      },
      "source": [
        "Test"
      ]
    },
    {
      "cell_type": "code",
      "execution_count": 18,
      "metadata": {
        "colab": {
          "base_uri": "https://localhost:8080/",
          "height": 421
        },
        "id": "NgU9JVmxPQpc",
        "outputId": "eba1d324-1ab3-44c5-8de9-baa3eba2d3d6"
      },
      "outputs": [
        {
          "name": "stdout",
          "output_type": "stream",
          "text": [
            "Adjusting learning rate of group 0 to 2.0000e-03.\n",
            "Loss: \n",
            " test:  0.03862889298389471\n",
            "Accuracy: \n",
            "test : 76.16 % \n",
            "F1 SCORE: \n",
            "  test:  0.7618465179900581\n",
            "\n",
            " confusion matrix\n"
          ]
        },
        {
          "data": {
            "image/png": "[encoded data removed]",
            "text/plain": [
              "<Figure size 432x288 with 2 Axes>"
            ]
          },
          "metadata": {},
          "output_type": "display_data"
        }
      ],
      "source": [
        "test_dataset = Custom_Dataset(test_X,test_lbl_idx, transform=None)\n",
        "test_dataloader = DataLoader(test_dataset, batch_size=b_sz, shuffle = True)\n",
        "\n",
        "model = torch.load(\"model_path.pth\").to(device)\n",
        "\n",
        "with torch.no_grad():  \n",
        "  test_true, test_pred, test_batch_losses = validate_(test_dataloader)\n",
        "    \n",
        "  #calculate f1_score\n",
        "  f1_test = f1_score(test_true, test_pred, average='weighted')\n",
        "\n",
        "  #calculate accuracy\n",
        "  test_acc = accuracy_score(test_true, test_pred, )\n",
        "\n",
        "  #calculate loss\n",
        "  test_loss = sum(test_batch_losses)/len(test_dataloader.dataset)\n",
        "\n",
        "  print(\"Loss: \\n test: \", test_loss)\n",
        "  print(f\"Accuracy: \\ntest : {100*test_acc:.2f} % \"  )\n",
        "  print(\"F1 SCORE: \\n  test: \", f1_test)\n",
        "  print('\\n confusion matrix')\n",
        "  results = confusion_matrix(test_true, test_pred)\n",
        "  ax = sns.heatmap(results)\n",
        "torch_seed(100)"
      ]
    },
    {
      "cell_type": "markdown",
      "metadata": {
        "id": "lf91BXw5PqjP"
      },
      "source": [
        "**Βήμα 2: Activation functions**"
      ]
    },
    {
      "cell_type": "markdown",
      "metadata": {
        "id": "xhOcrPbNPtb6"
      },
      "source": [
        "\\begin{array}{ccccccccc}\n",
        "\\text{metric}&\\text{Linear}&\\text{ReLu}&\\text{SELU}&\\text{Softplus}&\\text{Tanh}&\\text{CELU}&\\text{Tanhshrink}\\\\\n",
        "F1\\_score & 71.80\\% & 69.84\\% & 75.00\\% & 72.38\\% & 52.76\\% & 73.62\\% &  72.53\\%  \\\\\n",
        "Accuracy & 71.81\\% & 69.09\\% & 74.87\\% & 71.44\\% & 46.54\\% &73.01\\% & 71.49\\% \n",
        "\\end{array}"
      ]
    },
    {
      "cell_type": "markdown",
      "metadata": {
        "id": "KRprWLMVPuBq"
      },
      "source": [
        "Since, the activation that gave the best accuracy and F1 score on \"Βήμα 2\", is SELU I kept this function on the following steps."
      ]
    },
    {
      "cell_type": "markdown",
      "metadata": {
        "id": "Vz8o7y9-PxLD"
      },
      "source": [
        "**Βήμα 4: Learning rate scheduler**"
      ]
    },
    {
      "cell_type": "markdown",
      "metadata": {
        "id": "Oi6_zS2JPz_q"
      },
      "source": [
        "Lets remember that until now the best accuracy sccore is 75.00%.\n",
        "All the schedulers below had the default values on the parameters expect from the verbose = True. For the schedulers that had extra parameters like gamma or base_lr and max_lr I tried different values and wrote down on the table below the best performance achived.\n",
        "As we can se from the tabe below LinearLR gave the best accuracy score. However the overall performance is slightly better than the one reached withour the scheduler, using constant learning rate = 0.002."
      ]
    },
    {
      "cell_type": "markdown",
      "metadata": {
        "id": "uDmo2abnP3s1"
      },
      "source": [
        "\\begin{array}{ccc}\n",
        "\\text{scheduler} &\\text{accuracy} &\\text{f1_score} \\\\ \n",
        "\\text{LinearLR} & 76.74\\% & 76.28\\% \\\\ \n",
        "\\text{ConstantLR} & 74.64\\% & 74.53\\% \\\\ \n",
        "\\text{ExponentialLR} & 75.51\\% & 75.45\\% \\\\ \n",
        "\\text{CyclicLR} & 63.52\\% & 62.52\\% \\\\ \n",
        "\\text{StepLR} & 76.38\\% & 76.29\\% \\\\ \n",
        "\\text{MultiStepLR} & 75.29\\% & 75.28\\% \\\\ \n",
        "\\text{LambdaLR} & 72.73\\% & 68.94\\% \\\\ \n",
        "\\text{MultiplicativeLR} & 75.80\\% & 75.71\\% \\\\ \n",
        "\\text{SequentialLR(LinearLR+ConstantLR)} & 74.85\\% & 74.80\\% \\\\ \n",
        "\\text{SequentialLR(LinearLR+ExponentialLR)} & 75.94\\% & 75.53\\% \\\\ \n",
        "\\end{array}"
      ]
    },
    {
      "cell_type": "markdown",
      "metadata": {
        "id": "i7dPRPQXP557"
      },
      "source": [
        "**Βήμα 5: Batch Normalization**\n",
        "\n",
        "Adding a batchnorm2d layer on the code above."
      ]
    },
    {
      "cell_type": "markdown",
      "metadata": {
        "id": "o0YLrj3QP9K9"
      },
      "source": [
        "**Βήμα 6: Regularization**"
      ]
    },
    {
      "cell_type": "markdown",
      "metadata": {
        "id": "QGwcreeEQCKE"
      },
      "source": [
        "Based on the results shown on the table below we can see that setting the weight_decay paramater of the  optimizer equal to 0.002 helps the model perform better. The dropout layer on the other hand makes the performance decrase."
      ]
    },
    {
      "cell_type": "markdown",
      "metadata": {
        "id": "5Nt6dHXiQD3W"
      },
      "source": [
        "\\begin{array}{cccc}\n",
        "\\text{epochs}&\\text{30}&\\text{30}&\\text{60}&\\text{60}\\\\\n",
        "\\text{metrics}&\\text{accuracy}&\\text{f1_score}&\\text{accuracy}&\\text{f1_score}\\\\\n",
        "\\text{weight_decay}& 77.40\\% & 77.41\\% & 77.25\\% & 77.02\\%\\\\\n",
        "\\text{dropout} & 73.91\\% & 73.93\\% &75.29\\% & 74.91\\% \\\\\n",
        "\\text{both}& 73.98\\% & 73.9\\% & 75.15\\% & 74.70\\%\n",
        "\\end{array}"
      ]
    },
    {
      "cell_type": "markdown",
      "metadata": {
        "id": "kaVbeCuwQIWR"
      },
      "source": [
        "**Βήμα 7: Training efficiency**"
      ]
    },
    {
      "cell_type": "markdown",
      "metadata": {
        "id": "wTbqUcyOQFox"
      },
      "source": [
        "**Batchsize** \\\\\n",
        "\n",
        "Metrics (accuracy and f1_score) corresponds to the test set and the running time corresponds to the time needed for training the model for 60 epochs. As we can see the ideal batch size is 16 based on accuracy and f1 score results.\n",
        "\\begin{array}{ccc}\n",
        "\\text{batch size} & \\text{accuracy} & \\text{f1_score} & \\text{training time (sec)} \\\\\n",
        "1 & 75.22\\% & 75.74\\% & 842.597\\\\\n",
        "2 & 73.93\\% & 73.56\\% & 431.311 \\\\\n",
        "4 & 75.15\\% & 74.76\\% & 229.099 \\\\\n",
        "8 & 76.94\\% & 75.96\\% & 124.422 \\\\\n",
        "16 & 77.25\\% & 77.02\\% & 63.593\\\\\n",
        "32 & 76.02\\% & 75.76\\% & 39.244\\\\\n",
        "64 & 77.03\\% & 76.90\\% & 29.250\\\\\n",
        "\\end{array}\n"
      ]
    },
    {
      "cell_type": "markdown",
      "metadata": {
        "id": "ns43qNW3Bsc0"
      },
      "source": [
        "**Early stopping**\n",
        "\n",
        "Instead of saving the version of the model which reached the best score on loss values as we were doing until now I created a new function to impement early stopping method and used that instead.\n",
        "\n",
        "Using patience=7,  I observed that the accuracy droped a littele bit (less than 1%) but we \"won\" a lot time. Instead of more than 60 second we now need ony 7 sconds because the model now do not train for 60 epochs but needs only 6.\n",
        "\n",
        "I did some experiments using different values of patience. As the patience increases the accuracy value increse but so does the time needed for training (it takes more epochs) and ....\n",
        "For example for patience = 9 we get accuracy score on test set equal to 76.24% and the model need 8 epochs to conclude that equals to approximately 11 seconds.\n",
        "For patience = 5, accuracy score on test set equals to 74.78% and we need only 4 epochs (approximately 5 seconds)."
      ]
    },
    {
      "cell_type": "code",
      "execution_count": null,
      "metadata": {
        "id": "9C2sFRhM6x0U"
      },
      "outputs": [],
      "source": [
        "%cd .."
      ]
    },
    {
      "cell_type": "markdown",
      "metadata": {
        "id": "KnaYa4QK0ryE"
      },
      "source": [
        "# Ερώτημα 4: Testing"
      ]
    },
    {
      "cell_type": "markdown",
      "metadata": {
        "id": "5Lnxzj_07nDk"
      },
      "source": [
        "Youtube.py have to be uploaded."
      ]
    },
    {
      "cell_type": "markdown",
      "metadata": {
        "id": "-DHDnvcF0yeL"
      },
      "source": [
        "**Βήμα 1: Inference**"
      ]
    },
    {
      "cell_type": "code",
      "execution_count": 19,
      "metadata": {
        "id": "67huOeQJ0-R1"
      },
      "outputs": [],
      "source": [
        "#define dataset\n",
        "class _Dataset(Dataset):\n",
        "  def __init__(self,data, transform= None):\n",
        "    self.data = data\n",
        "    # self.targets = targets\n",
        "    self.transform = transform\n",
        "\n",
        "  def __len__(self):\n",
        "    return len(self.data)\n",
        "\n",
        "  def __getitem__(self, index):\n",
        "    x = self.data[index]\n",
        "    # y = self.targets[index]\n",
        "      \n",
        "    if self.transform:\n",
        "      x = self.transform(x)\n",
        "      # y = self.transform(y)      \n",
        "    return x\n"
      ]
    },
    {
      "cell_type": "code",
      "execution_count": 20,
      "metadata": {
        "id": "2_o2GlVO1BZX"
      },
      "outputs": [],
      "source": [
        "#define prediction faction\n",
        "def youtube_pred(dataloader_, model_):\n",
        "    list_ = []\n",
        "    # for data , lbl in next(iter(train_dataloader)):\n",
        "    for x_batch in dataloader_:\n",
        "      x_batch = x_batch.to(device)\n",
        "      x_batch.resize_(1 , 1 , 21, 128)\n",
        "\n",
        "      pred = model(x_batch.float())\n",
        "      list_.append(pred)\n",
        "    return list_"
      ]
    },
    {
      "cell_type": "markdown",
      "metadata": {
        "id": "GJCFVbcZ094H"
      },
      "source": [
        "**Βήμα 2: Κατέβασμα μουσικής** & **Βήμα 3: Προβλέψεις**"
      ]
    },
    {
      "cell_type": "code",
      "execution_count": 21,
      "metadata": {
        "colab": {
          "base_uri": "https://localhost:8080/"
        },
        "id": "slk7DJ1900bJ",
        "outputId": "eef4fd79-367d-42f4-d0a8-e619c505b336"
      },
      "outputs": [
        {
          "name": "stdout",
          "output_type": "stream",
          "text": [
            "/content\n",
            "n\n",
            "Hit:1 https://cloud.r-project.org/bin/linux/ubuntu bionic-cran40/ InRelease\n",
            "Hit:2 http://archive.ubuntu.com/ubuntu bionic InRelease\n",
            "Hit:3 http://ppa.launchpad.net/c2d4u.team/c2d4u4.0+/ubuntu bionic InRelease\n",
            "Ign:4 https://developer.download.nvidia.com/compute/machine-learning/repos/ubuntu1804/x86_64  InRelease\n",
            "Hit:5 https://developer.download.nvidia.com/compute/cuda/repos/ubuntu1804/x86_64  InRelease\n",
            "Hit:6 https://developer.download.nvidia.com/compute/machine-learning/repos/ubuntu1804/x86_64  Release\n",
            "Get:7 http://security.ubuntu.com/ubuntu bionic-security InRelease [88.7 kB]\n",
            "Get:8 http://archive.ubuntu.com/ubuntu bionic-updates InRelease [88.7 kB]\n",
            "Hit:10 http://ppa.launchpad.net/cran/libgit2/ubuntu bionic InRelease\n",
            "Hit:11 http://ppa.launchpad.net/deadsnakes/ppa/ubuntu bionic InRelease\n",
            "Get:12 http://archive.ubuntu.com/ubuntu bionic-backports InRelease [74.6 kB]\n",
            "Hit:13 http://ppa.launchpad.net/graphics-drivers/ppa/ubuntu bionic InRelease\n",
            "Fetched 252 kB in 1s (168 kB/s)\n",
            "Reading package lists... Done\n",
            "  % Total    % Received % Xferd  Average Speed   Time    Time     Time  Current\n",
            "                                 Dload  Upload   Total   Spent    Left  Speed\n",
            "100     3  100     3    0     0      1      0  0:00:03  0:00:02  0:00:01     1\n",
            "100     3  100     3    0     0      1      0  0:00:03  0:00:02  0:00:01     0\n",
            "  0     0    0     0    0     0      0      0 --:--:--  0:00:02 --:--:--     0\n",
            "100 1794k  100 1794k    0     0   524k      0  0:00:03  0:00:03 --:--:--  524k\n"
          ]
        }
      ],
      "source": [
        "!sudo apt-get update\n",
        "!sudo curl -L https://yt-dl.org/downloads/latest/youtube-dl -o /usr/local/bin/youtube-dl\n",
        "!sudo chmod a+rx /usr/local/bin/youtube-dl"
      ]
    },
    {
      "cell_type": "code",
      "execution_count": 22,
      "metadata": {
        "id": "CTiiN84T1mXT"
      },
      "outputs": [],
      "source": [
        "import sys\n",
        "sys.path.append('/content/youtube.py')\n",
        "import youtube"
      ]
    },
    {
      "cell_type": "markdown",
      "metadata": {
        "id": "YIVyg5452Gvk"
      },
      "source": [
        "Classical mussic"
      ]
    },
    {
      "cell_type": "code",
      "execution_count": 24,
      "metadata": {
        "colab": {
          "base_uri": "https://localhost:8080/"
        },
        "id": "1THJvwss1qeD",
        "outputId": "7dbed876-18c9-40db-88fb-fa7e3122955b"
      },
      "outputs": [
        {
          "name": "stderr",
          "output_type": "stream",
          "text": [
            "/usr/local/lib/python3.7/dist-packages/librosa/core/audio.py:165: UserWarning: PySoundFile failed. Trying audioread instead.\n",
            "  warnings.warn(\"PySoundFile failed. Trying audioread instead.\")\n"
          ]
        },
        {
          "name": "stdout",
          "output_type": "stream",
          "text": [
            "[tensor([[ 0.8954, -2.1451,  0.8717,  0.4368]], device='cuda:0'), tensor([[ 0.8954, -2.1451,  0.8717,  0.4368]], device='cuda:0'), tensor([[ 1.8111, -2.0838, -0.3381,  1.1976]], device='cuda:0'), tensor([[ 1.6397,  0.5884, -1.2138, -0.0853]], device='cuda:0'), tensor([[ 2.2027, -0.7325, -1.4834,  1.1990]], device='cuda:0'), tensor([[ 2.0140, -1.0412, -1.2488,  1.3444]], device='cuda:0'), tensor([[ 1.6942,  0.9347, -1.4328, -0.1543]], device='cuda:0'), tensor([[ 2.5025,  1.5876, -2.3738, -0.3051]], device='cuda:0'), tensor([[ 2.2892,  0.7767, -2.0857,  0.5888]], device='cuda:0'), tensor([[ 2.0850,  0.1170, -1.7282,  0.8242]], device='cuda:0'), tensor([[ 2.2977, -1.5672, -1.5295,  2.0149]], device='cuda:0'), tensor([[ 2.0695, -0.5728, -1.2678,  0.9035]], device='cuda:0'), tensor([[ 2.0584,  0.5956, -1.8755,  0.5592]], device='cuda:0'), tensor([[ 1.6714,  1.6088, -1.4319, -0.8334]], device='cuda:0'), tensor([[ 1.8705,  0.6910, -1.4159, -0.1129]], device='cuda:0'), tensor([[ 1.8623, -0.6539, -1.2809,  1.2783]], device='cuda:0'), tensor([[ 1.9617,  0.3207, -1.4410,  0.2150]], device='cuda:0'), tensor([[ 2.1578,  0.2847, -1.3486,  0.0563]], device='cuda:0'), tensor([[ 2.0476,  1.5360, -1.7120, -0.7813]], device='cuda:0'), tensor([[ 2.1584,  0.9666, -1.7182, -0.1467]], device='cuda:0'), tensor([[ 2.0185,  1.7099, -2.0896, -0.1309]], device='cuda:0'), tensor([[ 1.6776,  0.0207, -1.4358,  0.8793]], device='cuda:0'), tensor([[ 2.0632,  0.1143, -1.6892,  0.8575]], device='cuda:0'), tensor([[ 1.9838, -1.4248, -1.5389,  2.1835]], device='cuda:0'), tensor([[ 1.7113, -0.6858, -0.9466,  0.8562]], device='cuda:0'), tensor([[ 2.0750,  2.8562, -2.7291, -0.4645]], device='cuda:0'), tensor([[ 2.2578,  1.8563, -2.3696, -0.3418]], device='cuda:0'), tensor([[ 2.2909,  0.5627, -1.7846,  0.2624]], device='cuda:0'), tensor([[ 2.4285, -0.4595, -1.6057,  0.9380]], device='cuda:0'), tensor([[ 1.8283, -1.3045, -1.0235,  1.4806]], device='cuda:0'), tensor([[ 2.0604, -1.2324, -1.1837,  1.4643]], device='cuda:0'), tensor([[ 2.0624,  0.5476, -1.5685,  0.2850]], device='cuda:0'), tensor([[ 2.1076, -1.1937, -0.7353,  0.6519]], device='cuda:0'), tensor([[ 1.9134, -0.9217, -1.3295,  1.4132]], device='cuda:0'), tensor([[ 1.6778,  1.1478, -0.9968, -1.1374]], device='cuda:0'), tensor([[ 1.7490,  1.4825, -1.2190, -1.0388]], device='cuda:0'), tensor([[ 1.5816, -1.1802, -0.4632,  0.7523]], device='cuda:0'), tensor([[ 1.5802,  1.1845, -1.4484, -0.1754]], device='cuda:0'), tensor([[ 2.0412,  1.3988, -1.7626, -0.3517]], device='cuda:0'), tensor([[ 1.7002,  1.5438, -1.7868, -0.2706]], device='cuda:0'), tensor([[ 1.9807,  1.9844, -1.8090, -1.0564]], device='cuda:0'), tensor([[ 1.6806,  2.4007, -1.6463, -1.2219]], device='cuda:0'), tensor([[ 1.6877, -0.3341, -0.8328,  0.2695]], device='cuda:0'), tensor([[ 1.7142, -0.6580, -1.4560,  1.5382]], device='cuda:0'), tensor([[ 2.6637,  1.0808, -2.5127,  0.2047]], device='cuda:0'), tensor([[ 2.1982,  2.4051, -2.5018, -0.5516]], device='cuda:0'), tensor([[ 1.7653,  4.1212, -2.7474, -1.4387]], device='cuda:0'), tensor([[ 1.9170,  1.0836, -1.5121, -0.4544]], device='cuda:0'), tensor([[ 2.2645,  2.4795, -3.0057,  0.1298]], device='cuda:0'), tensor([[ 2.3108,  1.0035, -2.0049,  0.1528]], device='cuda:0'), tensor([[ 1.9560, -1.0995, -1.2546,  1.4415]], device='cuda:0'), tensor([[ 2.6027, -1.2973, -2.0898,  2.2535]], device='cuda:0'), tensor([[ 2.0691, -0.5040, -1.4834,  1.1268]], device='cuda:0'), tensor([[ 1.9363,  1.6904, -2.1685,  0.1722]], device='cuda:0'), tensor([[ 1.9723,  2.0230, -2.0116, -0.7129]], device='cuda:0'), tensor([[ 2.0965,  1.7006, -2.0506, -0.3955]], device='cuda:0'), tensor([[ 2.7194,  0.4688, -2.1084,  0.4860]], device='cuda:0'), tensor([[ 2.2660, -1.6555, -1.4673,  2.0623]], device='cuda:0'), tensor([[ 1.6767, -0.9422, -0.7878,  0.8531]], device='cuda:0'), tensor([[ 2.4789,  1.3470, -2.3587,  0.2852]], device='cuda:0'), tensor([[ 1.7672,  1.0957, -1.0994, -0.9937]], device='cuda:0'), tensor([[ 2.3905,  1.8755, -2.6508,  0.0079]], device='cuda:0'), tensor([[ 2.0465,  0.2529, -1.6631,  0.7625]], device='cuda:0'), tensor([[ 1.9384,  0.3013, -1.2737,  0.0113]], device='cuda:0'), tensor([[ 2.0545,  0.8621, -1.7142, -0.1068]], device='cuda:0'), tensor([[ 1.7353, -1.2994, -0.9793,  1.4019]], device='cuda:0'), tensor([[ 2.5425,  0.1386, -2.3841,  1.3693]], device='cuda:0'), tensor([[ 2.3713,  0.4683, -1.7313,  0.3394]], device='cuda:0'), tensor([[ 2.2481,  1.1435, -1.9464, -0.1431]], device='cuda:0'), tensor([[ 2.5788,  1.6058, -2.7658,  0.3060]], device='cuda:0'), tensor([[ 2.0079,  0.6502, -1.4868, -0.0628]], device='cuda:0'), tensor([[ 2.5592, -0.1419, -1.7883,  0.7031]], device='cuda:0'), tensor([[ 1.6571, -2.0333, -0.7616,  1.9968]], device='cuda:0'), tensor([[ 2.2057,  0.3163, -1.9291,  0.8091]], device='cuda:0'), tensor([[ 2.4354,  0.4929, -2.1845,  0.7754]], device='cuda:0'), tensor([[ 1.8602, -0.8555, -1.1461,  1.1568]], device='cuda:0'), tensor([[ 2.4211e+00,  1.3899e+00, -2.1536e+00, -1.0683e-03]], device='cuda:0'), tensor([[ 2.7389,  2.7201, -3.3268, -0.1485]], device='cuda:0'), tensor([[ 2.2845,  1.5241, -2.4804,  0.2716]], device='cuda:0'), tensor([[ 2.4571,  0.6813, -2.2093,  0.6486]], device='cuda:0'), tensor([[ 2.7625,  1.4477, -3.0047,  0.6541]], device='cuda:0'), tensor([[ 2.3931,  0.8678, -1.9309,  0.2187]], device='cuda:0'), tensor([[ 1.7539, -1.6217, -0.7283,  1.3870]], device='cuda:0'), tensor([[ 2.5292,  0.4169, -2.0979,  0.6775]], device='cuda:0'), tensor([[ 2.3693, -0.9579, -1.7219,  1.4933]], device='cuda:0'), tensor([[ 1.9919,  1.3134, -1.8595, -0.1829]], device='cuda:0'), tensor([[ 2.0371,  0.9472, -1.6500, -0.0442]], device='cuda:0'), tensor([[ 1.7503, -2.0757, -0.5146,  1.5415]], device='cuda:0'), tensor([[ 1.9309,  0.6924, -1.5377, -0.0093]], device='cuda:0'), tensor([[ 2.3320,  0.4557, -1.8502,  0.3825]], device='cuda:0'), tensor([[ 2.5280, -0.3589, -1.8336,  1.0023]], device='cuda:0'), tensor([[ 2.3595,  0.4665, -2.2475,  0.9946]], device='cuda:0'), tensor([[ 2.1500,  2.4863, -2.5425, -0.5119]], device='cuda:0'), tensor([[ 2.1171, -0.1269, -0.8897, -0.2126]], device='cuda:0'), tensor([[ 1.5886, -1.8457, -0.4462,  1.4319]], device='cuda:0'), tensor([[ 2.0898,  2.1855, -2.3014, -0.4171]], device='cuda:0'), tensor([[ 1.8442,  1.7578, -1.6370, -0.9035]], device='cuda:0'), tensor([[ 2.3546,  1.1775, -2.1344, -0.1165]], device='cuda:0'), tensor([[ 2.0004,  2.3890, -1.9915, -1.2112]], device='cuda:0'), tensor([[ 1.6836,  3.9017, -2.4238, -1.7707]], device='cuda:0'), tensor([[ 1.8270,  0.7963, -1.2986, -0.2798]], device='cuda:0'), tensor([[ 1.9083,  0.8780, -1.9759,  0.4927]], device='cuda:0'), tensor([[ 2.6040,  0.4034, -2.3943,  0.9205]], device='cuda:0'), tensor([[ 2.4532, -0.3786, -1.5750,  0.7899]], device='cuda:0'), tensor([[ 1.4310,  2.7817, -1.5568, -1.6248]], device='cuda:0'), tensor([[ 1.4443,  2.9022, -1.8497, -1.5118]], device='cuda:0'), tensor([[ 2.0183,  0.8094, -1.5797, -0.0786]], device='cuda:0'), tensor([[ 2.3363,  0.6010, -2.0575,  0.4246]], device='cuda:0'), tensor([[ 1.8502, -0.1048, -1.6800,  1.0636]], device='cuda:0'), tensor([[ 2.0755, -0.3071, -1.6579,  1.1044]], device='cuda:0'), tensor([[ 2.4122, -0.5970, -1.7840,  1.3730]], device='cuda:0'), tensor([[ 1.5351, -0.5742, -0.8522,  0.8006]], device='cuda:0'), tensor([[ 1.8344,  1.6575, -1.8771, -0.1738]], device='cuda:0'), tensor([[ 1.7952,  2.7879, -2.0617, -1.1853]], device='cuda:0'), tensor([[ 2.0991,  2.1197, -2.2369, -0.7381]], device='cuda:0'), tensor([[ 2.6765,  0.5326, -2.1731,  0.3267]], device='cuda:0'), tensor([[ 1.8150, -2.3054, -0.6667,  2.0005]], device='cuda:0'), tensor([[ 2.1104,  0.5028, -2.1164,  1.1244]], device='cuda:0'), tensor([[ 2.0603,  0.6786, -2.0432,  0.6412]], device='cuda:0'), tensor([[ 2.2085,  2.3337, -2.0202, -1.2021]], device='cuda:0'), tensor([[ 2.1158,  1.3365, -2.1163, -0.1567]], device='cuda:0'), tensor([[ 2.0262,  1.2218, -1.7302, -0.2375]], device='cuda:0'), tensor([[ 2.2717,  0.3546, -1.7136,  0.2001]], device='cuda:0'), tensor([[ 2.2455, -2.2302, -0.9260,  1.9196]], device='cuda:0'), tensor([[ 2.1509, -1.4556, -1.0209,  1.2654]], device='cuda:0'), tensor([[ 2.3968, -1.8682, -1.2612,  1.9776]], device='cuda:0'), tensor([[ 1.3892,  0.2861, -1.0585,  0.2487]], device='cuda:0'), tensor([[ 2.5238,  1.3231, -2.2771, -0.0101]], device='cuda:0'), tensor([[ 2.5148,  1.1198, -2.8124,  0.8133]], device='cuda:0'), tensor([[ 1.7580,  1.3149, -1.5200, -0.5179]], device='cuda:0'), tensor([[ 2.3086, -1.2529, -1.1191,  1.1054]], device='cuda:0'), tensor([[ 2.1627, -1.1871, -1.4904,  1.6964]], device='cuda:0'), tensor([[ 1.5234, -1.4949, -0.6457,  1.3477]], device='cuda:0'), tensor([[ 2.1178, -0.1773, -1.1880,  0.3293]], device='cuda:0'), tensor([[ 1.4625, -1.3757, -0.4027,  0.9677]], device='cuda:0'), tensor([[ 2.3602,  1.4322, -2.0300, -0.3721]], device='cuda:0'), tensor([[ 2.7371,  2.7558, -3.1857, -0.3942]], device='cuda:0'), tensor([[ 2.2414,  1.2315, -2.0005, -0.1460]], device='cuda:0'), tensor([[ 2.2213,  1.1811, -2.4576,  0.9051]], device='cuda:0'), tensor([[ 2.5167, -0.1906, -1.7736,  0.7071]], device='cuda:0'), tensor([[ 2.0985,  1.2728, -1.5190, -0.8044]], device='cuda:0'), tensor([[ 2.3266, -0.3843, -1.9291,  1.3498]], device='cuda:0'), tensor([[ 1.9542, -1.9481, -0.9465,  1.8138]], device='cuda:0'), tensor([[ 2.2674,  0.6246, -1.8717,  0.4252]], device='cuda:0'), tensor([[ 2.2635,  1.0894, -2.5902,  0.9895]], device='cuda:0'), tensor([[ 2.0530, -0.2325, -1.3989,  0.6581]], device='cuda:0'), tensor([[ 1.8253, -1.2661, -0.6721,  0.8854]], device='cuda:0'), tensor([[ 1.6902, -2.2122, -0.5700,  2.0407]], device='cuda:0'), tensor([[ 1.7867, -0.6449, -1.1000,  0.9247]], device='cuda:0'), tensor([[ 2.0860,  0.5831, -1.3926, -0.2766]], device='cuda:0'), tensor([[ 2.4001, -1.1813, -1.5009,  1.4756]], device='cuda:0'), tensor([[ 2.3418, -0.4901, -1.8923,  1.4111]], device='cuda:0'), tensor([[ 2.1181,  1.8393, -2.3293, -0.1421]], device='cuda:0'), tensor([[ 2.1477, -0.6381, -0.8813,  0.0441]], device='cuda:0'), tensor([[ 1.8851, -0.3606, -1.4113,  1.0606]], device='cuda:0'), tensor([[ 1.6291,  1.4781, -1.2262, -1.0301]], device='cuda:0'), tensor([[ 2.0284,  2.3759, -1.8219, -1.3260]], device='cuda:0'), tensor([[ 1.9808,  1.7582, -1.8399, -0.5083]], device='cuda:0'), tensor([[ 1.4543,  2.6442, -1.4376, -1.7726]], device='cuda:0'), tensor([[ 2.1884,  1.5214, -1.9923, -0.2732]], device='cuda:0'), tensor([[ 1.6553, -0.6392, -0.6247,  0.4163]], device='cuda:0'), tensor([[ 1.8887, -2.0847, -0.9911,  2.1933]], device='cuda:0'), tensor([[ 2.1656,  0.0059, -1.1962,  0.0162]], device='cuda:0'), tensor([[ 2.0000,  0.7737, -1.3138, -0.4001]], device='cuda:0'), tensor([[ 1.3969,  1.9996, -1.5693, -0.7700]], device='cuda:0'), tensor([[ 1.7982,  2.5991, -1.9417, -1.2737]], device='cuda:0'), tensor([[ 1.4153,  2.7300, -1.3382, -1.8770]], device='cuda:0'), tensor([[ 2.2400,  0.4884, -1.7036,  0.2829]], device='cuda:0'), tensor([[ 1.7629, -1.9433, -0.7586,  1.8056]], device='cuda:0'), tensor([[ 2.1779, -1.1656, -1.3119,  1.4254]], device='cuda:0'), tensor([[ 1.8094, -0.5138, -1.3703,  1.2664]], device='cuda:0'), tensor([[ 1.9807,  0.2439, -1.7456,  0.8232]], device='cuda:0'), tensor([[ 2.2321,  0.3242, -1.8197,  0.6109]], device='cuda:0'), tensor([[ 1.3072,  0.8740, -0.9158, -0.4243]], device='cuda:0'), tensor([[ 2.0867,  1.8373, -2.2582, -0.2357]], device='cuda:0'), tensor([[ 1.7294,  2.3655, -1.7089, -1.1496]], device='cuda:0'), tensor([[ 2.6118,  0.8250, -2.1581,  0.1850]], device='cuda:0'), tensor([[ 1.9538, -2.7997, -0.6594,  2.4543]], device='cuda:0'), tensor([[ 2.1342, -1.3471, -1.4173,  1.7649]], device='cuda:0'), tensor([[ 2.1211, -1.9647, -1.0697,  1.9326]], device='cuda:0'), tensor([[ 2.6076,  0.0119, -1.8866,  0.7668]], device='cuda:0'), tensor([[ 2.2897,  0.2998, -1.8148,  0.4901]], device='cuda:0'), tensor([[ 1.6914, -1.7182, -0.2415,  0.8153]], device='cuda:0'), tensor([[ 2.2148,  0.9761, -1.7008, -0.2643]], device='cuda:0'), tensor([[ 2.1100, -1.2977, -1.1968,  1.4610]], device='cuda:0'), tensor([[ 2.4277, -0.4260, -2.0857,  1.5336]], device='cuda:0'), tensor([[ 1.9570, -1.2423, -1.0757,  1.3378]], device='cuda:0'), tensor([[ 2.2842, -0.3791, -1.7591,  0.9764]], device='cuda:0'), tensor([[ 2.2092, -0.0849, -1.8473,  1.1332]], device='cuda:0'), tensor([[ 2.1716, -0.8802, -1.8659,  1.8747]], device='cuda:0'), tensor([[ 2.2314,  0.2979, -1.6290,  0.4105]], device='cuda:0'), tensor([[ 1.9723,  0.3938, -1.2593, -0.0414]], device='cuda:0'), tensor([[ 2.1810,  0.3638, -1.8105,  0.5381]], device='cuda:0'), tensor([[ 1.6844,  1.7571, -1.8121, -0.3384]], device='cuda:0'), tensor([[ 2.3530, -1.1356, -1.6633,  1.7249]], device='cuda:0'), tensor([[ 1.9913,  2.3654, -2.6849,  0.1515]], device='cuda:0'), tensor([[ 1.5983, -0.0193, -1.0361,  0.3162]], device='cuda:0'), tensor([[ 2.2513,  0.6265, -1.6020, -0.0137]], device='cuda:0'), tensor([[ 2.1877,  0.9719, -1.6888, -0.1131]], device='cuda:0'), tensor([[ 1.9411,  1.3528, -1.6283, -0.6011]], device='cuda:0'), tensor([[ 1.8093,  1.3339, -1.9133,  0.0442]], device='cuda:0'), tensor([[ 2.2690,  0.4882, -2.2216,  0.9438]], device='cuda:0'), tensor([[ 2.3798,  0.0265, -2.3558,  1.6591]], device='cuda:0'), tensor([[ 1.7352,  1.3703, -1.6723, -0.1688]], device='cuda:0'), tensor([[ 1.1654,  0.9500, -0.9239, -0.3059]], device='cuda:0'), tensor([[ 2.1450,  0.9829, -1.7035, -0.1887]], device='cuda:0'), tensor([[ 2.1215,  0.5190, -1.2269, -0.5296]], device='cuda:0'), tensor([[ 2.3236,  0.4201, -1.6732,  0.2164]], device='cuda:0'), tensor([[ 2.0273, -0.3093, -1.0755,  0.2799]], device='cuda:0'), tensor([[ 2.0717, -2.9046, -0.4899,  2.1486]], device='cuda:0'), tensor([[ 1.9829, -1.4088, -1.3095,  1.9382]], device='cuda:0'), tensor([[ 1.5740, -1.3211, -1.0898,  1.7897]], device='cuda:0'), tensor([[ 2.2556,  1.3854, -2.6107,  0.4900]], device='cuda:0'), tensor([[ 2.6287,  1.9421, -3.1501,  0.4097]], device='cuda:0'), tensor([[ 2.1801,  1.8930, -2.2442, -0.5179]], device='cuda:0'), tensor([[ 2.2192,  1.7026, -2.4139,  0.0771]], device='cuda:0'), tensor([[ 1.7558,  1.0540, -1.5410, -0.2657]], device='cuda:0'), tensor([[ 2.5304,  1.3738, -2.0381, -0.3978]], device='cuda:0'), tensor([[ 1.7365, -0.9091, -0.8814,  0.9671]], device='cuda:0'), tensor([[ 1.8604, -0.4027, -1.4079,  1.0610]], device='cuda:0'), tensor([[ 2.3674,  0.9665, -2.5343,  0.8781]], device='cuda:0'), tensor([[ 1.9209,  0.5144, -2.0287,  0.9168]], device='cuda:0'), tensor([[ 1.6531,  3.3526, -2.4761, -1.1342]], device='cuda:0'), tensor([[ 2.3568,  1.1899, -2.6063,  0.8577]], device='cuda:0'), tensor([[ 2.8263,  0.5380, -2.4722,  0.7934]], device='cuda:0'), tensor([[ 1.9306,  2.1070, -2.8552,  0.5036]], device='cuda:0'), tensor([[ 2.0925,  2.7095, -2.9464, -0.0197]], device='cuda:0'), tensor([[ 2.1974,  3.0702, -3.1394, -0.0822]], device='cuda:0'), tensor([[ 1.8988,  2.0101, -2.4730,  0.1681]], device='cuda:0'), tensor([[ 2.1057,  0.8969, -1.9608,  0.4428]], device='cuda:0'), tensor([[ 2.1816,  0.9860, -2.1324,  0.5832]], device='cuda:0'), tensor([[ 2.6754,  1.6553, -2.8394,  0.2351]], device='cuda:0'), tensor([[ 2.0591,  0.9602, -1.7020,  0.0584]], device='cuda:0'), tensor([[ 2.4144,  3.7686, -3.5907, -0.5018]], device='cuda:0'), tensor([[ 2.5001,  0.2047, -2.0396,  0.8071]], device='cuda:0'), tensor([[ 2.0808, -0.4161, -1.7037,  1.2182]], device='cuda:0'), tensor([[ 1.9899,  0.4580, -1.6651,  0.4992]], device='cuda:0'), tensor([[ 2.2493,  1.2401, -2.1488,  0.1753]], device='cuda:0'), tensor([[ 2.5933,  2.2071, -3.0869,  0.3407]], device='cuda:0'), tensor([[ 2.9416,  3.1687, -3.9265,  0.2581]], device='cuda:0'), tensor([[ 2.2851,  3.0568, -3.4076,  0.0234]], device='cuda:0'), tensor([[ 2.0699,  3.2443, -3.0584, -0.3430]], device='cuda:0'), tensor([[ 2.7533,  4.0610, -4.1866, -0.0987]], device='cuda:0'), tensor([[ 2.6952,  1.1356, -2.6615,  0.6719]], device='cuda:0'), tensor([[ 2.1358,  3.5796, -3.4197, -0.1623]], device='cuda:0'), tensor([[ 2.0973,  2.7619, -2.6590, -0.4415]], device='cuda:0'), tensor([[ 1.4147,  2.4123, -1.6060, -1.0636]], device='cuda:0'), tensor([[ 0.9776,  0.3698, -0.1626, -0.7234]], device='cuda:0'), tensor([[ 1.0953,  0.4981, -0.4889, -0.4411]], device='cuda:0'), tensor([[ 1.8314, -1.3417, -0.7415,  1.1385]], device='cuda:0'), tensor([[ 1.7040, -0.6606, -0.7047,  0.4856]], device='cuda:0'), tensor([[ 2.3843, -1.2375, -1.3075,  1.2779]], device='cuda:0'), tensor([[ 1.9472,  1.5557, -1.8671, -0.4633]], device='cuda:0'), tensor([[ 2.6355,  0.5382, -2.3970,  0.8406]], device='cuda:0'), tensor([[ 2.5650, -0.1460, -2.0242,  0.9892]], device='cuda:0'), tensor([[ 2.4918, -0.1214, -2.0330,  1.1291]], device='cuda:0'), tensor([[ 2.1767,  0.5038, -1.9559,  0.6161]], device='cuda:0'), tensor([[ 2.3315, -0.6051, -1.0817,  0.3628]], device='cuda:0'), tensor([[ 2.2591,  0.2632, -1.8402,  0.6171]], device='cuda:0'), tensor([[ 2.3390,  0.8122, -2.4925,  0.9591]], device='cuda:0'), tensor([[ 1.8176,  1.0698, -1.9004,  0.3336]], device='cuda:0'), tensor([[ 1.9672,  2.0215, -2.2831, -0.3975]], device='cuda:0'), tensor([[ 2.2140, -2.2301, -0.9583,  1.8953]], device='cuda:0'), tensor([[ 2.2983, -1.3546, -1.9835,  2.5375]], device='cuda:0'), tensor([[ 2.3654, -0.3483, -2.2889,  1.8774]], device='cuda:0'), tensor([[ 2.4477, -0.3786, -2.6679,  2.3106]], device='cuda:0'), tensor([[ 2.1328, -0.5510, -1.6918,  1.3043]], device='cuda:0'), tensor([[ 2.7027, -0.7241, -2.4740,  2.2033]], device='cuda:0'), tensor([[ 1.0683, -2.1783, -0.0764,  1.5380]], device='cuda:0'), tensor([[-0.2850, -6.7549,  4.1046,  1.3754]], device='cuda:0')]\n"
          ]
        }
      ],
      "source": [
        "youtube.youtube_to_melgram('https://www.youtube.com/watch?v=9E6b3swbnWg&ab_channel=andrearomano') #get melgram for the link\n",
        "\n",
        "youtube_data = np.load('youtube_melgrams.npy') #load melgrams\n",
        "\n",
        "#dataloader\n",
        "youtube_dataset = _Dataset(youtube_data, transform=None)\n",
        "youtube_dataloader = DataLoader(youtube_dataset, batch_size=1, shuffle = False)\n",
        "\n",
        "#predict\n",
        "with torch.no_grad(): \n",
        "  l = youtube_pred(youtube_dataloader, model)\n",
        "print(l)"
      ]
    },
    {
      "cell_type": "markdown",
      "metadata": {
        "id": "_rKGZBuX07Xv"
      },
      "source": [
        "Pop"
      ]
    },
    {
      "cell_type": "code",
      "execution_count": 28,
      "metadata": {
        "colab": {
          "base_uri": "https://localhost:8080/"
        },
        "id": "nPr2PTPK070H",
        "outputId": "5ad8af98-44ce-48f3-f8e7-b619d4f304c6"
      },
      "outputs": [
        {
          "name": "stderr",
          "output_type": "stream",
          "text": [
            "/usr/local/lib/python3.7/dist-packages/librosa/core/audio.py:165: UserWarning: PySoundFile failed. Trying audioread instead.\n",
            "  warnings.warn(\"PySoundFile failed. Trying audioread instead.\")\n"
          ]
        },
        {
          "name": "stdout",
          "output_type": "stream",
          "text": [
            "[tensor([[ 0.8954, -2.1451,  0.8717,  0.4368]], device='cuda:0'), tensor([[ 0.8954, -2.1451,  0.8717,  0.4368]], device='cuda:0'), tensor([[ 1.8111, -2.0838, -0.3381,  1.1976]], device='cuda:0'), tensor([[ 1.6397,  0.5884, -1.2138, -0.0853]], device='cuda:0'), tensor([[ 2.2027, -0.7325, -1.4834,  1.1990]], device='cuda:0'), tensor([[ 2.0140, -1.0412, -1.2488,  1.3444]], device='cuda:0'), tensor([[ 1.6942,  0.9347, -1.4328, -0.1543]], device='cuda:0'), tensor([[ 2.5025,  1.5876, -2.3738, -0.3051]], device='cuda:0'), tensor([[ 2.2892,  0.7767, -2.0857,  0.5888]], device='cuda:0'), tensor([[ 2.0850,  0.1170, -1.7282,  0.8242]], device='cuda:0'), tensor([[ 2.2977, -1.5672, -1.5295,  2.0149]], device='cuda:0'), tensor([[ 2.0695, -0.5728, -1.2678,  0.9035]], device='cuda:0'), tensor([[ 2.0584,  0.5956, -1.8755,  0.5592]], device='cuda:0'), tensor([[ 1.6714,  1.6088, -1.4319, -0.8334]], device='cuda:0'), tensor([[ 1.8705,  0.6910, -1.4159, -0.1129]], device='cuda:0'), tensor([[ 1.8623, -0.6539, -1.2809,  1.2783]], device='cuda:0'), tensor([[ 1.9617,  0.3207, -1.4410,  0.2150]], device='cuda:0'), tensor([[ 2.1578,  0.2847, -1.3486,  0.0563]], device='cuda:0'), tensor([[ 2.0476,  1.5360, -1.7120, -0.7813]], device='cuda:0'), tensor([[ 2.1584,  0.9666, -1.7182, -0.1467]], device='cuda:0'), tensor([[ 2.0185,  1.7099, -2.0896, -0.1309]], device='cuda:0'), tensor([[ 1.6776,  0.0207, -1.4358,  0.8793]], device='cuda:0'), tensor([[ 2.0632,  0.1143, -1.6892,  0.8575]], device='cuda:0'), tensor([[ 1.9838, -1.4248, -1.5389,  2.1835]], device='cuda:0'), tensor([[ 1.7113, -0.6858, -0.9466,  0.8562]], device='cuda:0'), tensor([[ 2.0750,  2.8562, -2.7291, -0.4645]], device='cuda:0'), tensor([[ 2.2578,  1.8563, -2.3696, -0.3418]], device='cuda:0'), tensor([[ 2.2909,  0.5627, -1.7846,  0.2624]], device='cuda:0'), tensor([[ 2.4285, -0.4595, -1.6057,  0.9380]], device='cuda:0'), tensor([[ 1.8283, -1.3045, -1.0235,  1.4806]], device='cuda:0'), tensor([[ 2.0604, -1.2324, -1.1837,  1.4643]], device='cuda:0'), tensor([[ 2.0624,  0.5476, -1.5685,  0.2850]], device='cuda:0'), tensor([[ 2.1076, -1.1937, -0.7353,  0.6519]], device='cuda:0'), tensor([[ 1.9134, -0.9217, -1.3295,  1.4132]], device='cuda:0'), tensor([[ 1.6778,  1.1478, -0.9968, -1.1374]], device='cuda:0'), tensor([[ 1.7490,  1.4825, -1.2190, -1.0388]], device='cuda:0'), tensor([[ 1.5816, -1.1802, -0.4632,  0.7523]], device='cuda:0'), tensor([[ 1.5802,  1.1845, -1.4484, -0.1754]], device='cuda:0'), tensor([[ 2.0412,  1.3988, -1.7626, -0.3517]], device='cuda:0'), tensor([[ 1.7002,  1.5438, -1.7868, -0.2706]], device='cuda:0'), tensor([[ 1.9807,  1.9844, -1.8090, -1.0564]], device='cuda:0'), tensor([[ 1.6806,  2.4007, -1.6463, -1.2219]], device='cuda:0'), tensor([[ 1.6877, -0.3341, -0.8328,  0.2695]], device='cuda:0'), tensor([[ 1.7142, -0.6580, -1.4560,  1.5382]], device='cuda:0'), tensor([[ 2.6637,  1.0808, -2.5127,  0.2047]], device='cuda:0'), tensor([[ 2.1982,  2.4051, -2.5018, -0.5516]], device='cuda:0'), tensor([[ 1.7653,  4.1212, -2.7474, -1.4387]], device='cuda:0'), tensor([[ 1.9170,  1.0836, -1.5121, -0.4544]], device='cuda:0'), tensor([[ 2.2645,  2.4795, -3.0057,  0.1298]], device='cuda:0'), tensor([[ 2.3108,  1.0035, -2.0049,  0.1528]], device='cuda:0'), tensor([[ 1.9560, -1.0995, -1.2546,  1.4415]], device='cuda:0'), tensor([[ 2.6027, -1.2973, -2.0898,  2.2535]], device='cuda:0'), tensor([[ 2.0691, -0.5040, -1.4834,  1.1268]], device='cuda:0'), tensor([[ 1.9363,  1.6904, -2.1685,  0.1722]], device='cuda:0'), tensor([[ 1.9723,  2.0230, -2.0116, -0.7129]], device='cuda:0'), tensor([[ 2.0965,  1.7006, -2.0506, -0.3955]], device='cuda:0'), tensor([[ 2.7194,  0.4688, -2.1084,  0.4860]], device='cuda:0'), tensor([[ 2.2660, -1.6555, -1.4673,  2.0623]], device='cuda:0'), tensor([[ 1.6767, -0.9422, -0.7878,  0.8531]], device='cuda:0'), tensor([[ 2.4789,  1.3470, -2.3587,  0.2852]], device='cuda:0'), tensor([[ 1.7672,  1.0957, -1.0994, -0.9937]], device='cuda:0'), tensor([[ 2.3905,  1.8755, -2.6508,  0.0079]], device='cuda:0'), tensor([[ 2.0465,  0.2529, -1.6631,  0.7625]], device='cuda:0'), tensor([[ 1.9384,  0.3013, -1.2737,  0.0113]], device='cuda:0'), tensor([[ 2.0545,  0.8621, -1.7142, -0.1068]], device='cuda:0'), tensor([[ 1.7353, -1.2994, -0.9793,  1.4019]], device='cuda:0'), tensor([[ 2.5425,  0.1386, -2.3841,  1.3693]], device='cuda:0'), tensor([[ 2.3713,  0.4683, -1.7313,  0.3394]], device='cuda:0'), tensor([[ 2.2481,  1.1435, -1.9464, -0.1431]], device='cuda:0'), tensor([[ 2.5788,  1.6058, -2.7658,  0.3060]], device='cuda:0'), tensor([[ 2.0079,  0.6502, -1.4868, -0.0628]], device='cuda:0'), tensor([[ 2.5592, -0.1419, -1.7883,  0.7031]], device='cuda:0'), tensor([[ 1.6571, -2.0333, -0.7616,  1.9968]], device='cuda:0'), tensor([[ 2.2057,  0.3163, -1.9291,  0.8091]], device='cuda:0'), tensor([[ 2.4354,  0.4929, -2.1845,  0.7754]], device='cuda:0'), tensor([[ 1.8602, -0.8555, -1.1461,  1.1568]], device='cuda:0'), tensor([[ 2.4211e+00,  1.3899e+00, -2.1536e+00, -1.0683e-03]], device='cuda:0'), tensor([[ 2.7389,  2.7201, -3.3268, -0.1485]], device='cuda:0'), tensor([[ 2.2845,  1.5241, -2.4804,  0.2716]], device='cuda:0'), tensor([[ 2.4571,  0.6813, -2.2093,  0.6486]], device='cuda:0'), tensor([[ 2.7625,  1.4477, -3.0047,  0.6541]], device='cuda:0'), tensor([[ 2.3931,  0.8678, -1.9309,  0.2187]], device='cuda:0'), tensor([[ 1.7539, -1.6217, -0.7283,  1.3870]], device='cuda:0'), tensor([[ 2.5292,  0.4169, -2.0979,  0.6775]], device='cuda:0'), tensor([[ 2.3693, -0.9579, -1.7219,  1.4933]], device='cuda:0'), tensor([[ 1.9919,  1.3134, -1.8595, -0.1829]], device='cuda:0'), tensor([[ 2.0371,  0.9472, -1.6500, -0.0442]], device='cuda:0'), tensor([[ 1.7503, -2.0757, -0.5146,  1.5415]], device='cuda:0'), tensor([[ 1.9309,  0.6924, -1.5377, -0.0093]], device='cuda:0'), tensor([[ 2.3320,  0.4557, -1.8502,  0.3825]], device='cuda:0'), tensor([[ 2.5280, -0.3589, -1.8336,  1.0023]], device='cuda:0'), tensor([[ 2.3595,  0.4665, -2.2475,  0.9946]], device='cuda:0'), tensor([[ 2.1500,  2.4863, -2.5425, -0.5119]], device='cuda:0'), tensor([[ 2.1171, -0.1269, -0.8897, -0.2126]], device='cuda:0'), tensor([[ 1.5886, -1.8457, -0.4462,  1.4319]], device='cuda:0'), tensor([[ 2.0898,  2.1855, -2.3014, -0.4171]], device='cuda:0'), tensor([[ 1.8442,  1.7578, -1.6370, -0.9035]], device='cuda:0'), tensor([[ 2.3546,  1.1775, -2.1344, -0.1165]], device='cuda:0'), tensor([[ 2.0004,  2.3890, -1.9915, -1.2112]], device='cuda:0'), tensor([[ 1.6836,  3.9017, -2.4238, -1.7707]], device='cuda:0'), tensor([[ 1.8270,  0.7963, -1.2986, -0.2798]], device='cuda:0'), tensor([[ 1.9083,  0.8780, -1.9759,  0.4927]], device='cuda:0'), tensor([[ 2.6040,  0.4034, -2.3943,  0.9205]], device='cuda:0'), tensor([[ 2.4532, -0.3786, -1.5750,  0.7899]], device='cuda:0'), tensor([[ 1.4310,  2.7817, -1.5568, -1.6248]], device='cuda:0'), tensor([[ 1.4443,  2.9022, -1.8497, -1.5118]], device='cuda:0'), tensor([[ 2.0183,  0.8094, -1.5797, -0.0786]], device='cuda:0'), tensor([[ 2.3363,  0.6010, -2.0575,  0.4246]], device='cuda:0'), tensor([[ 1.8502, -0.1048, -1.6800,  1.0636]], device='cuda:0'), tensor([[ 2.0755, -0.3071, -1.6579,  1.1044]], device='cuda:0'), tensor([[ 2.4122, -0.5970, -1.7840,  1.3730]], device='cuda:0'), tensor([[ 1.5351, -0.5742, -0.8522,  0.8006]], device='cuda:0'), tensor([[ 1.8344,  1.6575, -1.8771, -0.1738]], device='cuda:0'), tensor([[ 1.7952,  2.7879, -2.0617, -1.1853]], device='cuda:0'), tensor([[ 2.0991,  2.1197, -2.2369, -0.7381]], device='cuda:0'), tensor([[ 2.6765,  0.5326, -2.1731,  0.3267]], device='cuda:0'), tensor([[ 1.8150, -2.3054, -0.6667,  2.0005]], device='cuda:0'), tensor([[ 2.1104,  0.5028, -2.1164,  1.1244]], device='cuda:0'), tensor([[ 2.0603,  0.6786, -2.0432,  0.6412]], device='cuda:0'), tensor([[ 2.2085,  2.3337, -2.0202, -1.2021]], device='cuda:0'), tensor([[ 2.1158,  1.3365, -2.1163, -0.1567]], device='cuda:0'), tensor([[ 2.0262,  1.2218, -1.7302, -0.2375]], device='cuda:0'), tensor([[ 2.2717,  0.3546, -1.7136,  0.2001]], device='cuda:0'), tensor([[ 2.2455, -2.2302, -0.9260,  1.9196]], device='cuda:0'), tensor([[ 2.1509, -1.4556, -1.0209,  1.2654]], device='cuda:0'), tensor([[ 2.3968, -1.8682, -1.2612,  1.9776]], device='cuda:0'), tensor([[ 1.3892,  0.2861, -1.0585,  0.2487]], device='cuda:0'), tensor([[ 2.5238,  1.3231, -2.2771, -0.0101]], device='cuda:0'), tensor([[ 2.5148,  1.1198, -2.8124,  0.8133]], device='cuda:0'), tensor([[ 1.7580,  1.3149, -1.5200, -0.5179]], device='cuda:0'), tensor([[ 2.3086, -1.2529, -1.1191,  1.1054]], device='cuda:0'), tensor([[ 2.1627, -1.1871, -1.4904,  1.6964]], device='cuda:0'), tensor([[ 1.5234, -1.4949, -0.6457,  1.3477]], device='cuda:0'), tensor([[ 2.1178, -0.1773, -1.1880,  0.3293]], device='cuda:0'), tensor([[ 1.4625, -1.3757, -0.4027,  0.9677]], device='cuda:0'), tensor([[ 2.3602,  1.4322, -2.0300, -0.3721]], device='cuda:0'), tensor([[ 2.7371,  2.7558, -3.1857, -0.3942]], device='cuda:0'), tensor([[ 2.2414,  1.2315, -2.0005, -0.1460]], device='cuda:0'), tensor([[ 2.2213,  1.1811, -2.4576,  0.9051]], device='cuda:0'), tensor([[ 2.5167, -0.1906, -1.7736,  0.7071]], device='cuda:0'), tensor([[ 2.0985,  1.2728, -1.5190, -0.8044]], device='cuda:0'), tensor([[ 2.3266, -0.3843, -1.9291,  1.3498]], device='cuda:0'), tensor([[ 1.9542, -1.9481, -0.9465,  1.8138]], device='cuda:0'), tensor([[ 2.2674,  0.6246, -1.8717,  0.4252]], device='cuda:0'), tensor([[ 2.2635,  1.0894, -2.5902,  0.9895]], device='cuda:0'), tensor([[ 2.0530, -0.2325, -1.3989,  0.6581]], device='cuda:0'), tensor([[ 1.8253, -1.2661, -0.6721,  0.8854]], device='cuda:0'), tensor([[ 1.6902, -2.2122, -0.5700,  2.0407]], device='cuda:0'), tensor([[ 1.7867, -0.6449, -1.1000,  0.9247]], device='cuda:0'), tensor([[ 2.0860,  0.5831, -1.3926, -0.2766]], device='cuda:0'), tensor([[ 2.4001, -1.1813, -1.5009,  1.4756]], device='cuda:0'), tensor([[ 2.3418, -0.4901, -1.8923,  1.4111]], device='cuda:0'), tensor([[ 2.1181,  1.8393, -2.3293, -0.1421]], device='cuda:0'), tensor([[ 2.1477, -0.6381, -0.8813,  0.0441]], device='cuda:0'), tensor([[ 1.8851, -0.3606, -1.4113,  1.0606]], device='cuda:0'), tensor([[ 1.6291,  1.4781, -1.2262, -1.0301]], device='cuda:0'), tensor([[ 2.0284,  2.3759, -1.8219, -1.3260]], device='cuda:0'), tensor([[ 1.9808,  1.7582, -1.8399, -0.5083]], device='cuda:0'), tensor([[ 1.4543,  2.6442, -1.4376, -1.7726]], device='cuda:0'), tensor([[ 2.1884,  1.5214, -1.9923, -0.2732]], device='cuda:0'), tensor([[ 1.6553, -0.6392, -0.6247,  0.4163]], device='cuda:0'), tensor([[ 1.8887, -2.0847, -0.9911,  2.1933]], device='cuda:0'), tensor([[ 2.1656,  0.0059, -1.1962,  0.0162]], device='cuda:0'), tensor([[ 2.0000,  0.7737, -1.3138, -0.4001]], device='cuda:0'), tensor([[ 1.3969,  1.9996, -1.5693, -0.7700]], device='cuda:0'), tensor([[ 1.7982,  2.5991, -1.9417, -1.2737]], device='cuda:0'), tensor([[ 1.4153,  2.7300, -1.3382, -1.8770]], device='cuda:0'), tensor([[ 2.2400,  0.4884, -1.7036,  0.2829]], device='cuda:0'), tensor([[ 1.7629, -1.9433, -0.7586,  1.8056]], device='cuda:0'), tensor([[ 2.1779, -1.1656, -1.3119,  1.4254]], device='cuda:0'), tensor([[ 1.8094, -0.5138, -1.3703,  1.2664]], device='cuda:0'), tensor([[ 1.9807,  0.2439, -1.7456,  0.8232]], device='cuda:0'), tensor([[ 2.2321,  0.3242, -1.8197,  0.6109]], device='cuda:0'), tensor([[ 1.3072,  0.8740, -0.9158, -0.4243]], device='cuda:0'), tensor([[ 2.0867,  1.8373, -2.2582, -0.2357]], device='cuda:0'), tensor([[ 1.7294,  2.3655, -1.7089, -1.1496]], device='cuda:0'), tensor([[ 2.6118,  0.8250, -2.1581,  0.1850]], device='cuda:0'), tensor([[ 1.9538, -2.7997, -0.6594,  2.4543]], device='cuda:0'), tensor([[ 2.1342, -1.3471, -1.4173,  1.7649]], device='cuda:0'), tensor([[ 2.1211, -1.9647, -1.0697,  1.9326]], device='cuda:0'), tensor([[ 2.6076,  0.0119, -1.8866,  0.7668]], device='cuda:0'), tensor([[ 2.2897,  0.2998, -1.8148,  0.4901]], device='cuda:0'), tensor([[ 1.6914, -1.7182, -0.2415,  0.8153]], device='cuda:0'), tensor([[ 2.2148,  0.9761, -1.7008, -0.2643]], device='cuda:0'), tensor([[ 2.1100, -1.2977, -1.1968,  1.4610]], device='cuda:0'), tensor([[ 2.4277, -0.4260, -2.0857,  1.5336]], device='cuda:0'), tensor([[ 1.9570, -1.2423, -1.0757,  1.3378]], device='cuda:0'), tensor([[ 2.2842, -0.3791, -1.7591,  0.9764]], device='cuda:0'), tensor([[ 2.2092, -0.0849, -1.8473,  1.1332]], device='cuda:0'), tensor([[ 2.1716, -0.8802, -1.8659,  1.8747]], device='cuda:0'), tensor([[ 2.2314,  0.2979, -1.6290,  0.4105]], device='cuda:0'), tensor([[ 1.9723,  0.3938, -1.2593, -0.0414]], device='cuda:0'), tensor([[ 2.1810,  0.3638, -1.8105,  0.5381]], device='cuda:0'), tensor([[ 1.6844,  1.7571, -1.8121, -0.3384]], device='cuda:0'), tensor([[ 2.3530, -1.1356, -1.6633,  1.7249]], device='cuda:0'), tensor([[ 1.9913,  2.3654, -2.6849,  0.1515]], device='cuda:0'), tensor([[ 1.5983, -0.0193, -1.0361,  0.3162]], device='cuda:0'), tensor([[ 2.2513,  0.6265, -1.6020, -0.0137]], device='cuda:0'), tensor([[ 2.1877,  0.9719, -1.6888, -0.1131]], device='cuda:0'), tensor([[ 1.9411,  1.3528, -1.6283, -0.6011]], device='cuda:0'), tensor([[ 1.8093,  1.3339, -1.9133,  0.0442]], device='cuda:0'), tensor([[ 2.2690,  0.4882, -2.2216,  0.9438]], device='cuda:0'), tensor([[ 2.3798,  0.0265, -2.3558,  1.6591]], device='cuda:0'), tensor([[ 1.7352,  1.3703, -1.6723, -0.1688]], device='cuda:0'), tensor([[ 1.1654,  0.9500, -0.9239, -0.3059]], device='cuda:0'), tensor([[ 2.1450,  0.9829, -1.7035, -0.1887]], device='cuda:0'), tensor([[ 2.1215,  0.5190, -1.2269, -0.5296]], device='cuda:0'), tensor([[ 2.3236,  0.4201, -1.6732,  0.2164]], device='cuda:0'), tensor([[ 2.0273, -0.3093, -1.0755,  0.2799]], device='cuda:0'), tensor([[ 2.0717, -2.9046, -0.4899,  2.1486]], device='cuda:0'), tensor([[ 1.9829, -1.4088, -1.3095,  1.9382]], device='cuda:0'), tensor([[ 1.5740, -1.3211, -1.0898,  1.7897]], device='cuda:0'), tensor([[ 2.2556,  1.3854, -2.6107,  0.4900]], device='cuda:0'), tensor([[ 2.6287,  1.9421, -3.1501,  0.4097]], device='cuda:0'), tensor([[ 2.1801,  1.8930, -2.2442, -0.5179]], device='cuda:0'), tensor([[ 2.2192,  1.7026, -2.4139,  0.0771]], device='cuda:0'), tensor([[ 1.7558,  1.0540, -1.5410, -0.2657]], device='cuda:0'), tensor([[ 2.5304,  1.3738, -2.0381, -0.3978]], device='cuda:0'), tensor([[ 1.7365, -0.9091, -0.8814,  0.9671]], device='cuda:0'), tensor([[ 1.8604, -0.4027, -1.4079,  1.0610]], device='cuda:0'), tensor([[ 2.3674,  0.9665, -2.5343,  0.8781]], device='cuda:0'), tensor([[ 1.9209,  0.5144, -2.0287,  0.9168]], device='cuda:0'), tensor([[ 1.6531,  3.3526, -2.4761, -1.1342]], device='cuda:0'), tensor([[ 2.3568,  1.1899, -2.6063,  0.8577]], device='cuda:0'), tensor([[ 2.8263,  0.5380, -2.4722,  0.7934]], device='cuda:0'), tensor([[ 1.9306,  2.1070, -2.8552,  0.5036]], device='cuda:0'), tensor([[ 2.0925,  2.7095, -2.9464, -0.0197]], device='cuda:0'), tensor([[ 2.1974,  3.0702, -3.1394, -0.0822]], device='cuda:0'), tensor([[ 1.8988,  2.0101, -2.4730,  0.1681]], device='cuda:0'), tensor([[ 2.1057,  0.8969, -1.9608,  0.4428]], device='cuda:0'), tensor([[ 2.1816,  0.9860, -2.1324,  0.5832]], device='cuda:0'), tensor([[ 2.6754,  1.6553, -2.8394,  0.2351]], device='cuda:0'), tensor([[ 2.0591,  0.9602, -1.7020,  0.0584]], device='cuda:0'), tensor([[ 2.4144,  3.7686, -3.5907, -0.5018]], device='cuda:0'), tensor([[ 2.5001,  0.2047, -2.0396,  0.8071]], device='cuda:0'), tensor([[ 2.0808, -0.4161, -1.7037,  1.2182]], device='cuda:0'), tensor([[ 1.9899,  0.4580, -1.6651,  0.4992]], device='cuda:0'), tensor([[ 2.2493,  1.2401, -2.1488,  0.1753]], device='cuda:0'), tensor([[ 2.5933,  2.2071, -3.0869,  0.3407]], device='cuda:0'), tensor([[ 2.9416,  3.1687, -3.9265,  0.2581]], device='cuda:0'), tensor([[ 2.2851,  3.0568, -3.4076,  0.0234]], device='cuda:0'), tensor([[ 2.0699,  3.2443, -3.0584, -0.3430]], device='cuda:0'), tensor([[ 2.7533,  4.0610, -4.1866, -0.0987]], device='cuda:0'), tensor([[ 2.6952,  1.1356, -2.6615,  0.6719]], device='cuda:0'), tensor([[ 2.1358,  3.5796, -3.4197, -0.1623]], device='cuda:0'), tensor([[ 2.0973,  2.7619, -2.6590, -0.4415]], device='cuda:0'), tensor([[ 1.4147,  2.4123, -1.6060, -1.0636]], device='cuda:0'), tensor([[ 0.9776,  0.3698, -0.1626, -0.7234]], device='cuda:0'), tensor([[ 1.0953,  0.4981, -0.4889, -0.4411]], device='cuda:0'), tensor([[ 1.8314, -1.3417, -0.7415,  1.1385]], device='cuda:0'), tensor([[ 1.7040, -0.6606, -0.7047,  0.4856]], device='cuda:0'), tensor([[ 2.3843, -1.2375, -1.3075,  1.2779]], device='cuda:0'), tensor([[ 1.9472,  1.5557, -1.8671, -0.4633]], device='cuda:0'), tensor([[ 2.6355,  0.5382, -2.3970,  0.8406]], device='cuda:0'), tensor([[ 2.5650, -0.1460, -2.0242,  0.9892]], device='cuda:0'), tensor([[ 2.4918, -0.1214, -2.0330,  1.1291]], device='cuda:0'), tensor([[ 2.1767,  0.5038, -1.9559,  0.6161]], device='cuda:0'), tensor([[ 2.3315, -0.6051, -1.0817,  0.3628]], device='cuda:0'), tensor([[ 2.2591,  0.2632, -1.8402,  0.6171]], device='cuda:0'), tensor([[ 2.3390,  0.8122, -2.4925,  0.9591]], device='cuda:0'), tensor([[ 1.8176,  1.0698, -1.9004,  0.3336]], device='cuda:0'), tensor([[ 1.9672,  2.0215, -2.2831, -0.3975]], device='cuda:0'), tensor([[ 2.2140, -2.2301, -0.9583,  1.8953]], device='cuda:0'), tensor([[ 2.2983, -1.3546, -1.9835,  2.5375]], device='cuda:0'), tensor([[ 2.3654, -0.3483, -2.2889,  1.8774]], device='cuda:0'), tensor([[ 2.4477, -0.3786, -2.6679,  2.3106]], device='cuda:0'), tensor([[ 2.1328, -0.5510, -1.6918,  1.3043]], device='cuda:0'), tensor([[ 2.7027, -0.7241, -2.4740,  2.2033]], device='cuda:0'), tensor([[ 1.0683, -2.1783, -0.0764,  1.5380]], device='cuda:0'), tensor([[-0.2850, -6.7549,  4.1046,  1.3754]], device='cuda:0')]\n"
          ]
        }
      ],
      "source": [
        "%rm youtube_melgrams.npy #delete npy file created from previous download\n",
        "youtube.youtube_to_melgram('https://www.youtube.com/watch?v=EDwb9jOVRtU&ab_channel=Madonna') #get melgram for the link\n",
        "\n",
        "youtube_data = np.load('youtube_melgrams.npy') #load melgrams\n",
        "\n",
        "#dataloader\n",
        "youtube_dataset = _Dataset(youtube_data, transform=None)\n",
        "youtube_dataloader = DataLoader(youtube_dataset, batch_size=1, shuffle = False)\n",
        "\n",
        "#predict\n",
        "with torch.no_grad(): \n",
        "  l = youtube_pred(youtube_dataloader, model)\n",
        "print(l)"
      ]
    },
    {
      "cell_type": "markdown",
      "metadata": {
        "id": "75cOqdca2LtF"
      },
      "source": [
        "Rock"
      ]
    },
    {
      "cell_type": "code",
      "execution_count": 26,
      "metadata": {
        "colab": {
          "base_uri": "https://localhost:8080/"
        },
        "id": "04Uy0i3-2OIR",
        "outputId": "905ffcb0-6937-402b-e0fc-68e939d5b5a8"
      },
      "outputs": [
        {
          "name": "stderr",
          "output_type": "stream",
          "text": [
            "/usr/local/lib/python3.7/dist-packages/librosa/core/audio.py:165: UserWarning: PySoundFile failed. Trying audioread instead.\n",
            "  warnings.warn(\"PySoundFile failed. Trying audioread instead.\")\n"
          ]
        },
        {
          "name": "stdout",
          "output_type": "stream",
          "text": [
            "[tensor([[ 0.8954, -2.1451,  0.8717,  0.4368]], device='cuda:0'), tensor([[ 0.8954, -2.1451,  0.8717,  0.4368]], device='cuda:0'), tensor([[ 1.8111, -2.0838, -0.3381,  1.1976]], device='cuda:0'), tensor([[ 1.6397,  0.5884, -1.2138, -0.0853]], device='cuda:0'), tensor([[ 2.2027, -0.7325, -1.4834,  1.1990]], device='cuda:0'), tensor([[ 2.0140, -1.0412, -1.2488,  1.3444]], device='cuda:0'), tensor([[ 1.6942,  0.9347, -1.4328, -0.1543]], device='cuda:0'), tensor([[ 2.5025,  1.5876, -2.3738, -0.3051]], device='cuda:0'), tensor([[ 2.2892,  0.7767, -2.0857,  0.5888]], device='cuda:0'), tensor([[ 2.0850,  0.1170, -1.7282,  0.8242]], device='cuda:0'), tensor([[ 2.2977, -1.5672, -1.5295,  2.0149]], device='cuda:0'), tensor([[ 2.0695, -0.5728, -1.2678,  0.9035]], device='cuda:0'), tensor([[ 2.0584,  0.5956, -1.8755,  0.5592]], device='cuda:0'), tensor([[ 1.6714,  1.6088, -1.4319, -0.8334]], device='cuda:0'), tensor([[ 1.8705,  0.6910, -1.4159, -0.1129]], device='cuda:0'), tensor([[ 1.8623, -0.6539, -1.2809,  1.2783]], device='cuda:0'), tensor([[ 1.9617,  0.3207, -1.4410,  0.2150]], device='cuda:0'), tensor([[ 2.1578,  0.2847, -1.3486,  0.0563]], device='cuda:0'), tensor([[ 2.0476,  1.5360, -1.7120, -0.7813]], device='cuda:0'), tensor([[ 2.1584,  0.9666, -1.7182, -0.1467]], device='cuda:0'), tensor([[ 2.0185,  1.7099, -2.0896, -0.1309]], device='cuda:0'), tensor([[ 1.6776,  0.0207, -1.4358,  0.8793]], device='cuda:0'), tensor([[ 2.0632,  0.1143, -1.6892,  0.8575]], device='cuda:0'), tensor([[ 1.9838, -1.4248, -1.5389,  2.1835]], device='cuda:0'), tensor([[ 1.7113, -0.6858, -0.9466,  0.8562]], device='cuda:0'), tensor([[ 2.0750,  2.8562, -2.7291, -0.4645]], device='cuda:0'), tensor([[ 2.2578,  1.8563, -2.3696, -0.3418]], device='cuda:0'), tensor([[ 2.2909,  0.5627, -1.7846,  0.2624]], device='cuda:0'), tensor([[ 2.4285, -0.4595, -1.6057,  0.9380]], device='cuda:0'), tensor([[ 1.8283, -1.3045, -1.0235,  1.4806]], device='cuda:0'), tensor([[ 2.0604, -1.2324, -1.1837,  1.4643]], device='cuda:0'), tensor([[ 2.0624,  0.5476, -1.5685,  0.2850]], device='cuda:0'), tensor([[ 2.1076, -1.1937, -0.7353,  0.6519]], device='cuda:0'), tensor([[ 1.9134, -0.9217, -1.3295,  1.4132]], device='cuda:0'), tensor([[ 1.6778,  1.1478, -0.9968, -1.1374]], device='cuda:0'), tensor([[ 1.7490,  1.4825, -1.2190, -1.0388]], device='cuda:0'), tensor([[ 1.5816, -1.1802, -0.4632,  0.7523]], device='cuda:0'), tensor([[ 1.5802,  1.1845, -1.4484, -0.1754]], device='cuda:0'), tensor([[ 2.0412,  1.3988, -1.7626, -0.3517]], device='cuda:0'), tensor([[ 1.7002,  1.5438, -1.7868, -0.2706]], device='cuda:0'), tensor([[ 1.9807,  1.9844, -1.8090, -1.0564]], device='cuda:0'), tensor([[ 1.6806,  2.4007, -1.6463, -1.2219]], device='cuda:0'), tensor([[ 1.6877, -0.3341, -0.8328,  0.2695]], device='cuda:0'), tensor([[ 1.7142, -0.6580, -1.4560,  1.5382]], device='cuda:0'), tensor([[ 2.6637,  1.0808, -2.5127,  0.2047]], device='cuda:0'), tensor([[ 2.1982,  2.4051, -2.5018, -0.5516]], device='cuda:0'), tensor([[ 1.7653,  4.1212, -2.7474, -1.4387]], device='cuda:0'), tensor([[ 1.9170,  1.0836, -1.5121, -0.4544]], device='cuda:0'), tensor([[ 2.2645,  2.4795, -3.0057,  0.1298]], device='cuda:0'), tensor([[ 2.3108,  1.0035, -2.0049,  0.1528]], device='cuda:0'), tensor([[ 1.9560, -1.0995, -1.2546,  1.4415]], device='cuda:0'), tensor([[ 2.6027, -1.2973, -2.0898,  2.2535]], device='cuda:0'), tensor([[ 2.0691, -0.5040, -1.4834,  1.1268]], device='cuda:0'), tensor([[ 1.9363,  1.6904, -2.1685,  0.1722]], device='cuda:0'), tensor([[ 1.9723,  2.0230, -2.0116, -0.7129]], device='cuda:0'), tensor([[ 2.0965,  1.7006, -2.0506, -0.3955]], device='cuda:0'), tensor([[ 2.7194,  0.4688, -2.1084,  0.4860]], device='cuda:0'), tensor([[ 2.2660, -1.6555, -1.4673,  2.0623]], device='cuda:0'), tensor([[ 1.6767, -0.9422, -0.7878,  0.8531]], device='cuda:0'), tensor([[ 2.4789,  1.3470, -2.3587,  0.2852]], device='cuda:0'), tensor([[ 1.7672,  1.0957, -1.0994, -0.9937]], device='cuda:0'), tensor([[ 2.3905,  1.8755, -2.6508,  0.0079]], device='cuda:0'), tensor([[ 2.0465,  0.2529, -1.6631,  0.7625]], device='cuda:0'), tensor([[ 1.9384,  0.3013, -1.2737,  0.0113]], device='cuda:0'), tensor([[ 2.0545,  0.8621, -1.7142, -0.1068]], device='cuda:0'), tensor([[ 1.7353, -1.2994, -0.9793,  1.4019]], device='cuda:0'), tensor([[ 2.5425,  0.1386, -2.3841,  1.3693]], device='cuda:0'), tensor([[ 2.3713,  0.4683, -1.7313,  0.3394]], device='cuda:0'), tensor([[ 2.2481,  1.1435, -1.9464, -0.1431]], device='cuda:0'), tensor([[ 2.5788,  1.6058, -2.7658,  0.3060]], device='cuda:0'), tensor([[ 2.0079,  0.6502, -1.4868, -0.0628]], device='cuda:0'), tensor([[ 2.5592, -0.1419, -1.7883,  0.7031]], device='cuda:0'), tensor([[ 1.6571, -2.0333, -0.7616,  1.9968]], device='cuda:0'), tensor([[ 2.2057,  0.3163, -1.9291,  0.8091]], device='cuda:0'), tensor([[ 2.4354,  0.4929, -2.1845,  0.7754]], device='cuda:0'), tensor([[ 1.8602, -0.8555, -1.1461,  1.1568]], device='cuda:0'), tensor([[ 2.4211e+00,  1.3899e+00, -2.1536e+00, -1.0683e-03]], device='cuda:0'), tensor([[ 2.7389,  2.7201, -3.3268, -0.1485]], device='cuda:0'), tensor([[ 2.2845,  1.5241, -2.4804,  0.2716]], device='cuda:0'), tensor([[ 2.4571,  0.6813, -2.2093,  0.6486]], device='cuda:0'), tensor([[ 2.7625,  1.4477, -3.0047,  0.6541]], device='cuda:0'), tensor([[ 2.3931,  0.8678, -1.9309,  0.2187]], device='cuda:0'), tensor([[ 1.7539, -1.6217, -0.7283,  1.3870]], device='cuda:0'), tensor([[ 2.5292,  0.4169, -2.0979,  0.6775]], device='cuda:0'), tensor([[ 2.3693, -0.9579, -1.7219,  1.4933]], device='cuda:0'), tensor([[ 1.9919,  1.3134, -1.8595, -0.1829]], device='cuda:0'), tensor([[ 2.0371,  0.9472, -1.6500, -0.0442]], device='cuda:0'), tensor([[ 1.7503, -2.0757, -0.5146,  1.5415]], device='cuda:0'), tensor([[ 1.9309,  0.6924, -1.5377, -0.0093]], device='cuda:0'), tensor([[ 2.3320,  0.4557, -1.8502,  0.3825]], device='cuda:0'), tensor([[ 2.5280, -0.3589, -1.8336,  1.0023]], device='cuda:0'), tensor([[ 2.3595,  0.4665, -2.2475,  0.9946]], device='cuda:0'), tensor([[ 2.1500,  2.4863, -2.5425, -0.5119]], device='cuda:0'), tensor([[ 2.1171, -0.1269, -0.8897, -0.2126]], device='cuda:0'), tensor([[ 1.5886, -1.8457, -0.4462,  1.4319]], device='cuda:0'), tensor([[ 2.0898,  2.1855, -2.3014, -0.4171]], device='cuda:0'), tensor([[ 1.8442,  1.7578, -1.6370, -0.9035]], device='cuda:0'), tensor([[ 2.3546,  1.1775, -2.1344, -0.1165]], device='cuda:0'), tensor([[ 2.0004,  2.3890, -1.9915, -1.2112]], device='cuda:0'), tensor([[ 1.6836,  3.9017, -2.4238, -1.7707]], device='cuda:0'), tensor([[ 1.8270,  0.7963, -1.2986, -0.2798]], device='cuda:0'), tensor([[ 1.9083,  0.8780, -1.9759,  0.4927]], device='cuda:0'), tensor([[ 2.6040,  0.4034, -2.3943,  0.9205]], device='cuda:0'), tensor([[ 2.4532, -0.3786, -1.5750,  0.7899]], device='cuda:0'), tensor([[ 1.4310,  2.7817, -1.5568, -1.6248]], device='cuda:0'), tensor([[ 1.4443,  2.9022, -1.8497, -1.5118]], device='cuda:0'), tensor([[ 2.0183,  0.8094, -1.5797, -0.0786]], device='cuda:0'), tensor([[ 2.3363,  0.6010, -2.0575,  0.4246]], device='cuda:0'), tensor([[ 1.8502, -0.1048, -1.6800,  1.0636]], device='cuda:0'), tensor([[ 2.0755, -0.3071, -1.6579,  1.1044]], device='cuda:0'), tensor([[ 2.4122, -0.5970, -1.7840,  1.3730]], device='cuda:0'), tensor([[ 1.5351, -0.5742, -0.8522,  0.8006]], device='cuda:0'), tensor([[ 1.8344,  1.6575, -1.8771, -0.1738]], device='cuda:0'), tensor([[ 1.7952,  2.7879, -2.0617, -1.1853]], device='cuda:0'), tensor([[ 2.0991,  2.1197, -2.2369, -0.7381]], device='cuda:0'), tensor([[ 2.6765,  0.5326, -2.1731,  0.3267]], device='cuda:0'), tensor([[ 1.8150, -2.3054, -0.6667,  2.0005]], device='cuda:0'), tensor([[ 2.1104,  0.5028, -2.1164,  1.1244]], device='cuda:0'), tensor([[ 2.0603,  0.6786, -2.0432,  0.6412]], device='cuda:0'), tensor([[ 2.2085,  2.3337, -2.0202, -1.2021]], device='cuda:0'), tensor([[ 2.1158,  1.3365, -2.1163, -0.1567]], device='cuda:0'), tensor([[ 2.0262,  1.2218, -1.7302, -0.2375]], device='cuda:0'), tensor([[ 2.2717,  0.3546, -1.7136,  0.2001]], device='cuda:0'), tensor([[ 2.2455, -2.2302, -0.9260,  1.9196]], device='cuda:0'), tensor([[ 2.1509, -1.4556, -1.0209,  1.2654]], device='cuda:0'), tensor([[ 2.3968, -1.8682, -1.2612,  1.9776]], device='cuda:0'), tensor([[ 1.3892,  0.2861, -1.0585,  0.2487]], device='cuda:0'), tensor([[ 2.5238,  1.3231, -2.2771, -0.0101]], device='cuda:0'), tensor([[ 2.5148,  1.1198, -2.8124,  0.8133]], device='cuda:0'), tensor([[ 1.7580,  1.3149, -1.5200, -0.5179]], device='cuda:0'), tensor([[ 2.3086, -1.2529, -1.1191,  1.1054]], device='cuda:0'), tensor([[ 2.1627, -1.1871, -1.4904,  1.6964]], device='cuda:0'), tensor([[ 1.5234, -1.4949, -0.6457,  1.3477]], device='cuda:0'), tensor([[ 2.1178, -0.1773, -1.1880,  0.3293]], device='cuda:0'), tensor([[ 1.4625, -1.3757, -0.4027,  0.9677]], device='cuda:0'), tensor([[ 2.3602,  1.4322, -2.0300, -0.3721]], device='cuda:0'), tensor([[ 2.7371,  2.7558, -3.1857, -0.3942]], device='cuda:0'), tensor([[ 2.2414,  1.2315, -2.0005, -0.1460]], device='cuda:0'), tensor([[ 2.2213,  1.1811, -2.4576,  0.9051]], device='cuda:0'), tensor([[ 2.5167, -0.1906, -1.7736,  0.7071]], device='cuda:0'), tensor([[ 2.0985,  1.2728, -1.5190, -0.8044]], device='cuda:0'), tensor([[ 2.3266, -0.3843, -1.9291,  1.3498]], device='cuda:0'), tensor([[ 1.9542, -1.9481, -0.9465,  1.8138]], device='cuda:0'), tensor([[ 2.2674,  0.6246, -1.8717,  0.4252]], device='cuda:0'), tensor([[ 2.2635,  1.0894, -2.5902,  0.9895]], device='cuda:0'), tensor([[ 2.0530, -0.2325, -1.3989,  0.6581]], device='cuda:0'), tensor([[ 1.8253, -1.2661, -0.6721,  0.8854]], device='cuda:0'), tensor([[ 1.6902, -2.2122, -0.5700,  2.0407]], device='cuda:0'), tensor([[ 1.7867, -0.6449, -1.1000,  0.9247]], device='cuda:0'), tensor([[ 2.0860,  0.5831, -1.3926, -0.2766]], device='cuda:0'), tensor([[ 2.4001, -1.1813, -1.5009,  1.4756]], device='cuda:0'), tensor([[ 2.3418, -0.4901, -1.8923,  1.4111]], device='cuda:0'), tensor([[ 2.1181,  1.8393, -2.3293, -0.1421]], device='cuda:0'), tensor([[ 2.1477, -0.6381, -0.8813,  0.0441]], device='cuda:0'), tensor([[ 1.8851, -0.3606, -1.4113,  1.0606]], device='cuda:0'), tensor([[ 1.6291,  1.4781, -1.2262, -1.0301]], device='cuda:0'), tensor([[ 2.0284,  2.3759, -1.8219, -1.3260]], device='cuda:0'), tensor([[ 1.9808,  1.7582, -1.8399, -0.5083]], device='cuda:0'), tensor([[ 1.4543,  2.6442, -1.4376, -1.7726]], device='cuda:0'), tensor([[ 2.1884,  1.5214, -1.9923, -0.2732]], device='cuda:0'), tensor([[ 1.6553, -0.6392, -0.6247,  0.4163]], device='cuda:0'), tensor([[ 1.8887, -2.0847, -0.9911,  2.1933]], device='cuda:0'), tensor([[ 2.1656,  0.0059, -1.1962,  0.0162]], device='cuda:0'), tensor([[ 2.0000,  0.7737, -1.3138, -0.4001]], device='cuda:0'), tensor([[ 1.3969,  1.9996, -1.5693, -0.7700]], device='cuda:0'), tensor([[ 1.7982,  2.5991, -1.9417, -1.2737]], device='cuda:0'), tensor([[ 1.4153,  2.7300, -1.3382, -1.8770]], device='cuda:0'), tensor([[ 2.2400,  0.4884, -1.7036,  0.2829]], device='cuda:0'), tensor([[ 1.7629, -1.9433, -0.7586,  1.8056]], device='cuda:0'), tensor([[ 2.1779, -1.1656, -1.3119,  1.4254]], device='cuda:0'), tensor([[ 1.8094, -0.5138, -1.3703,  1.2664]], device='cuda:0'), tensor([[ 1.9807,  0.2439, -1.7456,  0.8232]], device='cuda:0'), tensor([[ 2.2321,  0.3242, -1.8197,  0.6109]], device='cuda:0'), tensor([[ 1.3072,  0.8740, -0.9158, -0.4243]], device='cuda:0'), tensor([[ 2.0867,  1.8373, -2.2582, -0.2357]], device='cuda:0'), tensor([[ 1.7294,  2.3655, -1.7089, -1.1496]], device='cuda:0'), tensor([[ 2.6118,  0.8250, -2.1581,  0.1850]], device='cuda:0'), tensor([[ 1.9538, -2.7997, -0.6594,  2.4543]], device='cuda:0'), tensor([[ 2.1342, -1.3471, -1.4173,  1.7649]], device='cuda:0'), tensor([[ 2.1211, -1.9647, -1.0697,  1.9326]], device='cuda:0'), tensor([[ 2.6076,  0.0119, -1.8866,  0.7668]], device='cuda:0'), tensor([[ 2.2897,  0.2998, -1.8148,  0.4901]], device='cuda:0'), tensor([[ 1.6914, -1.7182, -0.2415,  0.8153]], device='cuda:0'), tensor([[ 2.2148,  0.9761, -1.7008, -0.2643]], device='cuda:0'), tensor([[ 2.1100, -1.2977, -1.1968,  1.4610]], device='cuda:0'), tensor([[ 2.4277, -0.4260, -2.0857,  1.5336]], device='cuda:0'), tensor([[ 1.9570, -1.2423, -1.0757,  1.3378]], device='cuda:0'), tensor([[ 2.2842, -0.3791, -1.7591,  0.9764]], device='cuda:0'), tensor([[ 2.2092, -0.0849, -1.8473,  1.1332]], device='cuda:0'), tensor([[ 2.1716, -0.8802, -1.8659,  1.8747]], device='cuda:0'), tensor([[ 2.2314,  0.2979, -1.6290,  0.4105]], device='cuda:0'), tensor([[ 1.9723,  0.3938, -1.2593, -0.0414]], device='cuda:0'), tensor([[ 2.1810,  0.3638, -1.8105,  0.5381]], device='cuda:0'), tensor([[ 1.6844,  1.7571, -1.8121, -0.3384]], device='cuda:0'), tensor([[ 2.3530, -1.1356, -1.6633,  1.7249]], device='cuda:0'), tensor([[ 1.9913,  2.3654, -2.6849,  0.1515]], device='cuda:0'), tensor([[ 1.5983, -0.0193, -1.0361,  0.3162]], device='cuda:0'), tensor([[ 2.2513,  0.6265, -1.6020, -0.0137]], device='cuda:0'), tensor([[ 2.1877,  0.9719, -1.6888, -0.1131]], device='cuda:0'), tensor([[ 1.9411,  1.3528, -1.6283, -0.6011]], device='cuda:0'), tensor([[ 1.8093,  1.3339, -1.9133,  0.0442]], device='cuda:0'), tensor([[ 2.2690,  0.4882, -2.2216,  0.9438]], device='cuda:0'), tensor([[ 2.3798,  0.0265, -2.3558,  1.6591]], device='cuda:0'), tensor([[ 1.7352,  1.3703, -1.6723, -0.1688]], device='cuda:0'), tensor([[ 1.1654,  0.9500, -0.9239, -0.3059]], device='cuda:0'), tensor([[ 2.1450,  0.9829, -1.7035, -0.1887]], device='cuda:0'), tensor([[ 2.1215,  0.5190, -1.2269, -0.5296]], device='cuda:0'), tensor([[ 2.3236,  0.4201, -1.6732,  0.2164]], device='cuda:0'), tensor([[ 2.0273, -0.3093, -1.0755,  0.2799]], device='cuda:0'), tensor([[ 2.0717, -2.9046, -0.4899,  2.1486]], device='cuda:0'), tensor([[ 1.9829, -1.4088, -1.3095,  1.9382]], device='cuda:0'), tensor([[ 1.5740, -1.3211, -1.0898,  1.7897]], device='cuda:0'), tensor([[ 2.2556,  1.3854, -2.6107,  0.4900]], device='cuda:0'), tensor([[ 2.6287,  1.9421, -3.1501,  0.4097]], device='cuda:0'), tensor([[ 2.1801,  1.8930, -2.2442, -0.5179]], device='cuda:0'), tensor([[ 2.2192,  1.7026, -2.4139,  0.0771]], device='cuda:0'), tensor([[ 1.7558,  1.0540, -1.5410, -0.2657]], device='cuda:0'), tensor([[ 2.5304,  1.3738, -2.0381, -0.3978]], device='cuda:0'), tensor([[ 1.7365, -0.9091, -0.8814,  0.9671]], device='cuda:0'), tensor([[ 1.8604, -0.4027, -1.4079,  1.0610]], device='cuda:0'), tensor([[ 2.3674,  0.9665, -2.5343,  0.8781]], device='cuda:0'), tensor([[ 1.9209,  0.5144, -2.0287,  0.9168]], device='cuda:0'), tensor([[ 1.6531,  3.3526, -2.4761, -1.1342]], device='cuda:0'), tensor([[ 2.3568,  1.1899, -2.6063,  0.8577]], device='cuda:0'), tensor([[ 2.8263,  0.5380, -2.4722,  0.7934]], device='cuda:0'), tensor([[ 1.9306,  2.1070, -2.8552,  0.5036]], device='cuda:0'), tensor([[ 2.0925,  2.7095, -2.9464, -0.0197]], device='cuda:0'), tensor([[ 2.1974,  3.0702, -3.1394, -0.0822]], device='cuda:0'), tensor([[ 1.8988,  2.0101, -2.4730,  0.1681]], device='cuda:0'), tensor([[ 2.1057,  0.8969, -1.9608,  0.4428]], device='cuda:0'), tensor([[ 2.1816,  0.9860, -2.1324,  0.5832]], device='cuda:0'), tensor([[ 2.6754,  1.6553, -2.8394,  0.2351]], device='cuda:0'), tensor([[ 2.0591,  0.9602, -1.7020,  0.0584]], device='cuda:0'), tensor([[ 2.4144,  3.7686, -3.5907, -0.5018]], device='cuda:0'), tensor([[ 2.5001,  0.2047, -2.0396,  0.8071]], device='cuda:0'), tensor([[ 2.0808, -0.4161, -1.7037,  1.2182]], device='cuda:0'), tensor([[ 1.9899,  0.4580, -1.6651,  0.4992]], device='cuda:0'), tensor([[ 2.2493,  1.2401, -2.1488,  0.1753]], device='cuda:0'), tensor([[ 2.5933,  2.2071, -3.0869,  0.3407]], device='cuda:0'), tensor([[ 2.9416,  3.1687, -3.9265,  0.2581]], device='cuda:0'), tensor([[ 2.2851,  3.0568, -3.4076,  0.0234]], device='cuda:0'), tensor([[ 2.0699,  3.2443, -3.0584, -0.3430]], device='cuda:0'), tensor([[ 2.7533,  4.0610, -4.1866, -0.0987]], device='cuda:0'), tensor([[ 2.6952,  1.1356, -2.6615,  0.6719]], device='cuda:0'), tensor([[ 2.1358,  3.5796, -3.4197, -0.1623]], device='cuda:0'), tensor([[ 2.0973,  2.7619, -2.6590, -0.4415]], device='cuda:0'), tensor([[ 1.4147,  2.4123, -1.6060, -1.0636]], device='cuda:0'), tensor([[ 0.9776,  0.3698, -0.1626, -0.7234]], device='cuda:0'), tensor([[ 1.0953,  0.4981, -0.4889, -0.4411]], device='cuda:0'), tensor([[ 1.8314, -1.3417, -0.7415,  1.1385]], device='cuda:0'), tensor([[ 1.7040, -0.6606, -0.7047,  0.4856]], device='cuda:0'), tensor([[ 2.3843, -1.2375, -1.3075,  1.2779]], device='cuda:0'), tensor([[ 1.9472,  1.5557, -1.8671, -0.4633]], device='cuda:0'), tensor([[ 2.6355,  0.5382, -2.3970,  0.8406]], device='cuda:0'), tensor([[ 2.5650, -0.1460, -2.0242,  0.9892]], device='cuda:0'), tensor([[ 2.4918, -0.1214, -2.0330,  1.1291]], device='cuda:0'), tensor([[ 2.1767,  0.5038, -1.9559,  0.6161]], device='cuda:0'), tensor([[ 2.3315, -0.6051, -1.0817,  0.3628]], device='cuda:0'), tensor([[ 2.2591,  0.2632, -1.8402,  0.6171]], device='cuda:0'), tensor([[ 2.3390,  0.8122, -2.4925,  0.9591]], device='cuda:0'), tensor([[ 1.8176,  1.0698, -1.9004,  0.3336]], device='cuda:0'), tensor([[ 1.9672,  2.0215, -2.2831, -0.3975]], device='cuda:0'), tensor([[ 2.2140, -2.2301, -0.9583,  1.8953]], device='cuda:0'), tensor([[ 2.2983, -1.3546, -1.9835,  2.5375]], device='cuda:0'), tensor([[ 2.3654, -0.3483, -2.2889,  1.8774]], device='cuda:0'), tensor([[ 2.4477, -0.3786, -2.6679,  2.3106]], device='cuda:0'), tensor([[ 2.1328, -0.5510, -1.6918,  1.3043]], device='cuda:0'), tensor([[ 2.7027, -0.7241, -2.4740,  2.2033]], device='cuda:0'), tensor([[ 1.0683, -2.1783, -0.0764,  1.5380]], device='cuda:0'), tensor([[-0.2850, -6.7549,  4.1046,  1.3754]], device='cuda:0')]\n"
          ]
        }
      ],
      "source": [
        "%rm youtube_melgrams.npy #delete npy file created from previous download\n",
        "youtube.youtube_to_melgram('https://www.youtube.com/watch?v=OMaycNcPsHI&ab_channel=PLACEBO') #get melgram for the link\n",
        "\n",
        "youtube_data = np.load('youtube_melgrams.npy') #load melgrams\n",
        "\n",
        "#dataloader\n",
        "youtube_dataset = _Dataset(youtube_data, transform=None)\n",
        "youtube_dataloader = DataLoader(youtube_dataset, batch_size=1, shuffle = False)\n",
        "\n",
        "#predict\n",
        "with torch.no_grad(): \n",
        "  l = youtube_pred(youtube_dataloader, model)\n",
        "print(l)"
      ]
    },
    {
      "cell_type": "markdown",
      "metadata": {
        "id": "fX-jYWK22Nw7"
      },
      "source": [
        "Blues"
      ]
    },
    {
      "cell_type": "code",
      "execution_count": 27,
      "metadata": {
        "colab": {
          "base_uri": "https://localhost:8080/"
        },
        "id": "1G9Pf1SI7__m",
        "outputId": "0e4fd28b-7d3c-451d-e8ba-b864df6b3b9b"
      },
      "outputs": [
        {
          "name": "stderr",
          "output_type": "stream",
          "text": [
            "/usr/local/lib/python3.7/dist-packages/librosa/core/audio.py:165: UserWarning: PySoundFile failed. Trying audioread instead.\n",
            "  warnings.warn(\"PySoundFile failed. Trying audioread instead.\")\n"
          ]
        },
        {
          "name": "stdout",
          "output_type": "stream",
          "text": [
            "[tensor([[ 0.8954, -2.1451,  0.8717,  0.4368]], device='cuda:0'), tensor([[ 0.8954, -2.1451,  0.8717,  0.4368]], device='cuda:0'), tensor([[ 1.8111, -2.0838, -0.3381,  1.1976]], device='cuda:0'), tensor([[ 1.6397,  0.5884, -1.2138, -0.0853]], device='cuda:0'), tensor([[ 2.2027, -0.7325, -1.4834,  1.1990]], device='cuda:0'), tensor([[ 2.0140, -1.0412, -1.2488,  1.3444]], device='cuda:0'), tensor([[ 1.6942,  0.9347, -1.4328, -0.1543]], device='cuda:0'), tensor([[ 2.5025,  1.5876, -2.3738, -0.3051]], device='cuda:0'), tensor([[ 2.2892,  0.7767, -2.0857,  0.5888]], device='cuda:0'), tensor([[ 2.0850,  0.1170, -1.7282,  0.8242]], device='cuda:0'), tensor([[ 2.2977, -1.5672, -1.5295,  2.0149]], device='cuda:0'), tensor([[ 2.0695, -0.5728, -1.2678,  0.9035]], device='cuda:0'), tensor([[ 2.0584,  0.5956, -1.8755,  0.5592]], device='cuda:0'), tensor([[ 1.6714,  1.6088, -1.4319, -0.8334]], device='cuda:0'), tensor([[ 1.8705,  0.6910, -1.4159, -0.1129]], device='cuda:0'), tensor([[ 1.8623, -0.6539, -1.2809,  1.2783]], device='cuda:0'), tensor([[ 1.9617,  0.3207, -1.4410,  0.2150]], device='cuda:0'), tensor([[ 2.1578,  0.2847, -1.3486,  0.0563]], device='cuda:0'), tensor([[ 2.0476,  1.5360, -1.7120, -0.7813]], device='cuda:0'), tensor([[ 2.1584,  0.9666, -1.7182, -0.1467]], device='cuda:0'), tensor([[ 2.0185,  1.7099, -2.0896, -0.1309]], device='cuda:0'), tensor([[ 1.6776,  0.0207, -1.4358,  0.8793]], device='cuda:0'), tensor([[ 2.0632,  0.1143, -1.6892,  0.8575]], device='cuda:0'), tensor([[ 1.9838, -1.4248, -1.5389,  2.1835]], device='cuda:0'), tensor([[ 1.7113, -0.6858, -0.9466,  0.8562]], device='cuda:0'), tensor([[ 2.0750,  2.8562, -2.7291, -0.4645]], device='cuda:0'), tensor([[ 2.2578,  1.8563, -2.3696, -0.3418]], device='cuda:0'), tensor([[ 2.2909,  0.5627, -1.7846,  0.2624]], device='cuda:0'), tensor([[ 2.4285, -0.4595, -1.6057,  0.9380]], device='cuda:0'), tensor([[ 1.8283, -1.3045, -1.0235,  1.4806]], device='cuda:0'), tensor([[ 2.0604, -1.2324, -1.1837,  1.4643]], device='cuda:0'), tensor([[ 2.0624,  0.5476, -1.5685,  0.2850]], device='cuda:0'), tensor([[ 2.1076, -1.1937, -0.7353,  0.6519]], device='cuda:0'), tensor([[ 1.9134, -0.9217, -1.3295,  1.4132]], device='cuda:0'), tensor([[ 1.6778,  1.1478, -0.9968, -1.1374]], device='cuda:0'), tensor([[ 1.7490,  1.4825, -1.2190, -1.0388]], device='cuda:0'), tensor([[ 1.5816, -1.1802, -0.4632,  0.7523]], device='cuda:0'), tensor([[ 1.5802,  1.1845, -1.4484, -0.1754]], device='cuda:0'), tensor([[ 2.0412,  1.3988, -1.7626, -0.3517]], device='cuda:0'), tensor([[ 1.7002,  1.5438, -1.7868, -0.2706]], device='cuda:0'), tensor([[ 1.9807,  1.9844, -1.8090, -1.0564]], device='cuda:0'), tensor([[ 1.6806,  2.4007, -1.6463, -1.2219]], device='cuda:0'), tensor([[ 1.6877, -0.3341, -0.8328,  0.2695]], device='cuda:0'), tensor([[ 1.7142, -0.6580, -1.4560,  1.5382]], device='cuda:0'), tensor([[ 2.6637,  1.0808, -2.5127,  0.2047]], device='cuda:0'), tensor([[ 2.1982,  2.4051, -2.5018, -0.5516]], device='cuda:0'), tensor([[ 1.7653,  4.1212, -2.7474, -1.4387]], device='cuda:0'), tensor([[ 1.9170,  1.0836, -1.5121, -0.4544]], device='cuda:0'), tensor([[ 2.2645,  2.4795, -3.0057,  0.1298]], device='cuda:0'), tensor([[ 2.3108,  1.0035, -2.0049,  0.1528]], device='cuda:0'), tensor([[ 1.9560, -1.0995, -1.2546,  1.4415]], device='cuda:0'), tensor([[ 2.6027, -1.2973, -2.0898,  2.2535]], device='cuda:0'), tensor([[ 2.0691, -0.5040, -1.4834,  1.1268]], device='cuda:0'), tensor([[ 1.9363,  1.6904, -2.1685,  0.1722]], device='cuda:0'), tensor([[ 1.9723,  2.0230, -2.0116, -0.7129]], device='cuda:0'), tensor([[ 2.0965,  1.7006, -2.0506, -0.3955]], device='cuda:0'), tensor([[ 2.7194,  0.4688, -2.1084,  0.4860]], device='cuda:0'), tensor([[ 2.2660, -1.6555, -1.4673,  2.0623]], device='cuda:0'), tensor([[ 1.6767, -0.9422, -0.7878,  0.8531]], device='cuda:0'), tensor([[ 2.4789,  1.3470, -2.3587,  0.2852]], device='cuda:0'), tensor([[ 1.7672,  1.0957, -1.0994, -0.9937]], device='cuda:0'), tensor([[ 2.3905,  1.8755, -2.6508,  0.0079]], device='cuda:0'), tensor([[ 2.0465,  0.2529, -1.6631,  0.7625]], device='cuda:0'), tensor([[ 1.9384,  0.3013, -1.2737,  0.0113]], device='cuda:0'), tensor([[ 2.0545,  0.8621, -1.7142, -0.1068]], device='cuda:0'), tensor([[ 1.7353, -1.2994, -0.9793,  1.4019]], device='cuda:0'), tensor([[ 2.5425,  0.1386, -2.3841,  1.3693]], device='cuda:0'), tensor([[ 2.3713,  0.4683, -1.7313,  0.3394]], device='cuda:0'), tensor([[ 2.2481,  1.1435, -1.9464, -0.1431]], device='cuda:0'), tensor([[ 2.5788,  1.6058, -2.7658,  0.3060]], device='cuda:0'), tensor([[ 2.0079,  0.6502, -1.4868, -0.0628]], device='cuda:0'), tensor([[ 2.5592, -0.1419, -1.7883,  0.7031]], device='cuda:0'), tensor([[ 1.6571, -2.0333, -0.7616,  1.9968]], device='cuda:0'), tensor([[ 2.2057,  0.3163, -1.9291,  0.8091]], device='cuda:0'), tensor([[ 2.4354,  0.4929, -2.1845,  0.7754]], device='cuda:0'), tensor([[ 1.8602, -0.8555, -1.1461,  1.1568]], device='cuda:0'), tensor([[ 2.4211e+00,  1.3899e+00, -2.1536e+00, -1.0683e-03]], device='cuda:0'), tensor([[ 2.7389,  2.7201, -3.3268, -0.1485]], device='cuda:0'), tensor([[ 2.2845,  1.5241, -2.4804,  0.2716]], device='cuda:0'), tensor([[ 2.4571,  0.6813, -2.2093,  0.6486]], device='cuda:0'), tensor([[ 2.7625,  1.4477, -3.0047,  0.6541]], device='cuda:0'), tensor([[ 2.3931,  0.8678, -1.9309,  0.2187]], device='cuda:0'), tensor([[ 1.7539, -1.6217, -0.7283,  1.3870]], device='cuda:0'), tensor([[ 2.5292,  0.4169, -2.0979,  0.6775]], device='cuda:0'), tensor([[ 2.3693, -0.9579, -1.7219,  1.4933]], device='cuda:0'), tensor([[ 1.9919,  1.3134, -1.8595, -0.1829]], device='cuda:0'), tensor([[ 2.0371,  0.9472, -1.6500, -0.0442]], device='cuda:0'), tensor([[ 1.7503, -2.0757, -0.5146,  1.5415]], device='cuda:0'), tensor([[ 1.9309,  0.6924, -1.5377, -0.0093]], device='cuda:0'), tensor([[ 2.3320,  0.4557, -1.8502,  0.3825]], device='cuda:0'), tensor([[ 2.5280, -0.3589, -1.8336,  1.0023]], device='cuda:0'), tensor([[ 2.3595,  0.4665, -2.2475,  0.9946]], device='cuda:0'), tensor([[ 2.1500,  2.4863, -2.5425, -0.5119]], device='cuda:0'), tensor([[ 2.1171, -0.1269, -0.8897, -0.2126]], device='cuda:0'), tensor([[ 1.5886, -1.8457, -0.4462,  1.4319]], device='cuda:0'), tensor([[ 2.0898,  2.1855, -2.3014, -0.4171]], device='cuda:0'), tensor([[ 1.8442,  1.7578, -1.6370, -0.9035]], device='cuda:0'), tensor([[ 2.3546,  1.1775, -2.1344, -0.1165]], device='cuda:0'), tensor([[ 2.0004,  2.3890, -1.9915, -1.2112]], device='cuda:0'), tensor([[ 1.6836,  3.9017, -2.4238, -1.7707]], device='cuda:0'), tensor([[ 1.8270,  0.7963, -1.2986, -0.2798]], device='cuda:0'), tensor([[ 1.9083,  0.8780, -1.9759,  0.4927]], device='cuda:0'), tensor([[ 2.6040,  0.4034, -2.3943,  0.9205]], device='cuda:0'), tensor([[ 2.4532, -0.3786, -1.5750,  0.7899]], device='cuda:0'), tensor([[ 1.4310,  2.7817, -1.5568, -1.6248]], device='cuda:0'), tensor([[ 1.4443,  2.9022, -1.8497, -1.5118]], device='cuda:0'), tensor([[ 2.0183,  0.8094, -1.5797, -0.0786]], device='cuda:0'), tensor([[ 2.3363,  0.6010, -2.0575,  0.4246]], device='cuda:0'), tensor([[ 1.8502, -0.1048, -1.6800,  1.0636]], device='cuda:0'), tensor([[ 2.0755, -0.3071, -1.6579,  1.1044]], device='cuda:0'), tensor([[ 2.4122, -0.5970, -1.7840,  1.3730]], device='cuda:0'), tensor([[ 1.5351, -0.5742, -0.8522,  0.8006]], device='cuda:0'), tensor([[ 1.8344,  1.6575, -1.8771, -0.1738]], device='cuda:0'), tensor([[ 1.7952,  2.7879, -2.0617, -1.1853]], device='cuda:0'), tensor([[ 2.0991,  2.1197, -2.2369, -0.7381]], device='cuda:0'), tensor([[ 2.6765,  0.5326, -2.1731,  0.3267]], device='cuda:0'), tensor([[ 1.8150, -2.3054, -0.6667,  2.0005]], device='cuda:0'), tensor([[ 2.1104,  0.5028, -2.1164,  1.1244]], device='cuda:0'), tensor([[ 2.0603,  0.6786, -2.0432,  0.6412]], device='cuda:0'), tensor([[ 2.2085,  2.3337, -2.0202, -1.2021]], device='cuda:0'), tensor([[ 2.1158,  1.3365, -2.1163, -0.1567]], device='cuda:0'), tensor([[ 2.0262,  1.2218, -1.7302, -0.2375]], device='cuda:0'), tensor([[ 2.2717,  0.3546, -1.7136,  0.2001]], device='cuda:0'), tensor([[ 2.2455, -2.2302, -0.9260,  1.9196]], device='cuda:0'), tensor([[ 2.1509, -1.4556, -1.0209,  1.2654]], device='cuda:0'), tensor([[ 2.3968, -1.8682, -1.2612,  1.9776]], device='cuda:0'), tensor([[ 1.3892,  0.2861, -1.0585,  0.2487]], device='cuda:0'), tensor([[ 2.5238,  1.3231, -2.2771, -0.0101]], device='cuda:0'), tensor([[ 2.5148,  1.1198, -2.8124,  0.8133]], device='cuda:0'), tensor([[ 1.7580,  1.3149, -1.5200, -0.5179]], device='cuda:0'), tensor([[ 2.3086, -1.2529, -1.1191,  1.1054]], device='cuda:0'), tensor([[ 2.1627, -1.1871, -1.4904,  1.6964]], device='cuda:0'), tensor([[ 1.5234, -1.4949, -0.6457,  1.3477]], device='cuda:0'), tensor([[ 2.1178, -0.1773, -1.1880,  0.3293]], device='cuda:0'), tensor([[ 1.4625, -1.3757, -0.4027,  0.9677]], device='cuda:0'), tensor([[ 2.3602,  1.4322, -2.0300, -0.3721]], device='cuda:0'), tensor([[ 2.7371,  2.7558, -3.1857, -0.3942]], device='cuda:0'), tensor([[ 2.2414,  1.2315, -2.0005, -0.1460]], device='cuda:0'), tensor([[ 2.2213,  1.1811, -2.4576,  0.9051]], device='cuda:0'), tensor([[ 2.5167, -0.1906, -1.7736,  0.7071]], device='cuda:0'), tensor([[ 2.0985,  1.2728, -1.5190, -0.8044]], device='cuda:0'), tensor([[ 2.3266, -0.3843, -1.9291,  1.3498]], device='cuda:0'), tensor([[ 1.9542, -1.9481, -0.9465,  1.8138]], device='cuda:0'), tensor([[ 2.2674,  0.6246, -1.8717,  0.4252]], device='cuda:0'), tensor([[ 2.2635,  1.0894, -2.5902,  0.9895]], device='cuda:0'), tensor([[ 2.0530, -0.2325, -1.3989,  0.6581]], device='cuda:0'), tensor([[ 1.8253, -1.2661, -0.6721,  0.8854]], device='cuda:0'), tensor([[ 1.6902, -2.2122, -0.5700,  2.0407]], device='cuda:0'), tensor([[ 1.7867, -0.6449, -1.1000,  0.9247]], device='cuda:0'), tensor([[ 2.0860,  0.5831, -1.3926, -0.2766]], device='cuda:0'), tensor([[ 2.4001, -1.1813, -1.5009,  1.4756]], device='cuda:0'), tensor([[ 2.3418, -0.4901, -1.8923,  1.4111]], device='cuda:0'), tensor([[ 2.1181,  1.8393, -2.3293, -0.1421]], device='cuda:0'), tensor([[ 2.1477, -0.6381, -0.8813,  0.0441]], device='cuda:0'), tensor([[ 1.8851, -0.3606, -1.4113,  1.0606]], device='cuda:0'), tensor([[ 1.6291,  1.4781, -1.2262, -1.0301]], device='cuda:0'), tensor([[ 2.0284,  2.3759, -1.8219, -1.3260]], device='cuda:0'), tensor([[ 1.9808,  1.7582, -1.8399, -0.5083]], device='cuda:0'), tensor([[ 1.4543,  2.6442, -1.4376, -1.7726]], device='cuda:0'), tensor([[ 2.1884,  1.5214, -1.9923, -0.2732]], device='cuda:0'), tensor([[ 1.6553, -0.6392, -0.6247,  0.4163]], device='cuda:0'), tensor([[ 1.8887, -2.0847, -0.9911,  2.1933]], device='cuda:0'), tensor([[ 2.1656,  0.0059, -1.1962,  0.0162]], device='cuda:0'), tensor([[ 2.0000,  0.7737, -1.3138, -0.4001]], device='cuda:0'), tensor([[ 1.3969,  1.9996, -1.5693, -0.7700]], device='cuda:0'), tensor([[ 1.7982,  2.5991, -1.9417, -1.2737]], device='cuda:0'), tensor([[ 1.4153,  2.7300, -1.3382, -1.8770]], device='cuda:0'), tensor([[ 2.2400,  0.4884, -1.7036,  0.2829]], device='cuda:0'), tensor([[ 1.7629, -1.9433, -0.7586,  1.8056]], device='cuda:0'), tensor([[ 2.1779, -1.1656, -1.3119,  1.4254]], device='cuda:0'), tensor([[ 1.8094, -0.5138, -1.3703,  1.2664]], device='cuda:0'), tensor([[ 1.9807,  0.2439, -1.7456,  0.8232]], device='cuda:0'), tensor([[ 2.2321,  0.3242, -1.8197,  0.6109]], device='cuda:0'), tensor([[ 1.3072,  0.8740, -0.9158, -0.4243]], device='cuda:0'), tensor([[ 2.0867,  1.8373, -2.2582, -0.2357]], device='cuda:0'), tensor([[ 1.7294,  2.3655, -1.7089, -1.1496]], device='cuda:0'), tensor([[ 2.6118,  0.8250, -2.1581,  0.1850]], device='cuda:0'), tensor([[ 1.9538, -2.7997, -0.6594,  2.4543]], device='cuda:0'), tensor([[ 2.1342, -1.3471, -1.4173,  1.7649]], device='cuda:0'), tensor([[ 2.1211, -1.9647, -1.0697,  1.9326]], device='cuda:0'), tensor([[ 2.6076,  0.0119, -1.8866,  0.7668]], device='cuda:0'), tensor([[ 2.2897,  0.2998, -1.8148,  0.4901]], device='cuda:0'), tensor([[ 1.6914, -1.7182, -0.2415,  0.8153]], device='cuda:0'), tensor([[ 2.2148,  0.9761, -1.7008, -0.2643]], device='cuda:0'), tensor([[ 2.1100, -1.2977, -1.1968,  1.4610]], device='cuda:0'), tensor([[ 2.4277, -0.4260, -2.0857,  1.5336]], device='cuda:0'), tensor([[ 1.9570, -1.2423, -1.0757,  1.3378]], device='cuda:0'), tensor([[ 2.2842, -0.3791, -1.7591,  0.9764]], device='cuda:0'), tensor([[ 2.2092, -0.0849, -1.8473,  1.1332]], device='cuda:0'), tensor([[ 2.1716, -0.8802, -1.8659,  1.8747]], device='cuda:0'), tensor([[ 2.2314,  0.2979, -1.6290,  0.4105]], device='cuda:0'), tensor([[ 1.9723,  0.3938, -1.2593, -0.0414]], device='cuda:0'), tensor([[ 2.1810,  0.3638, -1.8105,  0.5381]], device='cuda:0'), tensor([[ 1.6844,  1.7571, -1.8121, -0.3384]], device='cuda:0'), tensor([[ 2.3530, -1.1356, -1.6633,  1.7249]], device='cuda:0'), tensor([[ 1.9913,  2.3654, -2.6849,  0.1515]], device='cuda:0'), tensor([[ 1.5983, -0.0193, -1.0361,  0.3162]], device='cuda:0'), tensor([[ 2.2513,  0.6265, -1.6020, -0.0137]], device='cuda:0'), tensor([[ 2.1877,  0.9719, -1.6888, -0.1131]], device='cuda:0'), tensor([[ 1.9411,  1.3528, -1.6283, -0.6011]], device='cuda:0'), tensor([[ 1.8093,  1.3339, -1.9133,  0.0442]], device='cuda:0'), tensor([[ 2.2690,  0.4882, -2.2216,  0.9438]], device='cuda:0'), tensor([[ 2.3798,  0.0265, -2.3558,  1.6591]], device='cuda:0'), tensor([[ 1.7352,  1.3703, -1.6723, -0.1688]], device='cuda:0'), tensor([[ 1.1654,  0.9500, -0.9239, -0.3059]], device='cuda:0'), tensor([[ 2.1450,  0.9829, -1.7035, -0.1887]], device='cuda:0'), tensor([[ 2.1215,  0.5190, -1.2269, -0.5296]], device='cuda:0'), tensor([[ 2.3236,  0.4201, -1.6732,  0.2164]], device='cuda:0'), tensor([[ 2.0273, -0.3093, -1.0755,  0.2799]], device='cuda:0'), tensor([[ 2.0717, -2.9046, -0.4899,  2.1486]], device='cuda:0'), tensor([[ 1.9829, -1.4088, -1.3095,  1.9382]], device='cuda:0'), tensor([[ 1.5740, -1.3211, -1.0898,  1.7897]], device='cuda:0'), tensor([[ 2.2556,  1.3854, -2.6107,  0.4900]], device='cuda:0'), tensor([[ 2.6287,  1.9421, -3.1501,  0.4097]], device='cuda:0'), tensor([[ 2.1801,  1.8930, -2.2442, -0.5179]], device='cuda:0'), tensor([[ 2.2192,  1.7026, -2.4139,  0.0771]], device='cuda:0'), tensor([[ 1.7558,  1.0540, -1.5410, -0.2657]], device='cuda:0'), tensor([[ 2.5304,  1.3738, -2.0381, -0.3978]], device='cuda:0'), tensor([[ 1.7365, -0.9091, -0.8814,  0.9671]], device='cuda:0'), tensor([[ 1.8604, -0.4027, -1.4079,  1.0610]], device='cuda:0'), tensor([[ 2.3674,  0.9665, -2.5343,  0.8781]], device='cuda:0'), tensor([[ 1.9209,  0.5144, -2.0287,  0.9168]], device='cuda:0'), tensor([[ 1.6531,  3.3526, -2.4761, -1.1342]], device='cuda:0'), tensor([[ 2.3568,  1.1899, -2.6063,  0.8577]], device='cuda:0'), tensor([[ 2.8263,  0.5380, -2.4722,  0.7934]], device='cuda:0'), tensor([[ 1.9306,  2.1070, -2.8552,  0.5036]], device='cuda:0'), tensor([[ 2.0925,  2.7095, -2.9464, -0.0197]], device='cuda:0'), tensor([[ 2.1974,  3.0702, -3.1394, -0.0822]], device='cuda:0'), tensor([[ 1.8988,  2.0101, -2.4730,  0.1681]], device='cuda:0'), tensor([[ 2.1057,  0.8969, -1.9608,  0.4428]], device='cuda:0'), tensor([[ 2.1816,  0.9860, -2.1324,  0.5832]], device='cuda:0'), tensor([[ 2.6754,  1.6553, -2.8394,  0.2351]], device='cuda:0'), tensor([[ 2.0591,  0.9602, -1.7020,  0.0584]], device='cuda:0'), tensor([[ 2.4144,  3.7686, -3.5907, -0.5018]], device='cuda:0'), tensor([[ 2.5001,  0.2047, -2.0396,  0.8071]], device='cuda:0'), tensor([[ 2.0808, -0.4161, -1.7037,  1.2182]], device='cuda:0'), tensor([[ 1.9899,  0.4580, -1.6651,  0.4992]], device='cuda:0'), tensor([[ 2.2493,  1.2401, -2.1488,  0.1753]], device='cuda:0'), tensor([[ 2.5933,  2.2071, -3.0869,  0.3407]], device='cuda:0'), tensor([[ 2.9416,  3.1687, -3.9265,  0.2581]], device='cuda:0'), tensor([[ 2.2851,  3.0568, -3.4076,  0.0234]], device='cuda:0'), tensor([[ 2.0699,  3.2443, -3.0584, -0.3430]], device='cuda:0'), tensor([[ 2.7533,  4.0610, -4.1866, -0.0987]], device='cuda:0'), tensor([[ 2.6952,  1.1356, -2.6615,  0.6719]], device='cuda:0'), tensor([[ 2.1358,  3.5796, -3.4197, -0.1623]], device='cuda:0'), tensor([[ 2.0973,  2.7619, -2.6590, -0.4415]], device='cuda:0'), tensor([[ 1.4147,  2.4123, -1.6060, -1.0636]], device='cuda:0'), tensor([[ 0.9776,  0.3698, -0.1626, -0.7234]], device='cuda:0'), tensor([[ 1.0953,  0.4981, -0.4889, -0.4411]], device='cuda:0'), tensor([[ 1.8314, -1.3417, -0.7415,  1.1385]], device='cuda:0'), tensor([[ 1.7040, -0.6606, -0.7047,  0.4856]], device='cuda:0'), tensor([[ 2.3843, -1.2375, -1.3075,  1.2779]], device='cuda:0'), tensor([[ 1.9472,  1.5557, -1.8671, -0.4633]], device='cuda:0'), tensor([[ 2.6355,  0.5382, -2.3970,  0.8406]], device='cuda:0'), tensor([[ 2.5650, -0.1460, -2.0242,  0.9892]], device='cuda:0'), tensor([[ 2.4918, -0.1214, -2.0330,  1.1291]], device='cuda:0'), tensor([[ 2.1767,  0.5038, -1.9559,  0.6161]], device='cuda:0'), tensor([[ 2.3315, -0.6051, -1.0817,  0.3628]], device='cuda:0'), tensor([[ 2.2591,  0.2632, -1.8402,  0.6171]], device='cuda:0'), tensor([[ 2.3390,  0.8122, -2.4925,  0.9591]], device='cuda:0'), tensor([[ 1.8176,  1.0698, -1.9004,  0.3336]], device='cuda:0'), tensor([[ 1.9672,  2.0215, -2.2831, -0.3975]], device='cuda:0'), tensor([[ 2.2140, -2.2301, -0.9583,  1.8953]], device='cuda:0'), tensor([[ 2.2983, -1.3546, -1.9835,  2.5375]], device='cuda:0'), tensor([[ 2.3654, -0.3483, -2.2889,  1.8774]], device='cuda:0'), tensor([[ 2.4477, -0.3786, -2.6679,  2.3106]], device='cuda:0'), tensor([[ 2.1328, -0.5510, -1.6918,  1.3043]], device='cuda:0'), tensor([[ 2.7027, -0.7241, -2.4740,  2.2033]], device='cuda:0'), tensor([[ 1.0683, -2.1783, -0.0764,  1.5380]], device='cuda:0'), tensor([[-0.2850, -6.7549,  4.1046,  1.3754]], device='cuda:0')]\n"
          ]
        }
      ],
      "source": [
        "%rm youtube_melgrams.npy #delete npy file created from previous download\n",
        "youtube.youtube_to_melgram('https://www.youtube.com/watch?v=l45f28PzfCI&ab_channel=Zumramania') #get melgram for the link\n",
        "\n",
        "youtube_data = np.load('youtube_melgrams.npy') #load melgrams\n",
        "\n",
        "#dataloader\n",
        "youtube_dataset = _Dataset(youtube_data, transform=None)\n",
        "youtube_dataloader = DataLoader(youtube_dataset, batch_size=1, shuffle = False)\n",
        "\n",
        "#predict\n",
        "with torch.no_grad(): \n",
        "  l = youtube_pred(youtube_dataloader, model)\n",
        "print(l)"
      ]
    },
    {
      "cell_type": "markdown",
      "metadata": {
        "id": "cor54JlX7ch1"
      },
      "source": [
        "# **References**\n",
        "\n",
        "Since the project streched along summer I did not kept track from all the sites I counseled to implement the project. I definitely used some code from the lab and also used my code from my projects from last semester in Artificial Inteligence II. \n",
        "\n",
        "Some links:\n",
        "https://librosa.org/doc/main/auto_examples/plot_display.html\n",
        "https://pytorch.org/tutorials/beginner/audio_preprocessing_tutorial.html"
      ]
    }
  ],
  "metadata": {
    "accelerator": "GPU",
    "colab": {
      "collapsed_sections": [],
      "provenance": []
    },
    "gpuClass": "standard",
    "kernelspec": {
      "display_name": "Python 3",
      "name": "python3"
    },
    "language_info": {
      "name": "python"
    }
  },
  "nbformat": 4,
  "nbformat_minor": 0
}
